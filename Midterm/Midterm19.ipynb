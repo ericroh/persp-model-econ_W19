{
 "cells": [
  {
   "cell_type": "markdown",
   "metadata": {},
   "source": [
    "# Midterm (MACS 30150), February 11, 2019 [20 points total]\n",
    "### Solutions\n",
    "### [Hyunwoo]\n",
    "You will have an hour and fifty minutes to take this exam.\n",
    "1. Put your name in the space provided above (without the brackets).\n",
    "2. Download this notebook and accompanying data `MidtermScores.csv`.\n",
    "3. The class will disconnect their wi-fi and begin taking the exam.\n",
    "4. The exam is open computer, closed internet, open note.\n",
    "5. Once you are done, you will signal to a TA or instructor to come over and monitor while you reconnect to the internet and upload your edited notebook to Canvas.\n",
    "\n",
    "Remember that you must clearly indicate your answers to all questions below. We will give partial credit for partially correct answers. The midterm is worth 20 points (2 problem sets)."
   ]
  },
  {
   "cell_type": "markdown",
   "metadata": {},
   "source": [
    "# 1. Symbolic and Numerical Derivatives [10 points total]\n",
    "This exercise will use the following function. In a household savings problem, the marginal utility of consumption is an important function. If a household has a constant relative risk aversion utility function, the marginal utility functional form can be the following:\n",
    "\\begin{equation}\n",
    "  MU(c_t) \\equiv \\bigl(c_t\\bigr)^{-\\sigma}\n",
    "\\end{equation}\n",
    "where $c_t>0$ is current period consumption and $\\sigma\\geq 1$ is the coefficient of constant relative risk aversion.\n",
    "\n",
    "Assume the budget constraint every period is $c_t + b_{t+1} = (1+r_t)b_t + w_t$, where $b_t$ is the initial wealth in period $t$, $b_{t+1}$ is the savings chosen in period $t$ that comes back to the household in period $t+1$ with interest, and $w_t$ is the wage paid on the unit of inelastically supplied labor. Then we can rewrite the marginal utility of consumption above with the budget constraint substituted in.\n",
    "\\begin{equation}\n",
    "  MU = \\Bigl([1 + r_t]b_t + w_t - b_{t+1}\\Bigr)^{-\\sigma}\n",
    "\\end{equation}\n"
   ]
  },
  {
   "cell_type": "markdown",
   "metadata": {},
   "source": [
    "## 1a) Plot the MU(c) function for different consumption values [2 points]\n",
    "Assume that the coefficient of relative risk aversion is $\\sigma = 1.8$. Use Python to plot the marginal utility of consumption for 100 equally spaced consumption values between 0.7 and 5.0. Make sure your plot has an $x$-axis labeled \"consumption\" and a $y$-axis labeled \"marginal utility\"."
   ]
  },
  {
   "cell_type": "code",
   "execution_count": 138,
   "metadata": {},
   "outputs": [
    {
     "name": "stdout",
     "output_type": "stream",
     "text": [
      "(bt*(rt + 1) - bt1 + wt)**(-1.8)\n",
      "ct**(-1.8)\n"
     ]
    }
   ],
   "source": [
    "from matplotlib import pyplot as plt\n",
    "from sympy import *\n",
    "import sympy as sy\n",
    "import numpy as np\n",
    "import math\n",
    "\n",
    "ct = sy.symbols('ct')\n",
    "rt = sy.symbols('rt')\n",
    "bt = sy.symbols('bt')\n",
    "wt = sy.symbols('wt')\n",
    "bt1 = sy.symbols('bt1')\n",
    "Mu = ((1+rt)*bt+wt-bt1)**(-1.8)\n",
    "print(Mu)\n",
    "Mu_c = (ct)**(-1.8)\n",
    "print(Mu_c)"
   ]
  },
  {
   "cell_type": "code",
   "execution_count": 139,
   "metadata": {},
   "outputs": [
    {
     "data": {
      "image/png": "[encoded data removed]",
      "text/plain": [
       "<Figure size 432x288 with 1 Axes>"
      ]
     },
     "metadata": {
      "needs_background": "light"
     },
     "output_type": "display_data"
    }
   ],
   "source": [
    "mu_lamb=sy.lambdify(ct,Mu_c,'numpy')\n",
    "xvals = np.linspace(0.7, 5.0, 100)\n",
    "ax = plt.gca()\n",
    "ax.spines[\"bottom\"].set_position(\"zero\")\n",
    "ax.plot(xvals,mu_lamb(xvals))\n",
    "plt.ylim(-1,3)\n",
    "plt.grid()\n",
    "plt.show()"
   ]
  },
  {
   "cell_type": "markdown",
   "metadata": {},
   "source": [
    "## 1b) Symbolic numerical derivative [2 points]\n",
    "Assume the version of the marginal utility above that has the budget constraint substituted in.\n",
    "\\begin{equation}\n",
    "  MU = \\Bigl([1 + r_t]b_t + w_t - b_{t+1}\\Bigr)^{-\\sigma}\n",
    "\\end{equation}\n",
    "Use Python's symbolic math package `sympy` to compute the analytical derivative of the marginal utility function with respect to beginning-of-period wealth $b_t$. This will involve you declaring each variable and parameter as a symbol, then specifying the $MU$ funtion to be differentiated. The solution should be a function of all the variables and parameters $(b_t, b_{t+1}, r_t, w_t, \\sigma)$. Leave the output in the form that `sympy` produces."
   ]
  },
  {
   "cell_type": "code",
   "execution_count": 140,
   "metadata": {},
   "outputs": [
    {
     "name": "stdout",
     "output_type": "stream",
     "text": [
      "(bt*(rt + 1) - bt1 + wt)**(-sig)\n",
      "solution:\n",
      "-sig*(rt + 1)*(bt*(rt + 1) - bt1 + wt)**(-sig)/(bt*(rt + 1) - bt1 + wt)\n"
     ]
    }
   ],
   "source": [
    "ct = sy.symbols('ct')\n",
    "rt = sy.symbols('rt')\n",
    "bt = sy.symbols('bt')\n",
    "wt = sy.symbols('wt')\n",
    "bt1 = sy.symbols('bt1')\n",
    "sig = sy.symbols('sig')\n",
    "Mu = ((1+rt)*bt+wt-bt1)**(-sig)\n",
    "print(Mu)\n",
    "Mu_df = sy.diff(Mu,bt)\n",
    "print(\"solution:\")\n",
    "print(Mu_df)"
   ]
  },
  {
   "cell_type": "code",
   "execution_count": 141,
   "metadata": {},
   "outputs": [
    {
     "data": {
      "text/plain": [
       "(rt + wt - 2)**(-sig)"
      ]
     },
     "execution_count": 141,
     "metadata": {},
     "output_type": "execute_result"
    }
   ],
   "source": [
    "#practice\n",
    "mu_lamb=sy.lambdify((bt,bt1),Mu,'numpy')\n",
    "mu_lamb(1,3)"
   ]
  },
  {
   "cell_type": "markdown",
   "metadata": {},
   "source": [
    "## 1c) Write a function that produces the analytical derivative [3 points]\n",
    "Write a function that takes five inputs which are the values for the variables and parameters of the marginal utility $(b_t, b_{t+1}, r_t, w_t, \\sigma)$ and returns the analytical derivative of the marginal utility (scalar) with respect to beginning-of-period wealth $b_t$ associated with those values. Show your function definition in the cell below. Name your function `dMU_c`. Print out the value of the function for the following three combinations of variables and parameters.\n",
    "\n",
    "$$ \\frac{\\partial MU_1}{\\partial b_t}:\\quad b_t=1.0, \\:\\: b_{t+1}=0.8, \\:\\: r_t=0.04, \\:\\: w_t=1.2, \\:\\: \\sigma=2.2 $$\n",
    "\n",
    "$$ \\frac{\\partial MU_2}{\\partial b_t}:\\quad b_t=5.0, \\:\\: b_{t+1}=2.1, \\:\\: r_t=0.01, \\:\\: w_t=1.8, \\:\\: \\sigma=2.0 $$\n",
    "\n",
    "$$ \\frac{\\partial MU_3}{\\partial b_t}:\\quad b_t=3.3, \\:\\: b_{t+1}=3.4, \\:\\: r_t=0.03, \\:\\: w_t=1.0, \\:\\: \\sigma=1.8 $$"
   ]
  },
  {
   "cell_type": "code",
   "execution_count": 142,
   "metadata": {},
   "outputs": [],
   "source": [
    "# We can use the derived formula above\n",
    "# Practive\n",
    "def dMU_c(bt,bt1,rt,wt,sig):\n",
    "    return -sig*(rt+1)*(bt*(rt+1)-bt1+wt)**(-sig)/(bt*(rt+1)-bt1+wt)"
   ]
  },
  {
   "cell_type": "code",
   "execution_count": 143,
   "metadata": {},
   "outputs": [
    {
     "name": "stdout",
     "output_type": "stream",
     "text": [
      "-0.7123542921746638\n",
      "-0.006868887975493033\n",
      "-5.240011929948003\n"
     ]
    }
   ],
   "source": [
    "print(dMU_c(1.0,0.8,0.04,1.2,2.2))\n",
    "print(dMU_c(5.0,0.2,0.01,1.8,2.0))\n",
    "print(dMU_c(3.0,3.4,0.03,1.0,1.8))"
   ]
  },
  {
   "cell_type": "code",
   "execution_count": 149,
   "metadata": {},
   "outputs": [
    {
     "name": "stdout",
     "output_type": "stream",
     "text": [
      "-0.7123542921746638\n",
      "-0.006868887975493033\n",
      "-5.240011929948003\n"
     ]
    }
   ],
   "source": [
    "# practive\n",
    "rt = sy.symbols('rt')\n",
    "bt = sy.symbols('bt')\n",
    "wt = sy.symbols('wt')\n",
    "bt1 = sy.symbols('bt1')\n",
    "sig = sy.symbols('sig')\n",
    "Mu = ((1+rt)*bt+wt-bt1)**(-sig)\n",
    "Mup = Mu.diff(bt)\n",
    "Mup_np = sy.lambdify((bt,bt1,rt,wt,sig), Mup, 'numpy')\n",
    "print(Mup_np(1.0,0.8,0.04,1.2,2.2))\n",
    "print(Mup_np(5.0,0.2,0.01,1.8,2.0))\n",
    "print(Mup_np(3.0,3.4,0.03,1.0,1.8))"
   ]
  },
  {
   "cell_type": "code",
   "execution_count": 150,
   "metadata": {},
   "outputs": [],
   "source": [
    "# Solution\n",
    "def dMu_c(bt,bt1,rt,wt,sig):\n",
    "    rt = sy.symbols('rt')\n",
    "    bt = sy.symbols('bt')\n",
    "    wt = sy.symbols('wt')\n",
    "    bt1 = sy.symbols('bt1')\n",
    "    sig = sy.symbols('sig')\n",
    "    Mu = ((1+rt)*bt+wt-bt1)**(-sig)\n",
    "    Mup = Mu.diff(bt)\n",
    "    Mup_np = sy.lambdify((bt,bt1,rt,wt,sig), Mup, 'numpy')\n",
    "    return Mup_np(bt,bt1,rt,wt,sig)"
   ]
  },
  {
   "cell_type": "code",
   "execution_count": 151,
   "metadata": {},
   "outputs": [
    {
     "data": {
      "text/plain": [
       "-sig*(rt + 1)*(bt*(rt + 1) - bt1 + wt)**(-sig)/(bt*(rt + 1) - bt1 + wt)"
      ]
     },
     "execution_count": 151,
     "metadata": {},
     "output_type": "execute_result"
    }
   ],
   "source": [
    "dMu_c(1.0,0.8,0.04,1.2,2.2)"
   ]
  },
  {
   "cell_type": "code",
   "execution_count": 152,
   "metadata": {},
   "outputs": [
    {
     "data": {
      "text/plain": [
       "-sig*(rt + 1)*(bt*(rt + 1) - bt1 + wt)**(-sig)/(bt*(rt + 1) - bt1 + wt)"
      ]
     },
     "execution_count": 152,
     "metadata": {},
     "output_type": "execute_result"
    }
   ],
   "source": [
    "dMu_c(5.0,0.2,0.01,1.8,2.0)"
   ]
  },
  {
   "cell_type": "code",
   "execution_count": 153,
   "metadata": {},
   "outputs": [
    {
     "data": {
      "text/plain": [
       "-sig*(rt + 1)*(bt*(rt + 1) - bt1 + wt)**(-sig)/(bt*(rt + 1) - bt1 + wt)"
      ]
     },
     "execution_count": 153,
     "metadata": {},
     "output_type": "execute_result"
    }
   ],
   "source": [
    "dMu_c(3.0,3.4,0.03,1.0,1.8)"
   ]
  },
  {
   "cell_type": "markdown",
   "metadata": {},
   "source": [
    "## 1d) Compute the numerical derivative approximation [3 points]\n",
    "Use the centered second-order finite difference approximation of the derivative to calculate the numerical derivative of the marginal utility function.\n",
    "\n",
    "$$ f'(x_0)\\approx \\frac{f(x_0 + h) - f(x_0 - h)}{2h} $$\n",
    "\n",
    "Recall that our marginal utility function is a function of four variables and the parameter $\\sigma$.\n",
    "\\begin{equation}\n",
    "  MU = \\Bigl([1 + r_t]b_t + w_t - b_{t+1}\\Bigr)^{-\\sigma}\n",
    "\\end{equation}\n",
    "So we want to approximate the derivative of the marginal utility with respect to beginning-of-period wealth $\\partial MU(c)/\\partial b_t$ by using the centered second-order finite difference approximation above. A helpful hint on how to do this is the marginal utility function is like $f(x)$ and the derivative is the centered second-order approximation equation.\n",
    "\n",
    "Define a function named `dMU_c_approx` that takes as inputs the five variables and parameters $(b_t, b_{t+1}, r_t, w_t, \\sigma)$ as well as a finite difference amount $h$. Have this function return the centered second-order approximation of the derivative of the marginal utility function with respect to beginning-of-period wealth.\n",
    "\n",
    "Using your `dMU_c` function from part (c), print the analytical derivative of the marginal utility function with respect to beginning-of-period wealth with the following parameterization.\n",
    "\n",
    "$$ \\frac{\\partial MU}{\\partial b_t}:\\quad b_t=1.0, \\:\\: b_{t+1}=0.8, \\:\\: r_t=0.04, \\:\\: w_t=1.2, \\:\\: \\sigma=2.2 $$\n",
    "\n",
    "Use your `dMU_c_approx` function to print out the numerical approximation of the derivative for the specification above with the following three finite difference amounts: $h_1 = 0.1$, $h_2= 0.001$ and  $h_3=0.00001$."
   ]
  },
  {
   "cell_type": "code",
   "execution_count": 154,
   "metadata": {},
   "outputs": [],
   "source": [
    "x = (bt,bt1,rt,wt,sig)\n",
    "x\n",
    "Mu_c = (ct)**(-1.8)\n",
    "Mu_c_np = sy.lambdify(ct,Mu_c,'numpy')\n"
   ]
  },
  {
   "cell_type": "code",
   "execution_count": 157,
   "metadata": {},
   "outputs": [
    {
     "name": "stdout",
     "output_type": "stream",
     "text": [
      "[-5.06850237 -4.26438663 -3.62482761 -3.10930904 -2.68881856 -2.34218627\n",
      " -2.05370354 -1.81153761 -1.60665362 -1.43206773 -1.28232071 -1.15310117\n",
      " -1.04097203 -0.94316929 -0.85745237 -0.78199136 -0.71528135 -0.65607671\n",
      " -0.60334015 -0.55620295 -0.51393372 -0.47591355 -0.44161625 -0.41059249\n",
      " -0.38245689 -0.35687765 -0.33356798 -0.31227912 -0.29279453 -0.27492513\n",
      " -0.25850528 -0.24338946 -0.22944944 -0.21657194 -0.20465661 -0.19361434\n",
      " -0.1833658  -0.17384023 -0.16497435 -0.15671144 -0.1490006  -0.14179602\n",
      " -0.1350564  -0.12874446 -0.12282647 -0.11727185 -0.11205286 -0.10714427\n",
      " -0.10252312 -0.09816845 -0.09406115 -0.09018372 -0.08652013 -0.0830557\n",
      " -0.07977694 -0.07667146 -0.07372783 -0.07093555 -0.06828492 -0.06576697\n",
      " -0.06337342 -0.06109662 -0.05892944 -0.05686532 -0.05489812 -0.05302218\n",
      " -0.05123221 -0.04952329 -0.04789083 -0.04633058 -0.04483853 -0.04341096\n",
      " -0.04204439 -0.04073558 -0.03948145 -0.03827917 -0.03712605 -0.03601958\n",
      " -0.0349574  -0.03393729 -0.03295717 -0.03201508 -0.03110918 -0.03023772\n",
      " -0.02939907 -0.02859168 -0.0278141  -0.02706495 -0.02634292 -0.02564679\n",
      " -0.02497539 -0.02432764 -0.02370247 -0.02309892 -0.02251603 -0.02195293\n",
      " -0.02140878 -0.02088277 -0.02037416 -0.01988221]\n",
      "[-4.88826996 -4.12983335 -3.52265867 -3.03055159 -2.62728289 -2.29351842\n",
      " -2.01478667 -1.78010481 -1.58103224 -1.41100727 -1.26487494 -1.13854613\n",
      " -1.02874811 -0.93283984 -0.84867363 -0.7744905  -0.70884018 -0.65051948\n",
      " -0.59852433 -0.55201223 -0.51027263 -0.47270326 -0.43879137 -0.40809846\n",
      " -0.380248   -0.35491542 -0.33181988 -0.31071754 -0.29139594 -0.27366941\n",
      " -0.25737517 -0.24237008 -0.22852794 -0.21573719 -0.20389892 -0.19292528\n",
      " -0.18273801 -0.17326723 -0.16445047 -0.15623169 -0.14856055 -0.14139178\n",
      " -0.1346845  -0.12840183 -0.12251036 -0.11697983 -0.11178274 -0.1068941\n",
      " -0.10229114 -0.0979531  -0.093861   -0.08999749 -0.08634667 -0.08289397\n",
      " -0.07962599 -0.07653043 -0.07359596 -0.07081212 -0.06816928 -0.06565854\n",
      " -0.06327167 -0.06100104 -0.0588396  -0.0567808  -0.05481855 -0.05294721\n",
      " -0.05116153 -0.0494566  -0.04782787 -0.04627108 -0.04478228 -0.04335774\n",
      " -0.04199402 -0.04068785 -0.03943622 -0.03823627 -0.03708534 -0.03598093\n",
      " -0.03492068 -0.03390239 -0.03292398 -0.0319835  -0.03107911 -0.03020908\n",
      " -0.02937178 -0.02856567 -0.02778928 -0.02704126 -0.02632031 -0.02562519\n",
      " -0.02495476 -0.02430791 -0.02368361 -0.02308086 -0.02249875 -0.02193639\n",
      " -0.02139293 -0.02086759 -0.0203596  -0.01986825]\n",
      "[-4.88650101 -4.12850838 -3.52164982 -3.02977209 -2.62667263 -2.29303495\n",
      " -2.01439949 -1.77979169 -1.58077672 -1.41079702 -1.26470062 -1.13840058\n",
      " -1.02862579 -0.93273641 -0.84858568 -0.77441531 -0.70877559 -0.65046372\n",
      " -0.59847599 -0.55197016 -0.51023586 -0.47267101 -0.43876298 -0.40807339\n",
      " -0.38022579 -0.35489569 -0.3318023  -0.31070183 -0.29138187 -0.27365678\n",
      " -0.25736379 -0.24235982 -0.22851866 -0.21572878 -0.20389129 -0.19291834\n",
      " -0.18273168 -0.17326146 -0.16444519 -0.15622685 -0.14855612 -0.1413877\n",
      " -0.13468075 -0.12839837 -0.12250717 -0.11697688 -0.11178001 -0.10689158\n",
      " -0.1022888  -0.09795093 -0.09385898 -0.08999561 -0.08634492 -0.08289234\n",
      " -0.07962447 -0.07652901 -0.07359463 -0.07081087 -0.06816811 -0.06565745\n",
      " -0.06327064 -0.06100008 -0.0588387  -0.05677995 -0.05481775 -0.05294646\n",
      " -0.05116081 -0.04945592 -0.04782723 -0.04627048 -0.04478171 -0.04335721\n",
      " -0.04199351 -0.04068737 -0.03943577 -0.03823584 -0.03708493 -0.03598054\n",
      " -0.03492031 -0.03390204 -0.03292365 -0.03198318 -0.03107881 -0.0302088\n",
      " -0.02937151 -0.0285654  -0.02778903 -0.02704102 -0.02632008 -0.02562497\n",
      " -0.02495455 -0.02430771 -0.02368341 -0.02308068 -0.02249858 -0.02193622\n",
      " -0.02139277 -0.02086743 -0.02035945 -0.01986811]\n"
     ]
    },
    {
     "data": {
      "text/plain": [
       "-sig*(rt + 1)*(bt*(rt + 1) - bt1 + wt)**(-sig)/(bt*(rt + 1) - bt1 + wt)"
      ]
     },
     "execution_count": 157,
     "metadata": {},
     "output_type": "execute_result"
    }
   ],
   "source": [
    "Mu = ((1+rt)*bt+wt-bt1)**(-sig)\n",
    "Mu_np = sy.lambdify(bt, Mu, 'numpy')\n",
    "\n",
    "# Centered second-order finite difference approximation\n",
    "def dMU_c_approx(f, x, h):\n",
    "    return (f(x+h)-f(x-h))/(2*h)\n",
    "\n",
    "print(dMU_c_approx(Mu_c_np,xvals,0.1))\n",
    "print(dMU_c_approx(Mu_c_np,xvals,0.01))\n",
    "print(dMU_c_approx(Mu_c_np,xvals,0.00001))\n",
    "\n",
    "\n",
    "\n",
    "dMu_c(1.0,0.8,0.04,1.2,2.2)"
   ]
  },
  {
   "cell_type": "markdown",
   "metadata": {},
   "source": [
    "# 2. Maximum likelihood estimation [10 points total]\n",
    "This exercise will make use of the `MidtermScores.csv` dataset, which contains 97 observations of students' midterm scores $scores_i$ as well as the number of hours they studied for the midterm $hours_i$ and whether the midterm was within a week of Chinese New Year $ch\\_ny_i$.\n",
    "\n",
    "* `scores`: score of $i$th student on midterm\n",
    "* `hours`: number of hours that $i$th student studied for the midterm\n",
    "* `ch_ny`: =1 if the midterm was within a week of Chinese New Year, =0 otherwise\n",
    "\n",
    "You can load these data into Python as a numpy array using the `np.loadtxt()` command."
   ]
  },
  {
   "cell_type": "code",
   "execution_count": 158,
   "metadata": {},
   "outputs": [
    {
     "name": "stdout",
     "output_type": "stream",
     "text": [
      "Shape of the data= (97, 3)\n"
     ]
    }
   ],
   "source": [
    "import numpy as np\n",
    "import scipy.stats as sts\n",
    "import math\n",
    "import matplotlib.pyplot as plt\n",
    "data = np.loadtxt('MidtermScores.csv', delimiter=',', skiprows=1)\n",
    "print('Shape of the data=', data.shape)\n",
    "scores = data[:, 0]\n",
    "hours = data[:, 1]\n",
    "ch_ny = data[:, 2]"
   ]
  },
  {
   "cell_type": "markdown",
   "metadata": {},
   "source": [
    "Assume that our model of student midterm scores is the following linear model.\n",
    "\n",
    "$$ scores_i = \\beta_0 + \\beta_1 hours_i + \\beta_2 ch\\_ny_i + \\varepsilon_i \\quad\\text{where}\\quad \\varepsilon_i\\sim N(0,\\sigma) $$\n",
    "\n",
    "where the error $\\varepsilon_i$ are normally distributed with mean 0 and standard deviation $\\sigma$."
   ]
  },
  {
   "cell_type": "markdown",
   "metadata": {},
   "source": [
    "## 2a) Log likelihood function [3 points]\n",
    "Define a function named `log_lik` that takes as inputs three data vectors $scores_i$, $hours_i$, $ch\\_ny_i$, three coefficient parameters $\\beta_0$, $\\beta_1$, $\\beta_2$, and the standard deviation $\\sigma$ of the normally distributed errors and returns the log likelihood (a scalar). Print the log likelihood value for the first 10 data observations given all the coefficients are equal to one $\\beta_0, \\beta_1, \\beta_2=1.0$ and the standard deviation of the errors is equal to $\\sigma=0.5$. For the answer to this question, I want to see a function and one scalar log-likelihood value."
   ]
  },
  {
   "cell_type": "code",
   "execution_count": 159,
   "metadata": {},
   "outputs": [
    {
     "name": "stdout",
     "output_type": "stream",
     "text": [
      "[[14.27486472 16.33451936  1.        ]\n",
      " [12.43908925 13.96817251  1.        ]\n",
      " [13.44564122 15.1141107   1.        ]\n",
      " [11.80502786 11.90767044  1.        ]\n",
      " [11.17552603 12.37565853  1.        ]\n",
      " [15.92645829 17.78338874  1.        ]\n",
      " [14.49058816 15.52585085  1.        ]\n",
      " [15.75878367 13.80274201  0.        ]\n",
      " [11.6216479  12.19598896  1.        ]]\n"
     ]
    }
   ],
   "source": [
    "data1 = data[1:10]\n",
    "data1\n",
    "scores1 = data1[:, 0]\n",
    "hours1 = data1[:, 1]\n",
    "ch_ny1 = data1[:, 2]\n",
    "print(data1)"
   ]
  },
  {
   "cell_type": "code",
   "execution_count": 160,
   "metadata": {},
   "outputs": [
    {
     "name": "stdout",
     "output_type": "stream",
     "text": [
      "The value of the log likelihood function -179.40177468752907\n"
     ]
    }
   ],
   "source": [
    "def log_lik(xvals, mu, sigma):\n",
    "    pdf_vals = sts.norm.pdf(xvals, loc = mu, scale = sigma)\n",
    "    ln_pdf_vals = np.log(pdf_vals)\n",
    "    log_lik_val = ln_pdf_vals.sum()\n",
    "    return log_lik_val\n",
    "\n",
    "b_0_LR=1\n",
    "b_1_LR=1\n",
    "b_2_LR=1\n",
    "sig_0_LR=0.5\n",
    "\n",
    "#with variables with first 10 as defined above\n",
    "res = scores1 - b_0_LR - b_1_LR * hours1 - b_2_LR * ch_ny1\n",
    "\n",
    "print(\"The value of the log likelihood function\", log_lik(res, 0, sig_0_LR))"
   ]
  },
  {
   "cell_type": "markdown",
   "metadata": {},
   "source": [
    "## 2b) Estimate the parameters by MLE [7 points]\n",
    "Estimate the four parameters $\\beta_0, \\beta_1, \\beta_2, \\sigma$ to maximize the log likelihood from part (a). Remember that a minimizer will have to minimize the negative of the log likelihood. Use all 97 observations for this estimation. Use an initial guess of $\\beta_0=10.0$, $\\beta_1=1.0$, $\\beta_2=1.0$, and $\\sigma=$ the standard deviation of the $scores_i$ variable. Report your estimated coefficients $\\beta_0, \\beta_1, \\beta_2$ and standard deviation $\\sigma$. What is the predicted effect on a midterm score of a student who takes the test around Chineses New Year $ch\\_ny_i=1$ versus the score of a student who does not take the test around Chinese New year $ch\\_ny_i=0$, other things being equal?"
   ]
  },
  {
   "cell_type": "code",
   "execution_count": 161,
   "metadata": {},
   "outputs": [
    {
     "data": {
      "text/plain": [
       "4.902365049446736"
      ]
     },
     "execution_count": 161,
     "metadata": {},
     "output_type": "execute_result"
    }
   ],
   "source": [
    "score_var = np.var(scores)\n",
    "score_var"
   ]
  },
  {
   "cell_type": "code",
   "execution_count": 162,
   "metadata": {},
   "outputs": [
    {
     "name": "stdout",
     "output_type": "stream",
     "text": [
      "Parameters are: 4.750441434856798 0.7157362310213088 -1.8909272934124568 0.42608775256366566\n",
      "The value of the log likelihood function -96.26120579657866\n",
      "The estimated variance covariance matrix is:\n",
      "[[ 1.43765831e-01 -8.64548666e-03 -1.32290127e-02  2.35045539e-04]\n",
      " [-8.64548666e-03  5.89843061e-04 -2.39443056e-04  6.60059151e-07]\n",
      " [-1.32290127e-02 -2.39443056e-04  2.24884802e-02 -1.89289929e-04]\n",
      " [ 2.35045539e-04  6.60059151e-07 -1.89289929e-04  2.08120472e-03]]\n"
     ]
    }
   ],
   "source": [
    "def crit_LR(params, *args):\n",
    "    \n",
    "    beta_0, beta_1, beta_2, sigma = params\n",
    "    scores, hours, ch_ny = args\n",
    "    n = len(scores)\n",
    "    sigma2 = sigma * sigma\n",
    "    xvals = scores - beta_0 - beta_1 * hours - beta_2 * ch_ny\n",
    "    #log_lik_val= log_lik_truncnorm(xvals, mu, sigma, cut_lb, cut_ub)\n",
    "    log_lik_val = -n/2*np.log(2*np.pi*sigma2) - 1/(2*sigma2)*(xvals).T @ (xvals)\n",
    "    neg_log_lik_val = -log_lik_val\n",
    "                         \n",
    "    return neg_log_lik_val\n",
    "\n",
    "def log_lik(xvals, mu, sigma):\n",
    "    pdf_vals = sts.norm.pdf(xvals, loc = mu, scale = sigma)\n",
    "    ln_pdf_vals = np.log(pdf_vals)\n",
    "    log_lik_val = ln_pdf_vals.sum()\n",
    "    \n",
    "    return log_lik_val\n",
    "\n",
    "import scipy.optimize as opt\n",
    "params_init = np.array([10,1,1,score_var])\n",
    "LR_args = (scores, hours, ch_ny)\n",
    "result_2 = opt.minimize(crit_LR, params_init, args=LR_args, method = 'BFGS')\n",
    "b_0_LR, b_1_LR, b_2_LR, sig_0_LR = result_2.x\n",
    "sig_0_LR = np.absolute(sig_0_LR)\n",
    "\n",
    "res = scores - b_0_LR - b_1_LR * hours - b_2_LR * ch_ny\n",
    "\n",
    "h_inv = result_2.hess_inv\n",
    "\n",
    "#stderr_mu_mle = np.sqrt(vcv_mle[0,0])\n",
    "#stderr_sig_mle = np.sqrt(vcv_mle[1,1])\n",
    "print(\"Parameters are:\", b_0_LR, b_1_LR, b_2_LR,sig_0_LR*sig_0_LR)\n",
    "print(\"The value of the log likelihood function\", log_lik(res, 0, sig_0_LR))\n",
    "print(\"The estimated variance covariance matrix is:\")\n",
    "print(result_2.hess_inv)\n"
   ]
  },
  {
   "cell_type": "markdown",
   "metadata": {},
   "source": [
    "What is the predicted effect on a midterm score of a student who takes the test around Chineses New Year $ch\\_ny_i=1$ versus the score of a student who does not take the test around Chinese New year $ch\\_ny_i=0$, other things being equal?\n",
    "\n",
    "We need to use the calculated betas to do that"
   ]
  },
  {
   "cell_type": "code",
   "execution_count": 163,
   "metadata": {},
   "outputs": [
    {
     "name": "stdout",
     "output_type": "stream",
     "text": [
      "expected score of the student who takes the test around CNY: 13.472579258565442\n",
      "expected score of the student who does not take the test around CNY: 15.363506551977899\n"
     ]
    }
   ],
   "source": [
    "ch_ny_1 = sum(b_0_LR + b_1_LR * hours + b_2_LR * 1)/97\n",
    "ch_ny_0 = sum(b_0_LR + b_1_LR * hours + b_2_LR * 0)/97\n",
    "print(\"expected score of the student who takes the test around CNY:\",ch_ny_1)\n",
    "print(\"expected score of the student who does not take the test around CNY:\",ch_ny_0)"
   ]
  },
  {
   "cell_type": "markdown",
   "metadata": {},
   "source": [
    "Chinese new year = 1 has a less socre on midterm so the negative effect on the midterm as expected!"
   ]
  },
  {
   "cell_type": "code",
   "execution_count": null,
   "metadata": {},
   "outputs": [],
   "source": []
  }
 ],
 "metadata": {
  "kernelspec": {
   "display_name": "Python 3",
   "language": "python",
   "name": "python3"
  },
  "language_info": {
   "codemirror_mode": {
    "name": "ipython",
    "version": 3
   },
   "file_extension": ".py",
   "mimetype": "text/x-python",
   "name": "python",
   "nbconvert_exporter": "python",
   "pygments_lexer": "ipython3",
   "version": "3.7.1"
  }
 },
 "nbformat": 4,
 "nbformat_minor": 2
}
