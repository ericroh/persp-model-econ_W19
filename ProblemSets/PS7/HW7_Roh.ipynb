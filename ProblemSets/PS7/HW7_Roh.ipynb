{
 "cells": [
  {
   "cell_type": "markdown",
   "metadata": {},
   "source": [
    "# HW7\n",
    "# Name: Hyunwoo Roh"
   ]
  },
  {
   "cell_type": "code",
   "execution_count": 1,
   "metadata": {},
   "outputs": [],
   "source": [
    "import pandas as pd\n",
    "import numpy as np\n",
    "import matplotlib.pyplot as plt\n",
    "import statsmodels.api as sm\n",
    "from sklearn.model_selection import train_test_split\n",
    "from sklearn.metrics import classification_report, confusion_matrix\n",
    "from sklearn import preprocessing\n",
    "from sklearn.linear_model import LogisticRegression\n",
    "from sklearn.linear_model import LinearRegression\n",
    "from sklearn.model_selection import train_test_split, LeaveOneOut, KFold, cross_val_score\n",
    "from sklearn import metrics \n",
    "from sklearn.metrics import classification_report, mean_squared_error\n",
    "from scipy.interpolate import LSQUnivariateSpline"
   ]
  },
  {
   "cell_type": "markdown",
   "metadata": {},
   "source": [
    "# Question1: Multinomial logistic regression and cross validation\n",
    "\n",
    "### (a) Use a multinomial logistic regression model of the following form with the following linear predictor\n",
    " \n",
    "<br>(1) Estimate the model on a 75% sample training set using the following command. \n",
    "<br>(2) Report your two sets of estimated coecients and intercepts forj = 1 and j = 2 (not the coecients for j = 3). Report your error rates (1 - precision) on the test set using the code below. \n",
    "<br>(3) Which category(ies) of cultivar is the model best at predicting? \n",
    "<br>(4) Is (are) the most accurately predicted category(ies) the one(s) with the most observations? \n",
    "<br>(5) Report the MSE from the test set."
   ]
  },
  {
   "cell_type": "code",
   "execution_count": 2,
   "metadata": {
    "scrolled": true
   },
   "outputs": [
    {
     "data": {
      "text/html": [
       "<div>\n",
       "<style scoped>\n",
       "    .dataframe tbody tr th:only-of-type {\n",
       "        vertical-align: middle;\n",
       "    }\n",
       "\n",
       "    .dataframe tbody tr th {\n",
       "        vertical-align: top;\n",
       "    }\n",
       "\n",
       "    .dataframe thead th {\n",
       "        text-align: right;\n",
       "    }\n",
       "</style>\n",
       "<table border=\"1\" class=\"dataframe\">\n",
       "  <thead>\n",
       "    <tr style=\"text-align: right;\">\n",
       "      <th></th>\n",
       "      <th>cultivar</th>\n",
       "      <th>alco</th>\n",
       "      <th>malic</th>\n",
       "      <th>ash</th>\n",
       "      <th>alk</th>\n",
       "      <th>magn</th>\n",
       "      <th>tot_phen</th>\n",
       "      <th>flav</th>\n",
       "      <th>nonfl_phen</th>\n",
       "      <th>proanth</th>\n",
       "      <th>color_int</th>\n",
       "      <th>hue</th>\n",
       "      <th>OD280rat</th>\n",
       "      <th>proline</th>\n",
       "    </tr>\n",
       "  </thead>\n",
       "  <tbody>\n",
       "    <tr>\n",
       "      <th>count</th>\n",
       "      <td>176.000000</td>\n",
       "      <td>176.000000</td>\n",
       "      <td>176.000000</td>\n",
       "      <td>176.000000</td>\n",
       "      <td>176.000000</td>\n",
       "      <td>176.000000</td>\n",
       "      <td>176.000000</td>\n",
       "      <td>176.000000</td>\n",
       "      <td>176.000000</td>\n",
       "      <td>176.000000</td>\n",
       "      <td>176.000000</td>\n",
       "      <td>176.000000</td>\n",
       "      <td>176.000000</td>\n",
       "      <td>176.000000</td>\n",
       "    </tr>\n",
       "    <tr>\n",
       "      <th>mean</th>\n",
       "      <td>1.926136</td>\n",
       "      <td>13.006534</td>\n",
       "      <td>2.327159</td>\n",
       "      <td>2.367386</td>\n",
       "      <td>19.492045</td>\n",
       "      <td>99.840909</td>\n",
       "      <td>2.298920</td>\n",
       "      <td>2.043352</td>\n",
       "      <td>0.359545</td>\n",
       "      <td>1.597727</td>\n",
       "      <td>5.031761</td>\n",
       "      <td>0.961000</td>\n",
       "      <td>2.623409</td>\n",
       "      <td>748.477273</td>\n",
       "    </tr>\n",
       "    <tr>\n",
       "      <th>std</th>\n",
       "      <td>0.771047</td>\n",
       "      <td>0.814431</td>\n",
       "      <td>1.117747</td>\n",
       "      <td>0.275617</td>\n",
       "      <td>3.355821</td>\n",
       "      <td>14.329499</td>\n",
       "      <td>0.627333</td>\n",
       "      <td>0.995579</td>\n",
       "      <td>0.123046</td>\n",
       "      <td>0.571958</td>\n",
       "      <td>2.317965</td>\n",
       "      <td>0.227225</td>\n",
       "      <td>0.705369</td>\n",
       "      <td>316.208737</td>\n",
       "    </tr>\n",
       "    <tr>\n",
       "      <th>min</th>\n",
       "      <td>1.000000</td>\n",
       "      <td>11.030000</td>\n",
       "      <td>0.740000</td>\n",
       "      <td>1.360000</td>\n",
       "      <td>10.600000</td>\n",
       "      <td>70.000000</td>\n",
       "      <td>0.980000</td>\n",
       "      <td>0.340000</td>\n",
       "      <td>0.130000</td>\n",
       "      <td>0.410000</td>\n",
       "      <td>1.280000</td>\n",
       "      <td>0.480000</td>\n",
       "      <td>1.270000</td>\n",
       "      <td>278.000000</td>\n",
       "    </tr>\n",
       "    <tr>\n",
       "      <th>25%</th>\n",
       "      <td>1.000000</td>\n",
       "      <td>12.362500</td>\n",
       "      <td>1.597500</td>\n",
       "      <td>2.210000</td>\n",
       "      <td>17.175000</td>\n",
       "      <td>88.000000</td>\n",
       "      <td>1.747500</td>\n",
       "      <td>1.242500</td>\n",
       "      <td>0.267500</td>\n",
       "      <td>1.250000</td>\n",
       "      <td>3.200000</td>\n",
       "      <td>0.790000</td>\n",
       "      <td>1.990000</td>\n",
       "      <td>500.000000</td>\n",
       "    </tr>\n",
       "    <tr>\n",
       "      <th>50%</th>\n",
       "      <td>2.000000</td>\n",
       "      <td>13.050000</td>\n",
       "      <td>1.845000</td>\n",
       "      <td>2.360000</td>\n",
       "      <td>19.500000</td>\n",
       "      <td>98.000000</td>\n",
       "      <td>2.380000</td>\n",
       "      <td>2.155000</td>\n",
       "      <td>0.340000</td>\n",
       "      <td>1.560000</td>\n",
       "      <td>4.640000</td>\n",
       "      <td>0.975000</td>\n",
       "      <td>2.780000</td>\n",
       "      <td>673.500000</td>\n",
       "    </tr>\n",
       "    <tr>\n",
       "      <th>75%</th>\n",
       "      <td>3.000000</td>\n",
       "      <td>13.682500</td>\n",
       "      <td>3.047500</td>\n",
       "      <td>2.560000</td>\n",
       "      <td>21.500000</td>\n",
       "      <td>107.250000</td>\n",
       "      <td>2.800000</td>\n",
       "      <td>2.882500</td>\n",
       "      <td>0.430000</td>\n",
       "      <td>1.952500</td>\n",
       "      <td>6.147500</td>\n",
       "      <td>1.120000</td>\n",
       "      <td>3.172500</td>\n",
       "      <td>986.250000</td>\n",
       "    </tr>\n",
       "    <tr>\n",
       "      <th>max</th>\n",
       "      <td>3.000000</td>\n",
       "      <td>14.830000</td>\n",
       "      <td>5.800000</td>\n",
       "      <td>3.230000</td>\n",
       "      <td>30.000000</td>\n",
       "      <td>162.000000</td>\n",
       "      <td>3.880000</td>\n",
       "      <td>5.080000</td>\n",
       "      <td>0.660000</td>\n",
       "      <td>3.580000</td>\n",
       "      <td>13.000000</td>\n",
       "      <td>1.710000</td>\n",
       "      <td>4.000000</td>\n",
       "      <td>1680.000000</td>\n",
       "    </tr>\n",
       "  </tbody>\n",
       "</table>\n",
       "</div>"
      ],
      "text/plain": [
       "         cultivar        alco       malic         ash         alk        magn  \\\n",
       "count  176.000000  176.000000  176.000000  176.000000  176.000000  176.000000   \n",
       "mean     1.926136   13.006534    2.327159    2.367386   19.492045   99.840909   \n",
       "std      0.771047    0.814431    1.117747    0.275617    3.355821   14.329499   \n",
       "min      1.000000   11.030000    0.740000    1.360000   10.600000   70.000000   \n",
       "25%      1.000000   12.362500    1.597500    2.210000   17.175000   88.000000   \n",
       "50%      2.000000   13.050000    1.845000    2.360000   19.500000   98.000000   \n",
       "75%      3.000000   13.682500    3.047500    2.560000   21.500000  107.250000   \n",
       "max      3.000000   14.830000    5.800000    3.230000   30.000000  162.000000   \n",
       "\n",
       "         tot_phen        flav  nonfl_phen     proanth   color_int         hue  \\\n",
       "count  176.000000  176.000000  176.000000  176.000000  176.000000  176.000000   \n",
       "mean     2.298920    2.043352    0.359545    1.597727    5.031761    0.961000   \n",
       "std      0.627333    0.995579    0.123046    0.571958    2.317965    0.227225   \n",
       "min      0.980000    0.340000    0.130000    0.410000    1.280000    0.480000   \n",
       "25%      1.747500    1.242500    0.267500    1.250000    3.200000    0.790000   \n",
       "50%      2.380000    2.155000    0.340000    1.560000    4.640000    0.975000   \n",
       "75%      2.800000    2.882500    0.430000    1.952500    6.147500    1.120000   \n",
       "max      3.880000    5.080000    0.660000    3.580000   13.000000    1.710000   \n",
       "\n",
       "         OD280rat      proline  \n",
       "count  176.000000   176.000000  \n",
       "mean     2.623409   748.477273  \n",
       "std      0.705369   316.208737  \n",
       "min      1.270000   278.000000  \n",
       "25%      1.990000   500.000000  \n",
       "50%      2.780000   673.500000  \n",
       "75%      3.172500   986.250000  \n",
       "max      4.000000  1680.000000  "
      ]
     },
     "execution_count": 2,
     "metadata": {},
     "output_type": "execute_result"
    }
   ],
   "source": [
    "# read in data\n",
    "df=pd.read_csv(\"data/strongdrink.txt\")\n",
    "df.describe()"
   ]
  },
  {
   "cell_type": "code",
   "execution_count": 3,
   "metadata": {},
   "outputs": [
    {
     "data": {
      "text/plain": [
       "2    71\n",
       "1    59\n",
       "3    46\n",
       "Name: cultivar, dtype: int64"
      ]
     },
     "execution_count": 3,
     "metadata": {},
     "output_type": "execute_result"
    }
   ],
   "source": [
    "df.cultivar.value_counts()"
   ]
  },
  {
   "cell_type": "code",
   "execution_count": 4,
   "metadata": {},
   "outputs": [
    {
     "data": {
      "text/plain": [
       "(44, 132)"
      ]
     },
     "execution_count": 4,
     "metadata": {},
     "output_type": "execute_result"
    }
   ],
   "source": [
    "# Training and testing sets\n",
    "y=df[\"cultivar\"]\n",
    "X=df[[\"alco\",\"malic\",\"tot_phen\",\"color_int\"]]\n",
    "X_train, X_test, y_train, y_test = train_test_split(X, y, test_size = 0.25,random_state=20)\n",
    "y_test.count(), y_train.count()"
   ]
  },
  {
   "cell_type": "markdown",
   "metadata": {},
   "source": [
    "# Estimate and Report the results & error rates"
   ]
  },
  {
   "cell_type": "code",
   "execution_count": 5,
   "metadata": {},
   "outputs": [
    {
     "data": {
      "text/html": [
       "<div>\n",
       "<style scoped>\n",
       "    .dataframe tbody tr th:only-of-type {\n",
       "        vertical-align: middle;\n",
       "    }\n",
       "\n",
       "    .dataframe tbody tr th {\n",
       "        vertical-align: top;\n",
       "    }\n",
       "\n",
       "    .dataframe thead th {\n",
       "        text-align: right;\n",
       "    }\n",
       "</style>\n",
       "<table border=\"1\" class=\"dataframe\">\n",
       "  <thead>\n",
       "    <tr style=\"text-align: right;\">\n",
       "      <th></th>\n",
       "      <th>j = 1</th>\n",
       "      <th>j = 2</th>\n",
       "    </tr>\n",
       "  </thead>\n",
       "  <tbody>\n",
       "    <tr>\n",
       "      <th>beta0</th>\n",
       "      <td>-24.010989</td>\n",
       "      <td>22.802446</td>\n",
       "    </tr>\n",
       "    <tr>\n",
       "      <th>beta1</th>\n",
       "      <td>1.700403</td>\n",
       "      <td>-1.468044</td>\n",
       "    </tr>\n",
       "    <tr>\n",
       "      <th>beta2</th>\n",
       "      <td>-0.265605</td>\n",
       "      <td>-0.333053</td>\n",
       "    </tr>\n",
       "    <tr>\n",
       "      <th>beta3</th>\n",
       "      <td>1.223894</td>\n",
       "      <td>0.664012</td>\n",
       "    </tr>\n",
       "    <tr>\n",
       "      <th>beta4</th>\n",
       "      <td>0.022756</td>\n",
       "      <td>-0.922712</td>\n",
       "    </tr>\n",
       "  </tbody>\n",
       "</table>\n",
       "</div>"
      ],
      "text/plain": [
       "           j = 1      j = 2\n",
       "beta0 -24.010989  22.802446\n",
       "beta1   1.700403  -1.468044\n",
       "beta2  -0.265605  -0.333053\n",
       "beta3   1.223894   0.664012\n",
       "beta4   0.022756  -0.922712"
      ]
     },
     "execution_count": 5,
     "metadata": {},
     "output_type": "execute_result"
    }
   ],
   "source": [
    "Mlogit = LogisticRegression(solver='newton-cg',multi_class='multinomial')\n",
    "result = Mlogit.fit(X_train, y_train)\n",
    "pd.DataFrame({\"j = 1\":np.append(result.intercept_[0],result.coef_[0]),\n",
    "              \"j = 2\":np.append(result.intercept_[1],result.coef_[1])},\n",
    "               index=[\"beta0\",\"beta1\",'beta2','beta3','beta4'])"
   ]
  },
  {
   "cell_type": "code",
   "execution_count": 6,
   "metadata": {},
   "outputs": [
    {
     "name": "stdout",
     "output_type": "stream",
     "text": [
      "[[13  0  0]\n",
      " [ 2 19  0]\n",
      " [ 0  0 10]]\n"
     ]
    }
   ],
   "source": [
    "y_pred=result.predict(X_test)\n",
    "confusion_matrix = confusion_matrix(y_test, y_pred)\n",
    "print(confusion_matrix)"
   ]
  },
  {
   "cell_type": "code",
   "execution_count": 7,
   "metadata": {},
   "outputs": [
    {
     "name": "stdout",
     "output_type": "stream",
     "text": [
      "              precision    recall  f1-score   support\n",
      "\n",
      "           1      0.867     1.000     0.929        13\n",
      "           2      1.000     0.905     0.950        21\n",
      "           3      1.000     1.000     1.000        10\n",
      "\n",
      "   micro avg      0.955     0.955     0.955        44\n",
      "   macro avg      0.956     0.968     0.960        44\n",
      "weighted avg      0.961     0.955     0.955        44\n",
      "\n",
      "The error rate (class 1) is 0.133 \n",
      "The error rate (class 2) is 0 \n",
      "The error rate (class 3) is 0\n"
     ]
    }
   ],
   "source": [
    "print(classification_report(y_test, y_pred, digits=3))\n",
    "print('The error rate (class 1) is', 1 - 0.867,\n",
    "      '\\nThe error rate (class 2) is', 1 - 1,\n",
    "      '\\nThe error rate (class 3) is', 1 - 1)"
   ]
  },
  {
   "cell_type": "markdown",
   "metadata": {},
   "source": [
    "The model is best at predicting third group with the highest f1 score\n",
    "And the most accurately predicted category is not the one with the most observations. However, the results here are not robust. When we try different random states, we can find that the results are not always robust. In this case, it is not sutible to make a conclusion since the test set is small."
   ]
  },
  {
   "cell_type": "code",
   "execution_count": 8,
   "metadata": {},
   "outputs": [
    {
     "name": "stdout",
     "output_type": "stream",
     "text": [
      "The test MSE is 0.045454545454545456\n"
     ]
    }
   ],
   "source": [
    "print('The test MSE is', (y_test != y_pred).astype(int).mean())"
   ]
  },
  {
   "cell_type": "markdown",
   "metadata": {},
   "source": [
    "# (b) Perform a leave-one-out cross validation (LOOCV)\n",
    "\n",
    "1. Report your error rates (1 - precision) for each category? \n",
    "2. How do your error rates compare to those from part (a)? \n",
    "3. Report your LOOCV estimate for the test MSE as the average MSE, where yi is the left outobservation from each test set."
   ]
  },
  {
   "cell_type": "code",
   "execution_count": 9,
   "metadata": {},
   "outputs": [],
   "source": [
    "Xvals = df[['alco', 'malic', 'tot_phen', 'color_int']].values\n",
    "yvals = df['cultivar'].values\n",
    "N = Xvals.shape[0]\n",
    "loo = LeaveOneOut()\n",
    "loo.get_n_splits(Xvals)\n",
    "MSE = pd.DataFrame({'index': np.zeros(N), \n",
    "                    'error': np.zeros(N), \n",
    "                    'y_pred': np.zeros(N),\n",
    "                    'y_test': np.zeros(N)})\n",
    "\n",
    "for train_index, test_index in loo.split(Xvals):\n",
    "    X_train, X_test = Xvals[train_index], Xvals[test_index]\n",
    "    y_train, y_test = yvals[train_index], yvals[test_index]\n",
    "    Logit = LogisticRegression(multi_class='multinomial', solver='newton-cg')\n",
    "    Logit.fit(X_train, y_train)\n",
    "    y_pred = Logit.predict(X_test)\n",
    "    MSE['index'][test_index] = test_index\n",
    "    MSE['error'][test_index] = (y_test != y_pred).astype(int)\n",
    "    MSE['y_pred'][test_index] = y_pred\n",
    "    MSE['y_test'][test_index] = y_test\n",
    "\n",
    "error_1 = MSE[MSE['y_pred'] == 1]['error'].mean()\n",
    "error_2 = MSE[MSE['y_pred'] == 2]['error'].mean()\n",
    "error_3 = MSE[MSE['y_pred'] == 3]['error'].mean()\n",
    "error_MSE = MSE['error'].mean()"
   ]
  },
  {
   "cell_type": "code",
   "execution_count": 10,
   "metadata": {},
   "outputs": [
    {
     "name": "stdout",
     "output_type": "stream",
     "text": [
      "              precision    recall  f1-score   support\n",
      "\n",
      "         1.0      0.902     0.932     0.917        59\n",
      "         2.0      0.914     0.901     0.908        71\n",
      "         3.0      0.956     0.935     0.945        46\n",
      "\n",
      "   micro avg      0.920     0.920     0.920       176\n",
      "   macro avg      0.924     0.923     0.923       176\n",
      "weighted avg      0.921     0.920     0.921       176\n",
      "\n",
      "\n",
      "The error rate for class 1 is 0.09836065573770492 , std is 0.29780167417352377\n",
      "The error rate for class 2 is 0.08571428571428572 , std is 0.27994168488950605\n",
      "The error rate for class 3 is 0.044444444444444446 , std is 0.20608041101101562\n",
      "The average MSE (for all classes) is 0.07954545454545454 , std is 0.2705882022679695\n"
     ]
    }
   ],
   "source": [
    "print(classification_report(MSE['y_test'], MSE['y_pred'], digits=3))\n",
    "print('')\n",
    "print('The error rate for class 1 is', error_1, ', std is', MSE[MSE['y_pred'] == 1]['error'].values.std())\n",
    "print('The error rate for class 2 is', error_2, ', std is', MSE[MSE['y_pred'] == 2]['error'].values.std())\n",
    "print('The error rate for class 3 is', error_3, ', std is', MSE[MSE['y_pred'] == 3]['error'].values.std())\n",
    "print('The average MSE (for all classes) is', error_MSE,', std is', MSE['error'].values.std())"
   ]
  },
  {
   "cell_type": "markdown",
   "metadata": {},
   "source": [
    "(a)\n",
    "The error rate (class 1) is 0.133 \n",
    "The error rate (class 2) is 0 \n",
    "The error rate (class 3) is 0\n",
    "The test MSE is 0.045\n",
    "\n",
    "(b)\n",
    "The error rate for class 1 is 0.098\n",
    "The error rate for class 2 is 0.085\n",
    "The error rate for class 3 is 0.044\n",
    "The average MSE (for all classes) is 0.079\n",
    "\n",
    "WE can see that error in (a) is smaller than error in (b) except class 1. \n",
    "Average MSE of (a) is also smaller compared to (b)"
   ]
  },
  {
   "cell_type": "code",
   "execution_count": 11,
   "metadata": {},
   "outputs": [
    {
     "data": {
      "text/html": [
       "<div>\n",
       "<style scoped>\n",
       "    .dataframe tbody tr th:only-of-type {\n",
       "        vertical-align: middle;\n",
       "    }\n",
       "\n",
       "    .dataframe tbody tr th {\n",
       "        vertical-align: top;\n",
       "    }\n",
       "\n",
       "    .dataframe thead th {\n",
       "        text-align: right;\n",
       "    }\n",
       "</style>\n",
       "<table border=\"1\" class=\"dataframe\">\n",
       "  <thead>\n",
       "    <tr style=\"text-align: right;\">\n",
       "      <th></th>\n",
       "      <th>index</th>\n",
       "      <th>error</th>\n",
       "      <th>y_pred</th>\n",
       "      <th>y_test</th>\n",
       "    </tr>\n",
       "  </thead>\n",
       "  <tbody>\n",
       "    <tr>\n",
       "      <th>50</th>\n",
       "      <td>50.0</td>\n",
       "      <td>0.0</td>\n",
       "      <td>1.0</td>\n",
       "      <td>1.0</td>\n",
       "    </tr>\n",
       "    <tr>\n",
       "      <th>51</th>\n",
       "      <td>51.0</td>\n",
       "      <td>0.0</td>\n",
       "      <td>1.0</td>\n",
       "      <td>1.0</td>\n",
       "    </tr>\n",
       "    <tr>\n",
       "      <th>52</th>\n",
       "      <td>52.0</td>\n",
       "      <td>0.0</td>\n",
       "      <td>1.0</td>\n",
       "      <td>1.0</td>\n",
       "    </tr>\n",
       "    <tr>\n",
       "      <th>53</th>\n",
       "      <td>53.0</td>\n",
       "      <td>0.0</td>\n",
       "      <td>1.0</td>\n",
       "      <td>1.0</td>\n",
       "    </tr>\n",
       "    <tr>\n",
       "      <th>54</th>\n",
       "      <td>54.0</td>\n",
       "      <td>0.0</td>\n",
       "      <td>1.0</td>\n",
       "      <td>1.0</td>\n",
       "    </tr>\n",
       "    <tr>\n",
       "      <th>55</th>\n",
       "      <td>55.0</td>\n",
       "      <td>0.0</td>\n",
       "      <td>1.0</td>\n",
       "      <td>1.0</td>\n",
       "    </tr>\n",
       "    <tr>\n",
       "      <th>56</th>\n",
       "      <td>56.0</td>\n",
       "      <td>0.0</td>\n",
       "      <td>1.0</td>\n",
       "      <td>1.0</td>\n",
       "    </tr>\n",
       "    <tr>\n",
       "      <th>57</th>\n",
       "      <td>57.0</td>\n",
       "      <td>0.0</td>\n",
       "      <td>1.0</td>\n",
       "      <td>1.0</td>\n",
       "    </tr>\n",
       "    <tr>\n",
       "      <th>58</th>\n",
       "      <td>58.0</td>\n",
       "      <td>0.0</td>\n",
       "      <td>1.0</td>\n",
       "      <td>1.0</td>\n",
       "    </tr>\n",
       "    <tr>\n",
       "      <th>59</th>\n",
       "      <td>59.0</td>\n",
       "      <td>0.0</td>\n",
       "      <td>2.0</td>\n",
       "      <td>2.0</td>\n",
       "    </tr>\n",
       "    <tr>\n",
       "      <th>60</th>\n",
       "      <td>60.0</td>\n",
       "      <td>0.0</td>\n",
       "      <td>2.0</td>\n",
       "      <td>2.0</td>\n",
       "    </tr>\n",
       "    <tr>\n",
       "      <th>61</th>\n",
       "      <td>61.0</td>\n",
       "      <td>1.0</td>\n",
       "      <td>3.0</td>\n",
       "      <td>2.0</td>\n",
       "    </tr>\n",
       "    <tr>\n",
       "      <th>62</th>\n",
       "      <td>62.0</td>\n",
       "      <td>1.0</td>\n",
       "      <td>1.0</td>\n",
       "      <td>2.0</td>\n",
       "    </tr>\n",
       "    <tr>\n",
       "      <th>63</th>\n",
       "      <td>63.0</td>\n",
       "      <td>0.0</td>\n",
       "      <td>2.0</td>\n",
       "      <td>2.0</td>\n",
       "    </tr>\n",
       "    <tr>\n",
       "      <th>64</th>\n",
       "      <td>64.0</td>\n",
       "      <td>0.0</td>\n",
       "      <td>2.0</td>\n",
       "      <td>2.0</td>\n",
       "    </tr>\n",
       "    <tr>\n",
       "      <th>65</th>\n",
       "      <td>65.0</td>\n",
       "      <td>0.0</td>\n",
       "      <td>2.0</td>\n",
       "      <td>2.0</td>\n",
       "    </tr>\n",
       "    <tr>\n",
       "      <th>66</th>\n",
       "      <td>66.0</td>\n",
       "      <td>1.0</td>\n",
       "      <td>1.0</td>\n",
       "      <td>2.0</td>\n",
       "    </tr>\n",
       "    <tr>\n",
       "      <th>67</th>\n",
       "      <td>67.0</td>\n",
       "      <td>0.0</td>\n",
       "      <td>2.0</td>\n",
       "      <td>2.0</td>\n",
       "    </tr>\n",
       "    <tr>\n",
       "      <th>68</th>\n",
       "      <td>68.0</td>\n",
       "      <td>0.0</td>\n",
       "      <td>2.0</td>\n",
       "      <td>2.0</td>\n",
       "    </tr>\n",
       "    <tr>\n",
       "      <th>69</th>\n",
       "      <td>69.0</td>\n",
       "      <td>0.0</td>\n",
       "      <td>2.0</td>\n",
       "      <td>2.0</td>\n",
       "    </tr>\n",
       "  </tbody>\n",
       "</table>\n",
       "</div>"
      ],
      "text/plain": [
       "    index  error  y_pred  y_test\n",
       "50   50.0    0.0     1.0     1.0\n",
       "51   51.0    0.0     1.0     1.0\n",
       "52   52.0    0.0     1.0     1.0\n",
       "53   53.0    0.0     1.0     1.0\n",
       "54   54.0    0.0     1.0     1.0\n",
       "55   55.0    0.0     1.0     1.0\n",
       "56   56.0    0.0     1.0     1.0\n",
       "57   57.0    0.0     1.0     1.0\n",
       "58   58.0    0.0     1.0     1.0\n",
       "59   59.0    0.0     2.0     2.0\n",
       "60   60.0    0.0     2.0     2.0\n",
       "61   61.0    1.0     3.0     2.0\n",
       "62   62.0    1.0     1.0     2.0\n",
       "63   63.0    0.0     2.0     2.0\n",
       "64   64.0    0.0     2.0     2.0\n",
       "65   65.0    0.0     2.0     2.0\n",
       "66   66.0    1.0     1.0     2.0\n",
       "67   67.0    0.0     2.0     2.0\n",
       "68   68.0    0.0     2.0     2.0\n",
       "69   69.0    0.0     2.0     2.0"
      ]
     },
     "execution_count": 11,
     "metadata": {},
     "output_type": "execute_result"
    }
   ],
   "source": [
    "MSE.iloc[50:70]"
   ]
  },
  {
   "cell_type": "code",
   "execution_count": 12,
   "metadata": {},
   "outputs": [
    {
     "name": "stdout",
     "output_type": "stream",
     "text": [
      "LOOCV MSE: 0.0795 (27.06%)\n"
     ]
    }
   ],
   "source": [
    "# Double check with model_selection.cross_val_score\n",
    "resloo=cross_val_score(Mlogit, X, y, cv=loo)\n",
    "print(\"LOOCV MSE: %.4f (%.2f%%)\" % (1-resloo.mean(), resloo.std()*100.0))"
   ]
  },
  {
   "cell_type": "code",
   "execution_count": 13,
   "metadata": {},
   "outputs": [
    {
     "data": {
      "text/plain": [
       "array([0., 0., 0., 0., 0., 0., 0., 0., 0., 0., 0., 0., 0., 0., 0., 0., 0.,\n",
       "       0., 0., 0., 0., 0., 0., 0., 0., 0., 0., 0., 0., 0., 0., 0., 0., 0.,\n",
       "       0., 0., 0., 0., 0., 0., 0., 0., 0., 0., 0., 0., 0., 0., 0., 0., 0.,\n",
       "       0., 0., 0., 0., 0., 0., 0., 0., 0., 0., 0., 0., 0., 0., 0., 0., 0.,\n",
       "       0., 0., 0., 0., 0., 0., 0., 0., 0., 0., 0., 0., 0., 0., 0., 0., 0.,\n",
       "       0., 0., 0., 0., 0., 0., 0., 0., 0., 0., 0., 0., 0., 0., 0., 0., 0.,\n",
       "       0., 0., 0., 0., 0., 0., 0., 0., 0., 0., 0., 0., 0., 0., 0., 0., 0.,\n",
       "       0., 0., 0., 0., 0., 0., 0., 0., 0., 0., 0., 0., 0., 0., 0., 0., 0.,\n",
       "       0., 0., 0., 0., 0., 0., 0., 0., 0., 0., 0., 0., 0., 0., 0., 0., 0.,\n",
       "       0., 0., 0., 0., 0., 0., 0., 0., 0., 0., 0., 0., 0., 0., 0., 0., 0.,\n",
       "       0., 0., 0., 0., 0., 0.])"
      ]
     },
     "execution_count": 13,
     "metadata": {},
     "output_type": "execute_result"
    }
   ],
   "source": [
    "# Check whether two are same\n",
    "(1-resloo)-MSE.error.values"
   ]
  },
  {
   "cell_type": "markdown",
   "metadata": {},
   "source": [
    "# (c) Perform a k-fold cross validation in which the data are divided into k = 4 groups. \n",
    "1. Report your error rates (1 - precision) for each category. \n",
    "2. How do your error rates compare to those from parts (a) and (b)? \n",
    "3. Report your k-fold estimate for the test MSE as the average MSE."
   ]
  },
  {
   "cell_type": "code",
   "execution_count": 15,
   "metadata": {},
   "outputs": [
    {
     "name": "stdout",
     "output_type": "stream",
     "text": [
      "When k index= 0\n",
      "\n",
      "               precision    recall  f1-score   support\n",
      "\n",
      "           1      0.706     1.000     0.828        12\n",
      "           2      1.000     0.750     0.857        24\n",
      "           3      0.778     0.875     0.824         8\n",
      "\n",
      "   micro avg      0.841     0.841     0.841        44\n",
      "   macro avg      0.828     0.875     0.836        44\n",
      "weighted avg      0.879     0.841     0.843        44\n",
      "\n",
      "error rate (class 1) is 0.29411764705882354\n",
      "error rate (class 2) is 0.0\n",
      "error rate (class 3) is 0.2222222222222222\n",
      "MSE (for all classes) is 0.1590909090909091\n",
      "The stds are respectively \n",
      " 0.4556450995538137 ,\n",
      " 0.0 ,\n",
      " 0.41573970964154905 ,\n",
      " 0.36576083953252464 \n",
      "\n",
      "When k index= 1\n",
      "\n",
      "               precision    recall  f1-score   support\n",
      "\n",
      "           1      1.000     0.765     0.867        17\n",
      "           2      0.688     1.000     0.815        11\n",
      "           3      1.000     0.938     0.968        16\n",
      "\n",
      "   micro avg      0.886     0.886     0.886        44\n",
      "   macro avg      0.896     0.901     0.883        44\n",
      "weighted avg      0.922     0.886     0.890        44\n",
      "\n",
      "error rate (class 1) is 0.0\n",
      "error rate (class 2) is 0.3125\n",
      "error rate (class 3) is 0.0\n",
      "MSE (for all classes) is 0.11363636363636363\n",
      "The stds are respectively \n",
      " 0.0 ,\n",
      " 0.46351240544347894 ,\n",
      " 0.0 ,\n",
      " 0.31736909190383955 \n",
      "\n",
      "When k index= 2\n",
      "\n",
      "               precision    recall  f1-score   support\n",
      "\n",
      "           1      0.938     1.000     0.968        15\n",
      "           2      0.938     0.938     0.938        16\n",
      "           3      1.000     0.923     0.960        13\n",
      "\n",
      "   micro avg      0.955     0.955     0.955        44\n",
      "   macro avg      0.958     0.954     0.955        44\n",
      "weighted avg      0.956     0.955     0.954        44\n",
      "\n",
      "error rate (class 1) is 0.0625\n",
      "error rate (class 2) is 0.0625\n",
      "error rate (class 3) is 0.0\n",
      "MSE (for all classes) is 0.045454545454545456\n",
      "The stds are respectively \n",
      " 0.24206145913796356 ,\n",
      " 0.24206145913796356 ,\n",
      " 0.0 ,\n",
      " 0.20829889522526548 \n",
      "\n",
      "When k index= 3\n",
      "\n",
      "               precision    recall  f1-score   support\n",
      "\n",
      "           1      0.882     1.000     0.938        15\n",
      "           2      1.000     0.900     0.947        20\n",
      "           3      1.000     1.000     1.000         9\n",
      "\n",
      "   micro avg      0.955     0.955     0.955        44\n",
      "   macro avg      0.961     0.967     0.962        44\n",
      "weighted avg      0.960     0.955     0.955        44\n",
      "\n",
      "error rate (class 1) is 0.11764705882352941\n",
      "error rate (class 2) is 0.0\n",
      "error rate (class 3) is 0.0\n",
      "MSE (for all classes) is 0.045454545454545456\n",
      "The stds are respectively \n",
      " 0.32218973970892123 ,\n",
      " 0.0 ,\n",
      " 0.0 ,\n",
      " 0.20829889522526548 \n",
      "\n",
      "\n",
      "k-fold resuts:\n",
      "The average error rate (class 1) is 0.11856617647058823 , std is 0.10956792179947901\n",
      "The average error rate (class 2) is 0.09375 , std is 0.1288470508005519\n",
      "The average error rate (class 3) is 0.05555555555555555 , std is 0.09622504486493763\n",
      "The average MSE (for all classes) is 0.09090909090909091 , std is 0.04821182598999188\n"
     ]
    }
   ],
   "source": [
    "k = 4\n",
    "KF = KFold(n_splits=k, random_state=10, shuffle=True)\n",
    "KF.get_n_splits(Xvals)\n",
    "General_error_1 = np.zeros(k)\n",
    "General_error_2 = np.zeros(k)\n",
    "General_error_3 = np.zeros(k)\n",
    "General_MSE = np.zeros(k)\n",
    "\n",
    "k_ind = int(0)\n",
    "for train_index, test_index in KF.split(Xvals):\n",
    "    print('When k index=', k_ind)\n",
    "    X_train, X_test = Xvals[train_index], Xvals[test_index]\n",
    "    y_train, y_test = yvals[train_index], yvals[test_index]\n",
    "    Loggit = LogisticRegression(multi_class='multinomial',\n",
    "                                solver='newton-cg')\n",
    "    Logit.fit(X_train, y_train)\n",
    "    y_pred = Logit.predict(X_test)\n",
    "    MSE = pd.DataFrame({'error': (y_test != y_pred).astype(int),'y_pred': y_pred})\n",
    "    error_1 = MSE[MSE['y_pred'] == 1]['error'].mean()\n",
    "    error_2 = MSE[MSE['y_pred'] == 2]['error'].mean()\n",
    "    error_3 = MSE[MSE['y_pred'] == 3]['error'].mean()\n",
    "    error_all_class = MSE['error'].mean()\n",
    "    General_error_1[k_ind] = error_1\n",
    "    General_error_2[k_ind] = error_2\n",
    "    General_error_3[k_ind] = error_3\n",
    "    General_MSE[k_ind] = error_all_class\n",
    "    print('\\n',classification_report(y_test, y_pred, digits=3))\n",
    "    print('error rate (class 1) is', error_1)\n",
    "    print('error rate (class 2) is', error_2)\n",
    "    print('error rate (class 3) is', error_3)\n",
    "    print('MSE (for all classes) is', error_all_class)\n",
    "    print('The stds are respectively \\n', MSE[MSE['y_pred'] == 1]['error'].values.std(),\n",
    "          ',\\n', MSE[MSE['y_pred'] == 2]['error'].values.std(),\n",
    "          ',\\n', MSE[MSE['y_pred'] == 3]['error'].values.std(),\n",
    "          ',\\n', MSE['error'].values.std(),'\\n')    \n",
    "    k_ind += 1\n",
    "\n",
    "print('\\nk-fold resuts:')\n",
    "print('The average error rate (class 1) is', General_error_1.mean(), ', std is', General_error_1.std())\n",
    "print('The average error rate (class 2) is', General_error_2.mean(), ', std is', General_error_2.std())\n",
    "print('The average error rate (class 3) is', General_error_3.mean(), ', std is', General_error_3.std())\n",
    "print('The average MSE (for all classes) is', General_MSE.mean(), ', std is', General_MSE.std())"
   ]
  },
  {
   "cell_type": "code",
   "execution_count": 17,
   "metadata": {},
   "outputs": [
    {
     "name": "stdout",
     "output_type": "stream",
     "text": [
      "4-fold MSE:  (0.09090909090909094, 0.04821182598999189)\n"
     ]
    }
   ],
   "source": [
    "# Double check with model_selection.cross_val_score\n",
    "reskf=cross_val_score(Mlogit, X, y, cv=KF)\n",
    "print(\"4-fold MSE: \", (1-reskf.mean(), reskf.std()))"
   ]
  },
  {
   "cell_type": "markdown",
   "metadata": {},
   "source": [
    "# Question 2 - Splines and interpolation"
   ]
  },
  {
   "cell_type": "markdown",
   "metadata": {},
   "source": [
    "# (a) Create a scatterplot of the data with age on the x-axis and Coolness Index on the y-axis. Label your axes, and give the plot a title."
   ]
  },
  {
   "cell_type": "code",
   "execution_count": 18,
   "metadata": {},
   "outputs": [
    {
     "data": {
      "text/html": [
       "<div>\n",
       "<style scoped>\n",
       "    .dataframe tbody tr th:only-of-type {\n",
       "        vertical-align: middle;\n",
       "    }\n",
       "\n",
       "    .dataframe tbody tr th {\n",
       "        vertical-align: top;\n",
       "    }\n",
       "\n",
       "    .dataframe thead th {\n",
       "        text-align: right;\n",
       "    }\n",
       "</style>\n",
       "<table border=\"1\" class=\"dataframe\">\n",
       "  <thead>\n",
       "    <tr style=\"text-align: right;\">\n",
       "      <th></th>\n",
       "      <th>age</th>\n",
       "      <th>coolness</th>\n",
       "    </tr>\n",
       "  </thead>\n",
       "  <tbody>\n",
       "    <tr>\n",
       "      <th>0</th>\n",
       "      <td>11.0</td>\n",
       "      <td>10.981602</td>\n",
       "    </tr>\n",
       "    <tr>\n",
       "      <th>1</th>\n",
       "      <td>11.0</td>\n",
       "      <td>11.364925</td>\n",
       "    </tr>\n",
       "    <tr>\n",
       "      <th>2</th>\n",
       "      <td>11.0</td>\n",
       "      <td>10.190227</td>\n",
       "    </tr>\n",
       "    <tr>\n",
       "      <th>3</th>\n",
       "      <td>11.0</td>\n",
       "      <td>9.903725</td>\n",
       "    </tr>\n",
       "    <tr>\n",
       "      <th>4</th>\n",
       "      <td>11.0</td>\n",
       "      <td>8.997918</td>\n",
       "    </tr>\n",
       "  </tbody>\n",
       "</table>\n",
       "</div>"
      ],
      "text/plain": [
       "    age   coolness\n",
       "0  11.0  10.981602\n",
       "1  11.0  11.364925\n",
       "2  11.0  10.190227\n",
       "3  11.0   9.903725\n",
       "4  11.0   8.997918"
      ]
     },
     "execution_count": 18,
     "metadata": {},
     "output_type": "execute_result"
    }
   ],
   "source": [
    "df=pd.read_csv(\"data/CoolIndex.txt\",header = None)\n",
    "df.columns = ['age', 'coolness']\n",
    "df.head()"
   ]
  },
  {
   "cell_type": "code",
   "execution_count": 19,
   "metadata": {},
   "outputs": [
    {
     "data": {
      "image/png": "[encoded data removed]",
      "text/plain": [
       "<Figure size 576x432 with 1 Axes>"
      ]
     },
     "metadata": {
      "needs_background": "light"
     },
     "output_type": "display_data"
    }
   ],
   "source": [
    "fig = plt.figure(figsize = (8,6))\n",
    "plt.scatter(df.age,df.coolness,s=10,c='blue',alpha=0.5)\n",
    "plt.xlabel(\"age\")\n",
    "plt.ylabel(\"coolness Index\")\n",
    "plt.title('Age and Coolness', fontsize = 15)\n",
    "plt.show()"
   ]
  },
  {
   "cell_type": "markdown",
   "metadata": {},
   "source": [
    "# (b) Use ordinary least squares (OLS) regression to t a stepwise function\n",
    "Use 5 bins [11; 22), [22; 40), [40; 59), [59; 77), [77; 95].\n",
    "1. Plot this step function on top of the scatterplot of the data from part (a).\n",
    "2. Report your estimated step function values for each bin.\n",
    "3. What is the predicted coolness of a 73-year old from the stepwise function?"
   ]
  },
  {
   "cell_type": "code",
   "execution_count": 20,
   "metadata": {},
   "outputs": [
    {
     "data": {
      "text/plain": [
       "(    age   coolness G1 G2 G3 G4 G5\n",
       " 0  11.0  10.981602  1  0  0  0  0\n",
       " 1  11.0  11.364925  1  0  0  0  0\n",
       " 2  11.0  10.190227  1  0  0  0  0\n",
       " 3  11.0   9.903725  1  0  0  0  0\n",
       " 4  11.0   8.997918  1  0  0  0  0, (956, 7))"
      ]
     },
     "execution_count": 20,
     "metadata": {},
     "output_type": "execute_result"
    }
   ],
   "source": [
    "df['G1'] = ['1' if (x>=11) & (x<22) else '0' for x in df['age']]\n",
    "df['G2'] = ['1' if (x>=22) & (x<40) else '0' for x in df['age']]\n",
    "df['G3'] = ['1' if (x>=40) & (x<59) else '0' for x in df['age']]\n",
    "df['G4'] = ['1' if (x>=59) & (x<77) else '0' for x in df['age']]\n",
    "df['G5'] = ['1' if (x>=77) & (x<=95) else '0' for x in df['age']]\n",
    "df.head(), df.shape"
   ]
  },
  {
   "cell_type": "code",
   "execution_count": 21,
   "metadata": {},
   "outputs": [
    {
     "data": {
      "text/html": [
       "<div>\n",
       "<style scoped>\n",
       "    .dataframe tbody tr th:only-of-type {\n",
       "        vertical-align: middle;\n",
       "    }\n",
       "\n",
       "    .dataframe tbody tr th {\n",
       "        vertical-align: top;\n",
       "    }\n",
       "\n",
       "    .dataframe thead th {\n",
       "        text-align: right;\n",
       "    }\n",
       "</style>\n",
       "<table border=\"1\" class=\"dataframe\">\n",
       "  <thead>\n",
       "    <tr style=\"text-align: right;\">\n",
       "      <th></th>\n",
       "      <th>G1</th>\n",
       "      <th>G2</th>\n",
       "      <th>G3</th>\n",
       "      <th>G4</th>\n",
       "      <th>G5</th>\n",
       "    </tr>\n",
       "  </thead>\n",
       "  <tbody>\n",
       "    <tr>\n",
       "      <th>0</th>\n",
       "      <td>1</td>\n",
       "      <td>0</td>\n",
       "      <td>0</td>\n",
       "      <td>0</td>\n",
       "      <td>0</td>\n",
       "    </tr>\n",
       "    <tr>\n",
       "      <th>1</th>\n",
       "      <td>1</td>\n",
       "      <td>0</td>\n",
       "      <td>0</td>\n",
       "      <td>0</td>\n",
       "      <td>0</td>\n",
       "    </tr>\n",
       "    <tr>\n",
       "      <th>2</th>\n",
       "      <td>1</td>\n",
       "      <td>0</td>\n",
       "      <td>0</td>\n",
       "      <td>0</td>\n",
       "      <td>0</td>\n",
       "    </tr>\n",
       "    <tr>\n",
       "      <th>3</th>\n",
       "      <td>1</td>\n",
       "      <td>0</td>\n",
       "      <td>0</td>\n",
       "      <td>0</td>\n",
       "      <td>0</td>\n",
       "    </tr>\n",
       "    <tr>\n",
       "      <th>4</th>\n",
       "      <td>1</td>\n",
       "      <td>0</td>\n",
       "      <td>0</td>\n",
       "      <td>0</td>\n",
       "      <td>0</td>\n",
       "    </tr>\n",
       "  </tbody>\n",
       "</table>\n",
       "</div>"
      ],
      "text/plain": [
       "  G1 G2 G3 G4 G5\n",
       "0  1  0  0  0  0\n",
       "1  1  0  0  0  0\n",
       "2  1  0  0  0  0\n",
       "3  1  0  0  0  0\n",
       "4  1  0  0  0  0"
      ]
     },
     "execution_count": 21,
     "metadata": {},
     "output_type": "execute_result"
    }
   ],
   "source": [
    "#X=df.iloc[:,2:7]\n",
    "X=df[[\"G1\",\"G2\",\"G3\",\"G4\",\"G5\"]]\n",
    "X.head()"
   ]
  },
  {
   "cell_type": "code",
   "execution_count": 22,
   "metadata": {},
   "outputs": [
    {
     "name": "stdout",
     "output_type": "stream",
     "text": [
      "                            OLS Regression Results                            \n",
      "==============================================================================\n",
      "Dep. Variable:               coolness   R-squared:                       0.429\n",
      "Model:                            OLS   Adj. R-squared:                  0.427\n",
      "Method:                 Least Squares   F-statistic:                     178.7\n",
      "Date:                Tue, 26 Feb 2019   Prob (F-statistic):          3.73e-114\n",
      "Time:                        21:16:13   Log-Likelihood:                -3214.5\n",
      "No. Observations:                 956   AIC:                             6439.\n",
      "Df Residuals:                     951   BIC:                             6463.\n",
      "Df Model:                           4                                         \n",
      "Covariance Type:            nonrobust                                         \n",
      "==============================================================================\n",
      "                 coef    std err          t      P>|t|      [0.025      0.975]\n",
      "------------------------------------------------------------------------------\n",
      "G1            20.1025      0.562     35.746      0.000      18.999      21.206\n",
      "G2            34.4758      0.431     80.006      0.000      33.630      35.321\n",
      "G3            37.6351      0.424     88.814      0.000      36.804      38.467\n",
      "G4            35.2254      0.485     72.560      0.000      34.273      36.178\n",
      "G5            27.2964      0.936     29.175      0.000      25.460      29.132\n",
      "==============================================================================\n",
      "Omnibus:                       80.102   Durbin-Watson:                   1.236\n",
      "Prob(Omnibus):                  0.000   Jarque-Bera (JB):              101.718\n",
      "Skew:                           0.714   Prob(JB):                     8.17e-23\n",
      "Kurtosis:                       3.719   Cond. No.                         2.21\n",
      "==============================================================================\n",
      "\n",
      "Warnings:\n",
      "[1] Standard Errors assume that the covariance matrix of the errors is correctly specified.\n"
     ]
    }
   ],
   "source": [
    "reg1 = sm.OLS(endog=df.coolness, exog=X.astype(float), missing='drop') # .astype(float) because I put '1' and '0' above\n",
    "reg_results = reg1.fit()\n",
    "print(reg_results.summary())"
   ]
  },
  {
   "cell_type": "code",
   "execution_count": 23,
   "metadata": {},
   "outputs": [
    {
     "name": "stdout",
     "output_type": "stream",
     "text": [
      "b1 = 20.102457252090748 \n",
      "b2 = 34.47578807755938 \n",
      "b3 = 37.63510549244961 \n",
      "b4 = 35.22540004024275 \n",
      "b5 = 27.296378244321282\n"
     ]
    }
   ],
   "source": [
    "b1, b2, b3, b4, b5 = reg_results.params\n",
    "print('b1 =', b1, '\\nb2 =', b2,'\\nb3 =', b3, '\\nb4 =', b4,'\\nb5 =', b5)"
   ]
  },
  {
   "cell_type": "code",
   "execution_count": 24,
   "metadata": {},
   "outputs": [
    {
     "name": "stdout",
     "output_type": "stream",
     "text": [
      "Predicted Coolness of 73-year old is 35.22540004024275\n",
      "Predicted Coolness of 73-year old is [35.22540004]\n"
     ]
    }
   ],
   "source": [
    "print('Predicted Coolness of 73-year old is', reg_results.params[3])\n",
    "print('Predicted Coolness of 73-year old is', reg_results.predict([0,0,0,1,0]))"
   ]
  },
  {
   "cell_type": "code",
   "execution_count": 25,
   "metadata": {},
   "outputs": [
    {
     "data": {
      "image/png": "[encoded data removed]",
      "text/plain": [
       "<Figure size 576x432 with 1 Axes>"
      ]
     },
     "metadata": {
      "needs_background": "light"
     },
     "output_type": "display_data"
    }
   ],
   "source": [
    "fig = plt.figure(figsize = (8,6))\n",
    "plt.scatter(df.age,df.coolness,s=10,c='blue',alpha=0.5)\n",
    "plt.plot(df.age,reg_results.predict(),c=\"red\",label = \"OLS Stepwise\",linewidth='3')\n",
    "plt.legend()\n",
    "plt.xlabel(\"age\")\n",
    "plt.ylabel(\"coolness Index\")\n",
    "plt.title('Age and Coolness', fontsize = 15)\n",
    "plt.show()"
   ]
  },
  {
   "cell_type": "markdown",
   "metadata": {},
   "source": [
    "# (c) Fit a linear spline to the data over the 5 age bins from part (b).\n",
    "Plot your continuous linear spline against a scatterplot of the data from part (a) and the estimated step function from part (b). Label your axes, include a legend, and give the plot a title. What is the predicted coolness of a 73-year old from the linear spline?"
   ]
  },
  {
   "cell_type": "code",
   "execution_count": 26,
   "metadata": {},
   "outputs": [
    {
     "data": {
      "text/html": [
       "<div>\n",
       "<style scoped>\n",
       "    .dataframe tbody tr th:only-of-type {\n",
       "        vertical-align: middle;\n",
       "    }\n",
       "\n",
       "    .dataframe tbody tr th {\n",
       "        vertical-align: top;\n",
       "    }\n",
       "\n",
       "    .dataframe thead th {\n",
       "        text-align: right;\n",
       "    }\n",
       "</style>\n",
       "<table border=\"1\" class=\"dataframe\">\n",
       "  <thead>\n",
       "    <tr style=\"text-align: right;\">\n",
       "      <th></th>\n",
       "      <th>coolness</th>\n",
       "      <th>age</th>\n",
       "    </tr>\n",
       "    <tr>\n",
       "      <th>age</th>\n",
       "      <th></th>\n",
       "      <th></th>\n",
       "    </tr>\n",
       "  </thead>\n",
       "  <tbody>\n",
       "    <tr>\n",
       "      <th>11.0</th>\n",
       "      <td>10.110237</td>\n",
       "      <td>11.0</td>\n",
       "    </tr>\n",
       "    <tr>\n",
       "      <th>12.0</th>\n",
       "      <td>9.365623</td>\n",
       "      <td>12.0</td>\n",
       "    </tr>\n",
       "    <tr>\n",
       "      <th>13.0</th>\n",
       "      <td>10.015882</td>\n",
       "      <td>13.0</td>\n",
       "    </tr>\n",
       "    <tr>\n",
       "      <th>14.0</th>\n",
       "      <td>11.747109</td>\n",
       "      <td>14.0</td>\n",
       "    </tr>\n",
       "    <tr>\n",
       "      <th>15.0</th>\n",
       "      <td>15.434739</td>\n",
       "      <td>15.0</td>\n",
       "    </tr>\n",
       "  </tbody>\n",
       "</table>\n",
       "</div>"
      ],
      "text/plain": [
       "       coolness   age\n",
       "age                  \n",
       "11.0  10.110237  11.0\n",
       "12.0   9.365623  12.0\n",
       "13.0  10.015882  13.0\n",
       "14.0  11.747109  14.0\n",
       "15.0  15.434739  15.0"
      ]
     },
     "execution_count": 26,
     "metadata": {},
     "output_type": "execute_result"
    }
   ],
   "source": [
    "#Group data by age as LSQUnivariateSpline requires x to be strictly increasing\n",
    "df2=df.groupby('age').mean()\n",
    "df2['age']=df2.index\n",
    "df2.head()"
   ]
  },
  {
   "cell_type": "code",
   "execution_count": 27,
   "metadata": {},
   "outputs": [],
   "source": [
    "knots=[22,40,59,77]\n",
    "spline1=LSQUnivariateSpline(df2.age.values, df2.coolness.values, t=knots, k=1)"
   ]
  },
  {
   "cell_type": "code",
   "execution_count": 28,
   "metadata": {},
   "outputs": [
    {
     "data": {
      "image/png": "[encoded data removed]",
      "text/plain": [
       "<Figure size 576x432 with 1 Axes>"
      ]
     },
     "metadata": {
      "needs_background": "light"
     },
     "output_type": "display_data"
    }
   ],
   "source": [
    "fig = plt.figure(figsize = (8,6))\n",
    "plt.scatter(df.age,df.coolness,s=10,c='blue',alpha=0.5)\n",
    "plt.plot(df.age,reg_results.predict(),c=\"red\",label = \"OLS Stepwise\",linewidth = 3)\n",
    "plt.plot(df.age,spline1(df.age),\"green\",label = \"Linear Spline\",linewidth = 3)\n",
    "plt.legend()\n",
    "plt.xlabel(\"age\")\n",
    "plt.ylabel(\"coolness Index\")\n",
    "plt.title('Age and Coolness', fontsize = 15)\n",
    "plt.show()"
   ]
  },
  {
   "cell_type": "code",
   "execution_count": 29,
   "metadata": {},
   "outputs": [
    {
     "name": "stdout",
     "output_type": "stream",
     "text": [
      "Predicted Coolness of 73-year old is 32.86784862349653\n"
     ]
    }
   ],
   "source": [
    "print('Predicted Coolness of 73-year old is', spline1(73))"
   ]
  },
  {
   "cell_type": "markdown",
   "metadata": {},
   "source": [
    "# (d) Fit a cubic spline (continuous) to the data over the 5 age bins"
   ]
  },
  {
   "cell_type": "code",
   "execution_count": 30,
   "metadata": {},
   "outputs": [],
   "source": [
    "spline2=LSQUnivariateSpline(df2.age.values, df2.coolness.values, t=knots, k=3)"
   ]
  },
  {
   "cell_type": "code",
   "execution_count": 31,
   "metadata": {},
   "outputs": [
    {
     "data": {
      "image/png": "[encoded data removed]",
      "text/plain": [
       "<Figure size 576x432 with 1 Axes>"
      ]
     },
     "metadata": {
      "needs_background": "light"
     },
     "output_type": "display_data"
    }
   ],
   "source": [
    "fig = plt.figure(figsize = (8,6))\n",
    "plt.scatter(df.age,df.coolness,s=10,c='blue',alpha=0.5)\n",
    "plt.plot(df.age,reg_results.predict(),c=\"red\",label = \"OLS Stepwise\",linewidth = 3)\n",
    "plt.plot(df.age,spline1(df.age),c=\"green\",label = \"Linear Spline\",linewidth = 3)\n",
    "plt.plot(df.age,spline2(df.age),c=\"yellow\",label =\"Cubic Spline\",linewidth=3)\n",
    "plt.legend()\n",
    "plt.xlabel(\"age\")\n",
    "plt.ylabel(\"coolness Index\")\n",
    "plt.title('Age and Coolness', fontsize = 15)\n",
    "plt.show()"
   ]
  },
  {
   "cell_type": "code",
   "execution_count": 32,
   "metadata": {},
   "outputs": [
    {
     "name": "stdout",
     "output_type": "stream",
     "text": [
      "Predicted Coolness of 73-year old is 32.642301066279764\n"
     ]
    }
   ],
   "source": [
    "print('Predicted Coolness of 73-year old is', spline2(73))"
   ]
  },
  {
   "cell_type": "code",
   "execution_count": null,
   "metadata": {},
   "outputs": [],
   "source": []
  },
  {
   "cell_type": "code",
   "execution_count": null,
   "metadata": {},
   "outputs": [],
   "source": []
  },
  {
   "cell_type": "code",
   "execution_count": null,
   "metadata": {},
   "outputs": [],
   "source": []
  }
 ],
 "metadata": {
  "kernelspec": {
   "display_name": "Python 3",
   "language": "python",
   "name": "python3"
  },
  "language_info": {
   "codemirror_mode": {
    "name": "ipython",
    "version": 3
   },
   "file_extension": ".py",
   "mimetype": "text/x-python",
   "name": "python",
   "nbconvert_exporter": "python",
   "pygments_lexer": "ipython3",
   "version": "3.7.1"
  }
 },
 "nbformat": 4,
 "nbformat_minor": 2
}
