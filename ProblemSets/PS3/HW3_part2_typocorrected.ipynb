{
 "cells": [
  {
   "cell_type": "markdown",
   "metadata": {},
   "source": [
    "### Exercise 5.9\n",
    "Let the maximum size of the cake 1. Let the number of possible cake values be N=100 so that the increment between each value is 0.01."
   ]
  },
  {
   "cell_type": "code",
   "execution_count": 1,
   "metadata": {},
   "outputs": [
    {
     "name": "stdout",
     "output_type": "stream",
     "text": [
      "[0.01 0.02 0.03 0.04 0.05 0.06 0.07 0.08 0.09 0.1  0.11 0.12 0.13 0.14\n",
      " 0.15 0.16 0.17 0.18 0.19 0.2  0.21 0.22 0.23 0.24 0.25 0.26 0.27 0.28\n",
      " 0.29 0.3  0.31 0.32 0.33 0.34 0.35 0.36 0.37 0.38 0.39 0.4  0.41 0.42\n",
      " 0.43 0.44 0.45 0.46 0.47 0.48 0.49 0.5  0.51 0.52 0.53 0.54 0.55 0.56\n",
      " 0.57 0.58 0.59 0.6  0.61 0.62 0.63 0.64 0.65 0.66 0.67 0.68 0.69 0.7\n",
      " 0.71 0.72 0.73 0.74 0.75 0.76 0.77 0.78 0.79 0.8  0.81 0.82 0.83 0.84\n",
      " 0.85 0.86 0.87 0.88 0.89 0.9  0.91 0.92 0.93 0.94 0.95 0.96 0.97 0.98\n",
      " 0.99 1.  ]\n"
     ]
    }
   ],
   "source": [
    "import numpy as np\n",
    "\n",
    "# Set a vecor of discretized cake sizes\n",
    "w_lb = 1e-2 # lower bound of cake size should not be too small.\n",
    "w_ub = 1.0\n",
    "N = 100\n",
    "w_vec = np.linspace(w_lb,w_ub,N)\n",
    "print(w_vec)"
   ]
  },
  {
   "cell_type": "markdown",
   "metadata": {},
   "source": [
    "### Exercise 5.10\n",
    "$V_{T+1}(W^\\prime)$ is a column vector of zeros of length N. Assume that the period utility function has the logarithm functional form and that the discount factor is 0.9. What is the resulting policy function $W^\\prime=\\psi_T(W)$ and value function $V_T(W^\\prime)$ when V is defined as the contraction. "
   ]
  },
  {
   "cell_type": "code",
   "execution_count": 2,
   "metadata": {},
   "outputs": [],
   "source": [
    "# Choose a utility function u(c)=log(c)\n",
    "# Set parameters 0.9\n",
    "def utility(c):\n",
    "    util = np.log(c)\n",
    "    return util\n",
    "beta = 0.9"
   ]
  },
  {
   "cell_type": "code",
   "execution_count": 3,
   "metadata": {},
   "outputs": [
    {
     "name": "stdout",
     "output_type": "stream",
     "text": [
      "[[0.01 0.01 0.01 ... 0.01 0.01 0.01]\n",
      " [0.02 0.02 0.02 ... 0.02 0.02 0.02]\n",
      " [0.03 0.03 0.03 ... 0.03 0.03 0.03]\n",
      " ...\n",
      " [0.98 0.98 0.98 ... 0.98 0.98 0.98]\n",
      " [0.99 0.99 0.99 ... 0.99 0.99 0.99]\n",
      " [1.   1.   1.   ... 1.   1.   1.  ]]\n",
      "[[0.01 0.02 0.03 ... 0.98 0.99 1.  ]\n",
      " [0.01 0.02 0.03 ... 0.98 0.99 1.  ]\n",
      " [0.01 0.02 0.03 ... 0.98 0.99 1.  ]\n",
      " ...\n",
      " [0.01 0.02 0.03 ... 0.98 0.99 1.  ]\n",
      " [0.01 0.02 0.03 ... 0.98 0.99 1.  ]\n",
      " [0.01 0.02 0.03 ... 0.98 0.99 1.  ]]\n"
     ]
    }
   ],
   "source": [
    "W=np.tile(w_vec.reshape((N,1)),(1,N))\n",
    "print(W)\n",
    "W_prime=np.tile(w_vec.reshape((1,N)),(N,1))\n",
    "print(W_prime)"
   ]
  },
  {
   "cell_type": "markdown",
   "metadata": {},
   "source": [
    "The policy function $\\psi_T(W)$ will be an N x 1 column vector that represents the W' value that maximizes the value function for a given W. "
   ]
  },
  {
   "cell_type": "code",
   "execution_count": 29,
   "metadata": {},
   "outputs": [
    {
     "name": "stdout",
     "output_type": "stream",
     "text": [
      "[[ 0.   -0.01 -0.02 ... -0.97 -0.98 -0.99]\n",
      " [ 0.01  0.   -0.01 ... -0.96 -0.97 -0.98]\n",
      " [ 0.02  0.01  0.   ... -0.95 -0.96 -0.97]\n",
      " ...\n",
      " [ 0.97  0.96  0.95 ...  0.   -0.01 -0.02]\n",
      " [ 0.98  0.97  0.96 ...  0.01  0.   -0.01]\n",
      " [ 0.99  0.98  0.97 ...  0.02  0.01  0.  ]]\n",
      "[[False False False ... False False False]\n",
      " [ True False False ... False False False]\n",
      " [ True  True False ... False False False]\n",
      " ...\n",
      " [ True  True  True ... False False False]\n",
      " [ True  True  True ...  True False False]\n",
      " [ True  True  True ...  True  True False]]\n",
      "[[1.0e-07 1.0e-07 1.0e-07 ... 1.0e-07 1.0e-07 1.0e-07]\n",
      " [1.0e-02 1.0e-07 1.0e-07 ... 1.0e-07 1.0e-07 1.0e-07]\n",
      " [2.0e-02 1.0e-02 1.0e-07 ... 1.0e-07 1.0e-07 1.0e-07]\n",
      " ...\n",
      " [9.7e-01 9.6e-01 9.5e-01 ... 1.0e-07 1.0e-07 1.0e-07]\n",
      " [9.8e-01 9.7e-01 9.6e-01 ... 1.0e-02 1.0e-07 1.0e-07]\n",
      " [9.9e-01 9.8e-01 9.7e-01 ... 2.0e-02 1.0e-02 1.0e-07]]\n",
      "[[-1.61180957e+01 -1.61180957e+01 -1.61180957e+01 ... -1.61180957e+01\n",
      "  -1.61180957e+01 -1.61180957e+01]\n",
      " [-4.60517019e+00 -1.61180957e+01 -1.61180957e+01 ... -1.61180957e+01\n",
      "  -1.61180957e+01 -1.61180957e+01]\n",
      " [-3.91202301e+00 -4.60517019e+00 -1.61180957e+01 ... -1.61180957e+01\n",
      "  -1.61180957e+01 -1.61180957e+01]\n",
      " ...\n",
      " [-3.04592075e-02 -4.08219945e-02 -5.12932944e-02 ... -1.61180957e+01\n",
      "  -1.61180957e+01 -1.61180957e+01]\n",
      " [-2.02027073e-02 -3.04592075e-02 -4.08219945e-02 ... -4.60517019e+00\n",
      "  -1.61180957e+01 -1.61180957e+01]\n",
      " [-1.00503359e-02 -2.02027073e-02 -3.04592075e-02 ... -3.91202301e+00\n",
      "  -4.60517019e+00 -1.61180957e+01]]\n"
     ]
    }
   ],
   "source": [
    "# Create utility matrix\n",
    "# copying the vector columnwise into n times to the right to fill up the whole matrix\n",
    "c_mat = (W-W_prime)\n",
    "print(c_mat)\n",
    "c_pos = c_mat > 0\n",
    "print(c_pos)\n",
    "c_mat[~c_pos] = 1e-7\n",
    "print(c_mat)\n",
    "u_mat = utility(c_mat)\n",
    "print(u_mat)\n",
    "\n",
    "# Zero or bad consumption for upper body\n",
    "# all the elements will be negative since we took logarithm."
   ]
  },
  {
   "cell_type": "code",
   "execution_count": 48,
   "metadata": {},
   "outputs": [
    {
     "data": {
      "text/plain": [
       "array([0.01, 0.01, 0.01, 0.01, 0.01, 0.01, 0.01, 0.01, 0.01, 0.01, 0.01,\n",
       "       0.01, 0.01, 0.01, 0.01, 0.01, 0.01, 0.01, 0.01, 0.01, 0.01, 0.01,\n",
       "       0.01, 0.01, 0.01, 0.01, 0.01, 0.01, 0.01, 0.01, 0.01, 0.01, 0.01,\n",
       "       0.01, 0.01, 0.01, 0.01, 0.01, 0.01, 0.01, 0.01, 0.01, 0.01, 0.01,\n",
       "       0.01, 0.01, 0.01, 0.01, 0.01, 0.01, 0.01, 0.01, 0.01, 0.01, 0.01,\n",
       "       0.01, 0.01, 0.01, 0.01, 0.01, 0.01, 0.01, 0.01, 0.01, 0.01, 0.01,\n",
       "       0.01, 0.01, 0.01, 0.01, 0.01, 0.01, 0.01, 0.01, 0.01, 0.01, 0.01,\n",
       "       0.01, 0.01, 0.01, 0.01, 0.01, 0.01, 0.01, 0.01, 0.01, 0.01, 0.01,\n",
       "       0.01, 0.01, 0.01, 0.01, 0.01, 0.01, 0.01, 0.01, 0.01, 0.01, 0.01,\n",
       "       0.01])"
      ]
     },
     "execution_count": 48,
     "metadata": {},
     "output_type": "execute_result"
    }
   ],
   "source": [
    "# One contraction mapping\n",
    "beta = 0.9\n",
    "\n",
    "# Assume that V_{T+1}(W')=0 for all W' \n",
    "v_prime = np.zeros(N).reshape(N,1) # create matrix of initial guess vector tile it up to N times\n",
    "v_new_1 = (u_mat + beta*v_prime).max(axis=1)# maximize along the each row, somewhere between the lower diagonal\n",
    "ind=np.argmax(u_mat + beta*v_prime,axis=1) \n",
    "w_vec[ind]"
   ]
  },
  {
   "cell_type": "code",
   "execution_count": 49,
   "metadata": {},
   "outputs": [
    {
     "data": {
      "image/png": "[encoded data removed]",
      "text/plain": [
       "<Figure size 432x288 with 1 Axes>"
      ]
     },
     "metadata": {
      "needs_background": "light"
     },
     "output_type": "display_data"
    }
   ],
   "source": [
    "import matplotlib.pyplot as plt\n",
    "plt.plot(w_vec,w_vec[ind])\n",
    "plt.title(\"policy function\")\n",
    "plt.show()"
   ]
  },
  {
   "cell_type": "code",
   "execution_count": 50,
   "metadata": {},
   "outputs": [
    {
     "data": {
      "image/png": "[encoded data removed]",
      "text/plain": [
       "<Figure size 432x288 with 1 Axes>"
      ]
     },
     "metadata": {
      "needs_background": "light"
     },
     "output_type": "display_data"
    }
   ],
   "source": [
    "plt.plot(v_new_1[1:])\n",
    "plt.title(\"value function\")\n",
    "plt.show()"
   ]
  },
  {
   "cell_type": "markdown",
   "metadata": {},
   "source": [
    "### Exercise 5.11 \n",
    "Generate a norm that measures the distance between the two value functions. Define the distance metric as the sum of the squared differences."
   ]
  },
  {
   "cell_type": "code",
   "execution_count": 51,
   "metadata": {},
   "outputs": [
    {
     "data": {
      "text/plain": [
       "133.5146419730059"
      ]
     },
     "execution_count": 51,
     "metadata": {},
     "output_type": "execute_result"
    }
   ],
   "source": [
    "# Check distance of ||V_i+t(w)-V_i(w)||\n",
    "# Create a distance measure\n",
    "def dist (a,b):\n",
    "    return ((a - b)**2).sum()\n",
    "dist1 = dist(v_new_1,v_init)\n",
    "dist1"
   ]
  },
  {
   "cell_type": "markdown",
   "metadata": {},
   "source": [
    "### Exercise 5.12\n",
    "Take the resulting $V_{T}$ from the Exercise 5.10, and perform the same contraction on it to generate $V_{T-1}$ and $\\psi_{T-1}$.\n"
   ]
  },
  {
   "cell_type": "code",
   "execution_count": 53,
   "metadata": {},
   "outputs": [
    {
     "data": {
      "text/plain": [
       "array([0.01, 0.01, 0.02, 0.02, 0.03, 0.03, 0.04, 0.04, 0.05, 0.05, 0.06,\n",
       "       0.06, 0.07, 0.07, 0.08, 0.08, 0.09, 0.09, 0.1 , 0.1 , 0.1 , 0.11,\n",
       "       0.11, 0.12, 0.12, 0.13, 0.13, 0.14, 0.14, 0.15, 0.15, 0.16, 0.16,\n",
       "       0.17, 0.17, 0.18, 0.18, 0.19, 0.19, 0.19, 0.2 , 0.2 , 0.21, 0.21,\n",
       "       0.22, 0.22, 0.23, 0.23, 0.24, 0.24, 0.25, 0.25, 0.26, 0.26, 0.27,\n",
       "       0.27, 0.28, 0.28, 0.28, 0.29, 0.29, 0.3 , 0.3 , 0.31, 0.31, 0.32,\n",
       "       0.32, 0.33, 0.33, 0.34, 0.34, 0.35, 0.35, 0.36, 0.36, 0.37, 0.37,\n",
       "       0.37, 0.38, 0.38, 0.39, 0.39, 0.4 , 0.4 , 0.41, 0.41, 0.42, 0.42,\n",
       "       0.43, 0.43, 0.44, 0.44, 0.45, 0.45, 0.46, 0.46, 0.46, 0.47, 0.47,\n",
       "       0.48])"
      ]
     },
     "execution_count": 53,
     "metadata": {},
     "output_type": "execute_result"
    }
   ],
   "source": [
    "# second contraction mapping\n",
    "v_prime = v_new_1\n",
    "v_init = utility(w_vec)\n",
    "beta = 0.9\n",
    "v_prime = np.tile(v_prime.reshape((1,N)),(N,1)) # create matrix of initial guess vector tile it up to N times\n",
    "v_prime[~c_pos]=-9e+10\n",
    "v_new_2 = (u_mat + beta*v_prime).max(axis=1) # maximize along the each row, somewhere between the lower diagonal\n",
    "ind=np.argmax(u_mat + beta*v_prime,axis=1)\n",
    "w_vec[ind]"
   ]
  },
  {
   "cell_type": "code",
   "execution_count": 54,
   "metadata": {},
   "outputs": [
    {
     "data": {
      "text/plain": [
       "array([[-9.00000000e+10, -9.00000000e+10, -9.00000000e+10, ...,\n",
       "        -9.00000000e+10, -9.00000000e+10, -9.00000000e+10],\n",
       "       [-1.61180957e+01, -9.00000000e+10, -9.00000000e+10, ...,\n",
       "        -9.00000000e+10, -9.00000000e+10, -9.00000000e+10],\n",
       "       [-1.61180957e+01, -4.60517019e+00, -9.00000000e+10, ...,\n",
       "        -9.00000000e+10, -9.00000000e+10, -9.00000000e+10],\n",
       "       ...,\n",
       "       [-1.61180957e+01, -4.60517019e+00, -3.91202301e+00, ...,\n",
       "        -9.00000000e+10, -9.00000000e+10, -9.00000000e+10],\n",
       "       [-1.61180957e+01, -4.60517019e+00, -3.91202301e+00, ...,\n",
       "        -3.04592075e-02, -9.00000000e+10, -9.00000000e+10],\n",
       "       [-1.61180957e+01, -4.60517019e+00, -3.91202301e+00, ...,\n",
       "        -3.04592075e-02, -2.02027073e-02, -9.00000000e+10]])"
      ]
     },
     "execution_count": 54,
     "metadata": {},
     "output_type": "execute_result"
    }
   ],
   "source": [
    "v_prime"
   ]
  },
  {
   "cell_type": "code",
   "execution_count": 55,
   "metadata": {},
   "outputs": [
    {
     "data": {
      "image/png": "[encoded data removed]",
      "text/plain": [
       "<Figure size 432x288 with 1 Axes>"
      ]
     },
     "metadata": {
      "needs_background": "light"
     },
     "output_type": "display_data"
    }
   ],
   "source": [
    "plt.plot(w_vec,w_vec[ind])\n",
    "plt.title(\"policy function\")\n",
    "plt.show()"
   ]
  },
  {
   "cell_type": "code",
   "execution_count": 56,
   "metadata": {},
   "outputs": [
    {
     "data": {
      "image/png": "[encoded data removed]",
      "text/plain": [
       "<Figure size 432x288 with 1 Axes>"
      ]
     },
     "metadata": {
      "needs_background": "light"
     },
     "output_type": "display_data"
    }
   ],
   "source": [
    "plt.plot(v_new_2[1:],)\n",
    "plt.title(\"value function\")\n",
    "plt.show()"
   ]
  },
  {
   "cell_type": "code",
   "execution_count": 57,
   "metadata": {},
   "outputs": [
    {
     "name": "stdout",
     "output_type": "stream",
     "text": [
      "Distance1= 133.5146419730059 Distance2= 6.561e+21\n",
      "Distance1 - Distance2 = -6.561e+21\n"
     ]
    }
   ],
   "source": [
    "#print('v_init',v_init)\n",
    "#print('v_new',v_new)\n",
    "dist2 = dist(v_new_1, v_new_2)\n",
    "print('Distance1=', dist1, 'Distance2=', dist2)\n",
    "print('Distance1 - Distance2 =', dist1 - dist2)"
   ]
  },
  {
   "cell_type": "markdown",
   "metadata": {},
   "source": [
    "We can check that the distance spiked at the first time."
   ]
  },
  {
   "cell_type": "markdown",
   "metadata": {},
   "source": [
    "### Exercise 5.13\n",
    "Repeat 5.12 and generate value function and policy function by performing the contraction."
   ]
  },
  {
   "cell_type": "code",
   "execution_count": 58,
   "metadata": {},
   "outputs": [
    {
     "data": {
      "text/plain": [
       "array([0.01, 0.01, 0.02, 0.03, 0.03, 0.04, 0.05, 0.05, 0.06, 0.07, 0.07,\n",
       "       0.08, 0.09, 0.09, 0.1 , 0.1 , 0.11, 0.12, 0.12, 0.13, 0.14, 0.14,\n",
       "       0.15, 0.16, 0.16, 0.17, 0.18, 0.18, 0.19, 0.19, 0.2 , 0.2 , 0.21,\n",
       "       0.22, 0.22, 0.23, 0.24, 0.24, 0.25, 0.26, 0.26, 0.27, 0.28, 0.28,\n",
       "       0.29, 0.29, 0.3 , 0.31, 0.31, 0.32, 0.33, 0.33, 0.34, 0.35, 0.35,\n",
       "       0.36, 0.36, 0.37, 0.37, 0.38, 0.39, 0.39, 0.4 , 0.41, 0.41, 0.42,\n",
       "       0.43, 0.43, 0.44, 0.45, 0.45, 0.46, 0.46, 0.47, 0.48, 0.48, 0.49,\n",
       "       0.5 , 0.5 , 0.51, 0.52, 0.52, 0.53, 0.53, 0.54, 0.55, 0.55, 0.56,\n",
       "       0.56, 0.57, 0.58, 0.58, 0.59, 0.6 , 0.6 , 0.61, 0.62, 0.62, 0.63,\n",
       "       0.64])"
      ]
     },
     "execution_count": 58,
     "metadata": {},
     "output_type": "execute_result"
    }
   ],
   "source": [
    "# third contraction mapping\n",
    "v_prime=v_new_2\n",
    "v_init = utility(w_vec)\n",
    "beta = 0.9\n",
    "v_prime = np.tile(v_prime.reshape((1,N)),(N,1)) # create matrix of initial guess vector tile it up to N times\n",
    "v_prime[~c_pos]=-9e+10\n",
    "v_new_3 = (u_mat + beta*v_prime).max(axis=1) # maximize along the each row, somewhere between the lower diagonal\n",
    "ind=np.argmax(u_mat + beta*v_prime,axis=1)\n",
    "w_vec[ind]"
   ]
  },
  {
   "cell_type": "code",
   "execution_count": 61,
   "metadata": {},
   "outputs": [
    {
     "data": {
      "image/png": "[encoded data removed]",
      "text/plain": [
       "<Figure size 432x288 with 1 Axes>"
      ]
     },
     "metadata": {
      "needs_background": "light"
     },
     "output_type": "display_data"
    }
   ],
   "source": [
    "plt.plot(w_vec,w_vec[ind])\n",
    "plt.title(\"policy function\")\n",
    "plt.show()"
   ]
  },
  {
   "cell_type": "code",
   "execution_count": 62,
   "metadata": {},
   "outputs": [
    {
     "data": {
      "image/png": "[encoded data removed]",
      "text/plain": [
       "<Figure size 432x288 with 1 Axes>"
      ]
     },
     "metadata": {
      "needs_background": "light"
     },
     "output_type": "display_data"
    }
   ],
   "source": [
    "plt.plot(v_new_3[1:],)\n",
    "plt.title(\"value function\")\n",
    "plt.show()"
   ]
  },
  {
   "cell_type": "code",
   "execution_count": 64,
   "metadata": {},
   "outputs": [
    {
     "name": "stdout",
     "output_type": "stream",
     "text": [
      "Distance2= 6.561e+21 Distance3= 5.314410000000002e+21\n",
      "Distance2 - Distance3 = 1.2465899999999977e+21\n"
     ]
    }
   ],
   "source": [
    "#print('v_init',v_init)\n",
    "#print('v_new',v_new)\n",
    "dist3 = dist(v_new_2, v_new_3)\n",
    "print('Distance2=', dist2, 'Distance3=', dist3)\n",
    "print('Distance2 - Distance3 =', dist2 - dist3)"
   ]
  },
  {
   "cell_type": "markdown",
   "metadata": {},
   "source": [
    "We can check that the distance decreased."
   ]
  },
  {
   "cell_type": "markdown",
   "metadata": {},
   "source": [
    "### Exercise 5.14\n",
    "Write a while loop in PAython that performs the contraction operation."
   ]
  },
  {
   "cell_type": "code",
   "execution_count": 65,
   "metadata": {},
   "outputs": [
    {
     "name": "stdout",
     "output_type": "stream",
     "text": [
      "[[1.0e-07 1.0e-07 1.0e-07 ... 1.0e-07 1.0e-07 1.0e-07]\n",
      " [1.0e-02 1.0e-07 1.0e-07 ... 1.0e-07 1.0e-07 1.0e-07]\n",
      " [2.0e-02 1.0e-02 1.0e-07 ... 1.0e-07 1.0e-07 1.0e-07]\n",
      " ...\n",
      " [9.7e-01 9.6e-01 9.5e-01 ... 1.0e-07 1.0e-07 1.0e-07]\n",
      " [9.8e-01 9.7e-01 9.6e-01 ... 1.0e-02 1.0e-07 1.0e-07]\n",
      " [9.9e-01 9.8e-01 9.7e-01 ... 2.0e-02 1.0e-02 1.0e-07]]\n",
      "Iter= 1 ,distance= 6562865744.5285635\n",
      "Iter= 2 ,distance= 5315921432.356884\n",
      "Iter= 3 ,distance= 4305896471.418966\n",
      "Iter= 4 ,distance= 3487776216.5675955\n",
      "Iter= 5 ,distance= 2825098788.019544\n",
      "Iter= 6 ,distance= 2288330056.357764\n",
      "Iter= 7 ,distance= 1853547373.8090138\n",
      "Iter= 8 ,distance= 1501373394.0455368\n",
      "Iter= 9 ,distance= 1216112465.4304204\n",
      "Iter= 10 ,distance= 985051109.6286845\n",
      "Iter= 11 ,distance= 797891408.7166361\n",
      "Iter= 12 ,distance= 646292049.0098146\n",
      "Iter= 13 ,distance= 523496566.09326845\n",
      "Iter= 14 ,distance= 424032223.8060949\n",
      "Iter= 15 ,distance= 343466105.6810028\n",
      "Iter= 16 ,distance= 278207549.28964245\n",
      "Iter= 17 ,distance= 225348118.14783967\n",
      "Iter= 18 ,distance= 182531978.5237014\n",
      "Iter= 19 ,distance= 147850905.07819986\n",
      "Iter= 20 ,distance= 119759235.2952075\n",
      "Iter= 21 ,distance= 97004982.62446027\n",
      "Iter= 22 ,distance= 78574037.84896688\n",
      "Iter= 23 ,distance= 63644972.47794887\n",
      "Iter= 24 ,distance= 51552429.430967025\n",
      "Iter= 25 ,distance= 41757469.47440472\n",
      "Iter= 26 ,distance= 33823551.827785835\n",
      "Iter= 27 ,distance= 27397078.459374633\n",
      "Iter= 28 ,distance= 22191634.962838765\n",
      "Iter= 29 ,distance= 17975225.668041237\n",
      "Iter= 30 ,distance= 14559934.08201728\n",
      "Iter= 31 ,distance= 11793547.845384818\n",
      "Iter= 32 ,distance= 9552774.945148401\n",
      "Iter= 33 ,distance= 7737748.852714853\n",
      "Iter= 34 ,distance= 6267577.678039737\n",
      "Iter= 35 ,distance= 5076738.990749551\n",
      "Iter= 36 ,distance= 4112159.6213727905\n",
      "Iter= 37 ,distance= 3330850.302746049\n",
      "Iter= 38 ,distance= 2697989.7279021647\n",
      "Iter= 39 ,distance= 2185372.6378935925\n",
      "Iter= 40 ,distance= 1770152.7729575469\n",
      "Iter= 41 ,distance= 1433824.6613737969\n",
      "Iter= 42 ,distance= 1161398.8725077203\n",
      "Iter= 43 ,distance= 940733.966255255\n",
      "Iter= 44 ,distance= 761995.3766587331\n",
      "Iter= 45 ,distance= 617217.1044967123\n",
      "Iter= 46 ,distance= 499946.69099409645\n",
      "Iter= 47 ,distance= 404957.64397924696\n",
      "Iter= 48 ,distance= 328016.50488471217\n",
      "Iter= 49 ,distance= 265694.17112556845\n",
      "Iter= 50 ,distance= 215213.07107789887\n",
      "Iter= 51 ,distance= 174323.37058658482\n",
      "Iter= 52 ,distance= 141202.70459295483\n",
      "Iter= 53 ,distance= 114374.95641636376\n",
      "Iter= 54 ,distance= 92644.47264714992\n",
      "Iter= 55 ,distance= 75042.7735946502\n",
      "Iter= 56 ,distance= 60785.389507979846\n",
      "Iter= 57 ,distance= 49236.90155629743\n",
      "Iter= 58 ,distance= 39882.61927987316\n",
      "Iter= 59 ,distance= 32305.644134738748\n",
      "Iter= 60 ,distance= 26168.287223927535\n",
      "Iter= 61 ,distance= 21197.021841587048\n",
      "Iter= 62 ,distance= 17170.289488459726\n",
      "Iter= 63 ,distance= 13908.630003651317\n",
      "Iter= 64 ,distance= 11266.679087909873\n",
      "Iter= 65 ,distance= 9126.692545526796\n",
      "Iter= 66 ,distance= 7393.296313751705\n",
      "Iter= 67 ,distance= 5989.23897649798\n",
      "Iter= 68 ,distance= 4851.944658812899\n",
      "Iter= 69 ,distance= 3930.7284462668263\n",
      "Iter= 70 ,distance= 3184.5363230619337\n",
      "Iter= 71 ,distance= 2580.112611342885\n",
      "Iter= 72 ,distance= 2090.5221385606515\n",
      "Iter= 73 ,distance= 1693.9447045654001\n",
      "Iter= 74 ,distance= 1372.7078372150888\n",
      "Iter= 75 ,distance= 1112.4977797380122\n",
      "Iter= 76 ,distance= 901.7180385590614\n",
      "Iter= 77 ,distance= 730.9748561441429\n",
      "Iter= 78 ,distance= 592.6618350006563\n",
      "Iter= 79 ,distance= 480.6183842258008\n",
      "Iter= 80 ,distance= 389.85153775883634\n",
      "Iter= 81 ,distance= 316.3162576883642\n",
      "Iter= 82 ,distance= 256.73919927127844\n",
      "Iter= 83 ,distance= 208.46968536316135\n",
      "Iter= 84 ,distance= 169.3515350793084\n",
      "Iter= 85 ,distance= 137.64926948497566\n",
      "Iter= 86 ,distance= 111.95556810037779\n",
      "Iter= 87 ,distance= 91.11923911040148\n",
      "Iter= 88 ,distance= 74.22141799245615\n",
      "Iter= 89 ,distance= 60.515875184857194\n",
      "Iter= 90 ,distance= 49.378574412700395\n",
      "Iter= 91 ,distance= 40.238518539504845\n",
      "Iter= 92 ,distance= 32.122968879551344\n",
      "Iter= 93 ,distance= 25.53883296249989\n",
      "Iter= 94 ,distance= 19.764782340900425\n",
      "Iter= 95 ,distance= 15.153203272642822\n",
      "Iter= 96 ,distance= 11.172872644411502\n",
      "Iter= 97 ,distance= 8.01896071891611\n",
      "Iter= 98 ,distance= 5.340328256839245\n",
      "Iter= 99 ,distance= 3.234203350397436\n",
      "Iter= 100 ,distance= 1.4631241776503991\n",
      "Iter= 101 ,distance= 0.0\n",
      "yay! done\n",
      "v(w) [-8.10161181e+04 -7.29191115e+04 -6.56318055e+04 -5.90732301e+04\n",
      " -5.31705123e+04 -4.78580662e+04 -4.30768648e+04 -3.87737835e+04\n",
      " -3.49010103e+04 -3.14155144e+04 -2.82785681e+04 -2.54553165e+04\n",
      " -2.29143900e+04 -2.06275562e+04 -1.85694057e+04 -1.67170703e+04\n",
      " -1.50499685e+04 -1.35495768e+04 -1.21992243e+04 -1.09839070e+04\n",
      " -9.89012150e+03 -8.90571452e+03 -8.01974824e+03 -7.22237858e+03\n",
      " -6.50474589e+03 -5.85887647e+03 -5.27759400e+03 -4.75443977e+03\n",
      " -4.28360096e+03 -3.85984604e+03 -3.47846660e+03 -3.13522511e+03\n",
      " -2.82630777e+03 -2.54828216e+03 -2.29805912e+03 -2.07285838e+03\n",
      " -1.87017771e+03 -1.68776511e+03 -1.52359377e+03 -1.37583956e+03\n",
      " -1.24286077e+03 -1.12317987e+03 -1.01546705e+03 -9.18525516e+02\n",
      " -8.31278135e+02 -7.52755491e+02 -6.82085112e+02 -6.18481771e+02\n",
      " -5.61238764e+02 -5.09720058e+02 -4.63353223e+02 -4.21623071e+02\n",
      " -3.84065934e+02 -3.50264510e+02 -3.19843230e+02 -2.92464077e+02\n",
      " -2.67822839e+02 -2.45645726e+02 -2.25686323e+02 -2.07722861e+02\n",
      " -1.91555745e+02 -1.77005341e+02 -1.63909977e+02 -1.52124149e+02\n",
      " -1.41516905e+02 -1.31970384e+02 -1.23378516e+02 -1.15645835e+02\n",
      " -1.08686421e+02 -1.02422949e+02 -9.67858247e+01 -9.17124124e+01\n",
      " -8.71463414e+01 -8.30368774e+01 -7.93383599e+01 -7.60096941e+01\n",
      " -7.30138948e+01 -7.03176755e+01 -6.78910782e+01 -6.57071405e+01\n",
      " -6.37415967e+01 -6.19726072e+01 -6.03805167e+01 -5.89476352e+01\n",
      " -5.76580418e+01 -5.64974078e+01 -5.54528372e+01 -5.45127237e+01\n",
      " -5.36666215e+01 -5.29051296e+01 -5.22119824e+01 -5.15266396e+01\n",
      " -5.09028071e+01 -5.02859987e+01 -4.97245494e+01 -4.91694218e+01\n",
      " -4.86641175e+01 -4.81645026e+01 -4.77097288e+01 -4.72600754e+01]\n"
     ]
    }
   ],
   "source": [
    "# Initial guess for value function\n",
    "# Set a vecor of discretized cake sizes\n",
    "w_lb = 1e-2\n",
    "w_ub = 1.0\n",
    "N = 100\n",
    "v_init = np.zeros_like(w_vec) #v_init = np.zeros(n)\n",
    "v_init = utility(w_vec)\n",
    "\n",
    "# Create utility matrix\n",
    "# copying the vector columnwise into n times to the right to fill up the whole matrix\n",
    "c_mat = (np.tile(w_vec.reshape((N,1)),(1,N))-\n",
    "         np.tile(w_vec.reshape((1,N)),(N,1)))\n",
    "c_pos = c_mat > 0\n",
    "c_mat[~c_pos] = 1e-7\n",
    "print(c_mat)\n",
    "u_mat = utility(c_mat)\n",
    "\n",
    "maxiters = 500\n",
    "toler = 1e-10\n",
    "dist = 10.0\n",
    "vf_iter = 0\n",
    "while dist > toler and vf_iter < maxiters:\n",
    "    vf_iter += 1\n",
    "    # One contraction mapping\n",
    "    v_prime = np.tile(v_init.reshape((1,N)),(N,1)) # create matrix of initial guess vector tile it up to N times\n",
    "    v_prime[~c_pos]=-9e+4\n",
    "    v_new = (u_mat + beta*v_prime).max(axis=1) # maximize along the each row, somewhere between the lower diagonal\n",
    "    ind=np.argmax(u_mat + beta*v_prime,axis=1)\n",
    "    dist = ((v_new - v_init)**2).sum()\n",
    "    print('Iter=',vf_iter,',distance=',dist)\n",
    "    v_init = v_new\n",
    "    \n",
    "print('yay! done')\n",
    "print('v(w)',v_init)"
   ]
  },
  {
   "cell_type": "code",
   "execution_count": 66,
   "metadata": {},
   "outputs": [
    {
     "name": "stdout",
     "output_type": "stream",
     "text": [
      "101\n"
     ]
    }
   ],
   "source": [
    "print(vf_iter)"
   ]
  },
  {
   "cell_type": "markdown",
   "metadata": {},
   "source": [
    "### Exercise 5.15\n",
    "Plot the policy function for the converged problem."
   ]
  },
  {
   "cell_type": "code",
   "execution_count": 67,
   "metadata": {},
   "outputs": [
    {
     "data": {
      "text/plain": [
       "[<matplotlib.lines.Line2D at 0x2c572e65b38>]"
      ]
     },
     "execution_count": 67,
     "metadata": {},
     "output_type": "execute_result"
    },
    {
     "data": {
      "image/png": "[encoded data removed]",
      "text/plain": [
       "<Figure size 432x288 with 1 Axes>"
      ]
     },
     "metadata": {
      "needs_background": "light"
     },
     "output_type": "display_data"
    }
   ],
   "source": [
    "plt.plot(w_vec,v_new)"
   ]
  },
  {
   "cell_type": "code",
   "execution_count": 69,
   "metadata": {},
   "outputs": [
    {
     "data": {
      "text/plain": [
       "array([0.01, 0.01, 0.02, 0.03, 0.04, 0.05, 0.06, 0.07, 0.08, 0.09, 0.1 ,\n",
       "       0.11, 0.12, 0.13, 0.14, 0.15, 0.16, 0.17, 0.18, 0.19, 0.2 , 0.21,\n",
       "       0.22, 0.23, 0.24, 0.25, 0.26, 0.27, 0.28, 0.29, 0.3 , 0.31, 0.32,\n",
       "       0.33, 0.34, 0.35, 0.36, 0.37, 0.38, 0.39, 0.4 , 0.41, 0.42, 0.43,\n",
       "       0.44, 0.45, 0.46, 0.47, 0.48, 0.49, 0.5 , 0.51, 0.52, 0.53, 0.54,\n",
       "       0.55, 0.56, 0.57, 0.58, 0.59, 0.6 , 0.61, 0.62, 0.63, 0.64, 0.65,\n",
       "       0.66, 0.67, 0.68, 0.69, 0.7 , 0.71, 0.72, 0.73, 0.74, 0.75, 0.76,\n",
       "       0.77, 0.78, 0.79, 0.8 , 0.81, 0.82, 0.83, 0.84, 0.85, 0.86, 0.87,\n",
       "       0.88, 0.89, 0.89, 0.9 , 0.91, 0.92, 0.93, 0.94, 0.95, 0.96, 0.97,\n",
       "       0.98])"
      ]
     },
     "execution_count": 69,
     "metadata": {},
     "output_type": "execute_result"
    },
    {
     "data": {
      "image/png": "[encoded data removed]",
      "text/plain": [
       "<Figure size 432x288 with 1 Axes>"
      ]
     },
     "metadata": {
      "needs_background": "light"
     },
     "output_type": "display_data"
    }
   ],
   "source": [
    "plt.plot(w_vec,w_vec[ind])\n",
    "plt.title(\"policy function\")\n",
    "w_vec[ind]"
   ]
  },
  {
   "cell_type": "markdown",
   "metadata": {},
   "source": [
    "### Exercise 5.16\n",
    "Approximate the support of $\\epsilon$ by generating a row vector of possible values for $\\epsilon$. Let the maximum value be three standard deviations above the mean and let the minimum value be three standard deviations below. "
   ]
  },
  {
   "cell_type": "code",
   "execution_count": 71,
   "metadata": {},
   "outputs": [
    {
     "data": {
      "text/plain": [
       "array([0.5, 1. , 1.5, 2. , 2.5, 3. , 3.5])"
      ]
     },
     "execution_count": 71,
     "metadata": {},
     "output_type": "execute_result"
    }
   ],
   "source": [
    "M=7\n",
    "sigma = 0.5\n",
    "mu = sigma*4\n",
    "e_max = mu + 3*sigma\n",
    "e_min = mu - 3*sigma\n",
    "e_vec = np.linspace(e_min,e_max,M)\n",
    "e_vec"
   ]
  },
  {
   "cell_type": "code",
   "execution_count": 72,
   "metadata": {},
   "outputs": [],
   "source": [
    "import math\n",
    "def pdf_normal(mean,sd,val):\n",
    "    in_paren = (val-mean)**2\n",
    "    in_paren = (-1)*in_paren/(2*(sd**2))\n",
    "    mid = math.e**in_paren\n",
    "    denom = (2*math.pi*(sd**2))**0.5\n",
    "    return (1/denom)*mid"
   ]
  },
  {
   "cell_type": "code",
   "execution_count": 73,
   "metadata": {},
   "outputs": [
    {
     "name": "stdout",
     "output_type": "stream",
     "text": [
      "[0.0088637  0.10798193 0.48394145 0.79788456 0.48394145 0.10798193\n",
      " 0.0088637 ]\n"
     ]
    }
   ],
   "source": [
    "gamma_vec = []\n",
    "for e in e_vec:\n",
    "    gamma_vec.append(pdf_normal(mu,sigma,e))\n",
    "gamma_vec = np.array(gamma_vec)\n",
    "print(gamma_vec)"
   ]
  },
  {
   "cell_type": "code",
   "execution_count": 74,
   "metadata": {},
   "outputs": [
    {
     "data": {
      "text/plain": [
       "[<matplotlib.lines.Line2D at 0x2c57305aef0>]"
      ]
     },
     "execution_count": 74,
     "metadata": {},
     "output_type": "execute_result"
    },
    {
     "data": {
      "image/png": "[encoded data removed]",
      "text/plain": [
       "<Figure size 432x288 with 1 Axes>"
      ]
     },
     "metadata": {
      "needs_background": "light"
     },
     "output_type": "display_data"
    }
   ],
   "source": [
    "plt.plot(e_vec,gamma_vec)"
   ]
  },
  {
   "cell_type": "code",
   "execution_count": 81,
   "metadata": {},
   "outputs": [
    {
     "data": {
      "text/plain": [
       "array([[0.0088637 ],\n",
       "       [0.10798193],\n",
       "       [0.48394145],\n",
       "       [0.79788456],\n",
       "       [0.48394145],\n",
       "       [0.10798193],\n",
       "       [0.0088637 ]])"
      ]
     },
     "execution_count": 81,
     "metadata": {},
     "output_type": "execute_result"
    }
   ],
   "source": [
    "gamma_vec.reshape((M,1))"
   ]
  },
  {
   "cell_type": "markdown",
   "metadata": {},
   "source": [
    "### Exercise 5.17\n",
    "We can do similary as what we did in Exercise 5.9"
   ]
  },
  {
   "cell_type": "code",
   "execution_count": 82,
   "metadata": {},
   "outputs": [
    {
     "data": {
      "text/plain": [
       "array([[-1.61180957e+01, -1.61180957e+01, -1.61180957e+01, ...,\n",
       "        -1.61180957e+01, -1.61180957e+01, -1.61180957e+01],\n",
       "       [-4.60517019e+00, -1.61180957e+01, -1.61180957e+01, ...,\n",
       "        -1.61180957e+01, -1.61180957e+01, -1.61180957e+01],\n",
       "       [-3.91202301e+00, -4.60517019e+00, -1.61180957e+01, ...,\n",
       "        -1.61180957e+01, -1.61180957e+01, -1.61180957e+01],\n",
       "       ...,\n",
       "       [-3.04592075e-02, -4.08219945e-02, -5.12932944e-02, ...,\n",
       "        -1.61180957e+01, -1.61180957e+01, -1.61180957e+01],\n",
       "       [-2.02027073e-02, -3.04592075e-02, -4.08219945e-02, ...,\n",
       "        -4.60517019e+00, -1.61180957e+01, -1.61180957e+01],\n",
       "       [-1.00503359e-02, -2.02027073e-02, -3.04592075e-02, ...,\n",
       "        -3.91202301e+00, -4.60517019e+00, -1.61180957e+01]])"
      ]
     },
     "execution_count": 82,
     "metadata": {},
     "output_type": "execute_result"
    }
   ],
   "source": [
    "u_mat"
   ]
  },
  {
   "cell_type": "code",
   "execution_count": 83,
   "metadata": {},
   "outputs": [],
   "source": [
    "import matplotlib.pyplot as plt\n",
    "from mpl_toolkits.mplot3d import Axes3D\n",
    "cube = np.array([u_mat*i for i in e_vec])"
   ]
  },
  {
   "cell_type": "code",
   "execution_count": 84,
   "metadata": {},
   "outputs": [
    {
     "data": {
      "text/plain": [
       "array([0.01, 0.01, 0.01, 0.01, 0.01, 0.01, 0.01, 0.01, 0.01, 0.01, 0.01,\n",
       "       0.01, 0.01, 0.01, 0.01, 0.01, 0.01, 0.01, 0.01, 0.01, 0.01, 0.01,\n",
       "       0.01, 0.01, 0.01, 0.01, 0.01, 0.01, 0.01, 0.01, 0.01, 0.01, 0.01,\n",
       "       0.01, 0.01, 0.01, 0.01, 0.01, 0.01, 0.01, 0.01, 0.01, 0.01, 0.01,\n",
       "       0.01, 0.01, 0.01, 0.01, 0.01, 0.01, 0.01, 0.01, 0.01, 0.01, 0.01,\n",
       "       0.01, 0.01, 0.01, 0.01, 0.01, 0.01, 0.01, 0.01, 0.01, 0.01, 0.01,\n",
       "       0.01, 0.01, 0.01, 0.01, 0.01, 0.01, 0.01, 0.01, 0.01, 0.01, 0.01,\n",
       "       0.01, 0.01, 0.01, 0.01, 0.01, 0.01, 0.01, 0.01, 0.01, 0.01, 0.01,\n",
       "       0.01, 0.01, 0.01, 0.01, 0.01, 0.01, 0.01, 0.01, 0.01, 0.01, 0.01,\n",
       "       0.01])"
      ]
     },
     "execution_count": 84,
     "metadata": {},
     "output_type": "execute_result"
    }
   ],
   "source": [
    "v_init = np.zeros((N,M)) # NxM matrix\n",
    "Ev = v_init@gamma_vec.reshape((M,1)) #1x1xN matrix\n",
    "Ev_mat = np.tile(Ev.reshape((1,N)),(N,1)) # copy it down N rows\n",
    "Ev_mat[~c_pos]=-9e+10 # replace all the entries\n",
    "Ev_cub = np.array([Ev_mat for i in range(M)]) # copy it M columns to get N x M x N cube\n",
    "\n",
    "v_t = cube + beta*Ev_cub # N x M x N matrix representing the period-T value function for any W,eps,W'\n",
    "v_new_1 = np.zeros((N,M))\n",
    "w_new_1 = np.zeros((N,M))\n",
    "for i in range(N):\n",
    "    v_tw = v_t[:,i,:]\n",
    "    v_new_1[i]=v_tw.max(axis=1)\n",
    "    ind = np.argmax(v_tw,axis=1)\n",
    "    w_new_1[i]=w_vec[ind]\n",
    "# Take the expectation of Ev by integrating out the eps' dimension\n",
    "policy_func = np.average(w_new_1,axis=1)\n",
    "policy_func"
   ]
  },
  {
   "cell_type": "code",
   "execution_count": 85,
   "metadata": {},
   "outputs": [
    {
     "data": {
      "text/plain": [
       "<function matplotlib.pyplot.show(*args, **kw)>"
      ]
     },
     "execution_count": 85,
     "metadata": {},
     "output_type": "execute_result"
    },
    {
     "data": {
      "image/png": "[encoded data removed]",
      "text/plain": [
       "<Figure size 432x288 with 1 Axes>"
      ]
     },
     "metadata": {
      "needs_background": "light"
     },
     "output_type": "display_data"
    }
   ],
   "source": [
    "plt.plot(w_vec, policy_func)\n",
    "plt.show"
   ]
  },
  {
   "cell_type": "code",
   "execution_count": 86,
   "metadata": {},
   "outputs": [
    {
     "data": {
      "image/png": "[encoded data removed]",
      "text/plain": [
       "<Figure size 432x288 with 1 Axes>"
      ]
     },
     "metadata": {
      "needs_background": "light"
     },
     "output_type": "display_data"
    }
   ],
   "source": [
    "plt.plot(np.average(v_new_1, axis=1))\n",
    "plt.show()"
   ]
  },
  {
   "cell_type": "markdown",
   "metadata": {},
   "source": [
    "### Exercise 5.18\n",
    "Generate a norm that measures the distance between the two value functions."
   ]
  },
  {
   "cell_type": "code",
   "execution_count": 87,
   "metadata": {},
   "outputs": [
    {
     "data": {
      "text/plain": [
       "4.592700003655584e+22"
      ]
     },
     "execution_count": 87,
     "metadata": {},
     "output_type": "execute_result"
    }
   ],
   "source": [
    "dist1 = np.sum((v_init.reshape((-1, 1), order=\"F\")-v_new_1.reshape((-1, 1), order=\"F\"))**2) # vec\n",
    "dist1"
   ]
  },
  {
   "cell_type": "markdown",
   "metadata": {},
   "source": [
    "### Exercise 5.19\n",
    "Take the resulting V_T from ex 5.17 and perform the same contraction on it to generate V_{T-1} and policy function. "
   ]
  },
  {
   "cell_type": "code",
   "execution_count": 88,
   "metadata": {},
   "outputs": [
    {
     "data": {
      "text/plain": [
       "array([0.01      , 0.02      , 0.02      , 0.03      , 0.03571429,\n",
       "       0.04285714, 0.05      , 0.05571429, 0.06285714, 0.07      ,\n",
       "       0.07571429, 0.08428571, 0.08857143, 0.09571429, 0.10285714,\n",
       "       0.11142857, 0.11571429, 0.12285714, 0.13142857, 0.13571429,\n",
       "       0.14428571, 0.14714286, 0.15571429, 0.16428571, 0.16857143,\n",
       "       0.17857143, 0.18142857, 0.19      , 0.19714286, 0.20285714,\n",
       "       0.20714286, 0.21571429, 0.22285714, 0.22857143, 0.23714286,\n",
       "       0.24285714, 0.24857143, 0.25571429, 0.26142857, 0.27      ,\n",
       "       0.27571429, 0.28142857, 0.29      , 0.29571429, 0.30142857,\n",
       "       0.31      , 0.31428571, 0.32285714, 0.32857143, 0.33571429,\n",
       "       0.34142857, 0.35      , 0.35571429, 0.36142857, 0.36714286,\n",
       "       0.37428571, 0.38285714, 0.39      , 0.39428571, 0.40285714,\n",
       "       0.40857143, 0.41571429, 0.42285714, 0.42571429, 0.43428571,\n",
       "       0.44142857, 0.44857143, 0.45571429, 0.46142857, 0.47      ,\n",
       "       0.47285714, 0.48285714, 0.48714286, 0.49571429, 0.50285714,\n",
       "       0.50857143, 0.51571429, 0.52      , 0.52857143, 0.53571429,\n",
       "       0.54142857, 0.54714286, 0.55571429, 0.56142857, 0.57      ,\n",
       "       0.57571429, 0.58285714, 0.58571429, 0.59571429, 0.60285714,\n",
       "       0.60857143, 0.61428571, 0.62142857, 0.63      , 0.63428571,\n",
       "       0.64      , 0.64857143, 0.65285714, 0.66142857, 0.66714286])"
      ]
     },
     "execution_count": 88,
     "metadata": {},
     "output_type": "execute_result"
    }
   ],
   "source": [
    "v_prime = v_new_1\n",
    "v_init = np.zeros((N,M)) # NxM matrix\n",
    "Ev = v_prime@gamma_vec.reshape((M,1)) #1x1xN matrix\n",
    "Ev_mat = np.tile(Ev.reshape((1,N)),(N,1)) # copy it down N rows\n",
    "Ev_mat[~c_pos]=-9e+10 # replace all the entries\n",
    "Ev_cub = np.array([Ev_mat for i in range(M)]) # copy it M columns to get N x M x N cube\n",
    "\n",
    "v_t = cube + beta*Ev_cub # N x M x N matrix representing the period-T value function for any W,eps,W'\n",
    "v_new_2 = np.zeros((N,M))\n",
    "w_new_2 = np.zeros((N,M))\n",
    "for i in range(N):\n",
    "    v_tw = v_t[:,i,:]\n",
    "    v_new_2[i]=v_tw.max(axis=1)\n",
    "    ind = np.argmax(v_tw,axis=1)\n",
    "    w_new_2[i]=w_vec[ind]\n",
    "# Take the expectation of Ev by integrating out the eps' dimension\n",
    "policy_func = np.average(w_new_2,axis=1)\n",
    "policy_func"
   ]
  },
  {
   "cell_type": "code",
   "execution_count": 89,
   "metadata": {},
   "outputs": [
    {
     "data": {
      "image/png": "[encoded data removed]",
      "text/plain": [
       "<Figure size 432x288 with 1 Axes>"
      ]
     },
     "metadata": {
      "needs_background": "light"
     },
     "output_type": "display_data"
    }
   ],
   "source": [
    "plt.plot(w_vec,policy_func)\n",
    "plt.show()"
   ]
  },
  {
   "cell_type": "code",
   "execution_count": 90,
   "metadata": {},
   "outputs": [
    {
     "data": {
      "text/plain": [
       "<function matplotlib.pyplot.show(*args, **kw)>"
      ]
     },
     "execution_count": 90,
     "metadata": {},
     "output_type": "execute_result"
    },
    {
     "data": {
      "image/png": "[encoded data removed]",
      "text/plain": [
       "<Figure size 432x288 with 1 Axes>"
      ]
     },
     "metadata": {
      "needs_background": "light"
     },
     "output_type": "display_data"
    }
   ],
   "source": [
    "plt.plot(np.average(v_new_1,axis=1))\n",
    "plt.show"
   ]
  },
  {
   "cell_type": "code",
   "execution_count": 91,
   "metadata": {},
   "outputs": [
    {
     "name": "stdout",
     "output_type": "stream",
     "text": [
      "Distance1= 4.592700003655584e+22 Distance2= 4.592700002611132e+22\n",
      "Distance1 - Distance2 = 10444521603072.0\n"
     ]
    }
   ],
   "source": [
    "dist2 = np.sum((v_new_2.reshape((-1, 1), order=\"F\")-v_new_1.reshape((-1, 1), order=\"F\"))**2) # vec\n",
    "\n",
    "print('Distance1=', dist1, 'Distance2=', dist2)\n",
    "print('Distance1 - Distance2 =', dist1 - dist2)"
   ]
  },
  {
   "cell_type": "markdown",
   "metadata": {},
   "source": [
    "We can check that the distance decreased!"
   ]
  },
  {
   "cell_type": "markdown",
   "metadata": {},
   "source": [
    "### Exercise 5.20\n",
    "Repeat exercise 5.19 and generate $V_{T-2}$ and $\\psi_{T-2}$ by performing the contraction"
   ]
  },
  {
   "cell_type": "code",
   "execution_count": 92,
   "metadata": {},
   "outputs": [
    {
     "data": {
      "text/plain": [
       "array([0.01      , 0.02      , 0.03      , 0.03      , 0.04      ,\n",
       "       0.05      , 0.05857143, 0.06714286, 0.07571429, 0.08428571,\n",
       "       0.09285714, 0.10142857, 0.11      , 0.11857143, 0.12714286,\n",
       "       0.13714286, 0.14285714, 0.15285714, 0.16      , 0.17      ,\n",
       "       0.17714286, 0.18571429, 0.19428571, 0.20285714, 0.21285714,\n",
       "       0.22142857, 0.23      , 0.23857143, 0.24428571, 0.25285714,\n",
       "       0.26142857, 0.27      , 0.28      , 0.28571429, 0.29428571,\n",
       "       0.30285714, 0.31285714, 0.32      , 0.32857143, 0.33714286,\n",
       "       0.34571429, 0.35428571, 0.36285714, 0.37      , 0.38      ,\n",
       "       0.38857143, 0.39571429, 0.40571429, 0.41428571, 0.42285714,\n",
       "       0.43142857, 0.43857143, 0.44714286, 0.45285714, 0.46285714,\n",
       "       0.47142857, 0.48142857, 0.49      , 0.49714286, 0.50428571,\n",
       "       0.51428571, 0.52142857, 0.53142857, 0.54      , 0.54571429,\n",
       "       0.55571429, 0.56428571, 0.57428571, 0.58142857, 0.59      ,\n",
       "       0.59857143, 0.60857143, 0.61428571, 0.62285714, 0.63      ,\n",
       "       0.64      , 0.64714286, 0.65571429, 0.66428571, 0.67428571,\n",
       "       0.68285714, 0.69      , 0.69857143, 0.70714286, 0.71428571,\n",
       "       0.72285714, 0.73285714, 0.74285714, 0.75      , 0.75857143,\n",
       "       0.76571429, 0.77571429, 0.78428571, 0.79428571, 0.8       ,\n",
       "       0.80714286, 0.81571429, 0.82428571, 0.83142857, 0.84      ])"
      ]
     },
     "execution_count": 92,
     "metadata": {},
     "output_type": "execute_result"
    }
   ],
   "source": [
    "v_prime = v_new_2\n",
    "v_init = np.zeros((N,M)) # NxM matrix\n",
    "Ev = v_prime@gamma_vec.reshape((M,1)) #1x1xN matrix\n",
    "Ev_mat = np.tile(Ev.reshape((1,N)),(N,1)) # copy it down N rows\n",
    "Ev_mat[~c_pos]=-9e+10 # replace all the entries\n",
    "Ev_cub = np.array([Ev_mat for i in range(M)]) # copy it M columns to get N x M x N cube\n",
    "\n",
    "v_t = cube + beta*Ev_cub # N x M x N matrix representing the period-T value function for any W,eps,W'\n",
    "v_new_3 = np.zeros((N,M))\n",
    "w_new_3 = np.zeros((N,M))\n",
    "for i in range(N):\n",
    "    v_tw = v_t[:,i,:]\n",
    "    v_new_3[i]=v_tw.max(axis=1)\n",
    "    ind = np.argmax(v_tw,axis=1)\n",
    "    w_new_3[i]=w_vec[ind]\n",
    "# Take the expectation of Ev by integrating out the eps' dimension\n",
    "policy_func = np.average(w_new_3,axis=1)\n",
    "policy_func"
   ]
  },
  {
   "cell_type": "code",
   "execution_count": 93,
   "metadata": {},
   "outputs": [
    {
     "data": {
      "image/png": "[encoded data removed]",
      "text/plain": [
       "<Figure size 432x288 with 1 Axes>"
      ]
     },
     "metadata": {
      "needs_background": "light"
     },
     "output_type": "display_data"
    }
   ],
   "source": [
    "plt.plot(w_vec,policy_func)\n",
    "plt.show()"
   ]
  },
  {
   "cell_type": "code",
   "execution_count": 94,
   "metadata": {},
   "outputs": [
    {
     "data": {
      "image/png": "[encoded data removed]",
      "text/plain": [
       "<Figure size 432x288 with 1 Axes>"
      ]
     },
     "metadata": {
      "needs_background": "light"
     },
     "output_type": "display_data"
    }
   ],
   "source": [
    "plt.plot(np.average(v_new_3,axis=1))\n",
    "plt.show()"
   ]
  },
  {
   "cell_type": "code",
   "execution_count": 95,
   "metadata": {},
   "outputs": [
    {
     "name": "stdout",
     "output_type": "stream",
     "text": [
      "Distance2= 4.592700002611132e+22 Distance3= 4.592700000731626e+22\n",
      "Distance2 - Distance3 = 18795053711360.0\n"
     ]
    }
   ],
   "source": [
    "dist3 = np.sum((v_new_3.reshape((-1, 1), order=\"F\")-v_new_2.reshape((-1, 1), order=\"F\"))**2) # vec\n",
    "\n",
    "print('Distance2=', dist2, 'Distance3=', dist3)\n",
    "print('Distance2 - Distance3 =', dist2 - dist3)"
   ]
  },
  {
   "cell_type": "markdown",
   "metadata": {},
   "source": [
    "We can check that the distance decreased!"
   ]
  },
  {
   "cell_type": "code",
   "execution_count": 96,
   "metadata": {},
   "outputs": [
    {
     "name": "stdout",
     "output_type": "stream",
     "text": [
      "Iter= 1 ,distance= 4.592700003655584e+22\n",
      "Iter= 2 ,distance= 4.592700002611132e+22\n",
      "Iter= 3 ,distance= 4.592700000731626e+22\n",
      "Iter= 4 ,distance= 4.592699997349431e+22\n",
      "Iter= 5 ,distance= 4.592699991263128e+22\n",
      "Iter= 6 ,distance= 4.592699980310747e+22\n",
      "Iter= 7 ,distance= 4.592699960601798e+22\n",
      "Iter= 8 ,distance= 4.592699925135294e+22\n",
      "Iter= 9 ,distance= 4.592699861312868e+22\n",
      "Iter= 10 ,distance= 4.592699746463616e+22\n",
      "Iter= 11 ,distance= 4.5926995397909756e+22\n",
      "Iter= 12 ,distance= 4.5926991678811104e+22\n",
      "Iter= 13 ,distance= 4.592698498625204e+22\n",
      "Iter= 14 ,distance= 4.592697294292771e+22\n",
      "Iter= 15 ,distance= 4.592695127088079e+22\n",
      "Iter= 16 ,distance= 4.592691227197934e+22\n",
      "Iter= 17 ,distance= 4.59268420936817e+22\n",
      "Iter= 18 ,distance= 4.592671580927518e+22\n",
      "Iter= 19 ,distance= 4.5926488566409915e+22\n",
      "Iter= 20 ,distance= 4.592607966427311e+22\n",
      "Iter= 21 ,distance= 4.592534391798325e+22\n",
      "Iter= 22 ,distance= 4.59240201855414e+22\n",
      "Iter= 23 ,distance= 4.592163892530967e+22\n",
      "Iter= 24 ,distance= 4.591735643674497e+22\n",
      "Iter= 25 ,distance= 4.590965848162617e+22\n",
      "Iter= 26 ,distance= 4.589583308742092e+22\n",
      "Iter= 27 ,distance= 4.5871041620597354e+22\n",
      "Iter= 28 ,distance= 4.582671081434556e+22\n",
      "Iter= 29 ,distance= 4.574784405064781e+22\n",
      "Iter= 30 ,distance= 4.5608842243149935e+22\n",
      "Iter= 31 ,distance= 4.536810489377203e+22\n",
      "Iter= 32 ,distance= 4.4965140227499586e+22\n",
      "Iter= 33 ,distance= 4.433732261920723e+22\n",
      "Iter= 34 ,distance= 4.352067492825718e+22\n",
      "Iter= 35 ,distance= 4.305836588486867e+22\n",
      "Iter= 36 ,distance= 4.546617179108451e+22\n",
      "Iter= 37 ,distance= 6.02177160877124e+22\n",
      "Iter= 38 ,distance= 1.2026340147860237e+23\n",
      "Iter= 39 ,distance= 3.0381266325525583e+23\n",
      "Iter= 40 ,distance= 2.7306882382672575e+23\n",
      "Iter= 41 ,distance= 3.4899942224724256e+20\n",
      "Iter= 42 ,distance= 0.0\n",
      "yay! done\n"
     ]
    }
   ],
   "source": [
    "maxiters = 500\n",
    "toler = 1e-10\n",
    "dist = 10.0\n",
    "vf_iter = 0\n",
    "v_init = np.zeros((N,M))\n",
    "\n",
    "while dist > toler and vf_iter < maxiters:\n",
    "    vf_iter += 1\n",
    "    # One contraction mapping\n",
    "    Ev = v_init@gamma_vec.reshape((M,1)) #1x1xN matrix\n",
    "    Ev_mat = np.tile(Ev.reshape((1,N)),(N,1)) # copy it down N rows\n",
    "    Ev_mat[~c_pos]=-9e+10 # replace all the entries\n",
    "    Ev_cub = np.array([Ev_mat for i in range(M)]) # copy it M columns to get N x M x N cube\n",
    "\n",
    "    v_t = cube + beta*Ev_cub # N x M x N matrix representing the period-T value function for any W,eps,W'\n",
    "    v_new = np.zeros((N,M))\n",
    "    w_new = np.zeros((N,M))\n",
    "    for i in range(N):\n",
    "        v_tw = v_t[:,i,:]\n",
    "        v_new[i]=v_tw.max(axis=1)\n",
    "        ind = np.argmax(v_tw,axis=1)\n",
    "        w_new[i]=w_vec[ind]\n",
    "    dist = np.sum((v_new.reshape((-1, 1), order=\"F\")-v_init.reshape((-1, 1), order=\"F\"))**2) # vec\n",
    "    print('Iter=',vf_iter,',distance=',dist)\n",
    "    v_init = v_new\n",
    "print('yay! done')"
   ]
  },
  {
   "cell_type": "markdown",
   "metadata": {},
   "source": [
    "### Exercise 5.22\n",
    "Make a 3-D surface plot of the policy function for the converged problem, which gives the value of the cake tmr as a function of the cake today and the taste shock today.\n"
   ]
  },
  {
   "cell_type": "code",
   "execution_count": 97,
   "metadata": {},
   "outputs": [
    {
     "data": {
      "image/png": "[encoded data removed]",
      "text/plain": [
       "<Figure size 432x288 with 1 Axes>"
      ]
     },
     "metadata": {
      "needs_background": "light"
     },
     "output_type": "display_data"
    }
   ],
   "source": [
    "ax = plt.axes(projection='3d')\n",
    "xdata,ydata = np.meshgrid(w_vec,e_vec)\n",
    "ax.plot_surface(xdata.T, ydata.T, w_new);"
   ]
  },
  {
   "cell_type": "code",
   "execution_count": null,
   "metadata": {},
   "outputs": [],
   "source": []
  }
 ],
 "metadata": {
  "kernelspec": {
   "display_name": "Python 3",
   "language": "python",
   "name": "python3"
  },
  "language_info": {
   "codemirror_mode": {
    "name": "ipython",
    "version": 3
   },
   "file_extension": ".py",
   "mimetype": "text/x-python",
   "name": "python",
   "nbconvert_exporter": "python",
   "pygments_lexer": "ipython3",
   "version": "3.7.1"
  }
 },
 "nbformat": 4,
 "nbformat_minor": 2
}
