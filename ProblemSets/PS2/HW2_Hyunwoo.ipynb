{
 "cells": [
  {
   "cell_type": "markdown",
   "metadata": {},
   "source": [
    "## Name: Hyunwoo Roh"
   ]
  },
  {
   "cell_type": "code",
   "execution_count": 4,
   "metadata": {},
   "outputs": [],
   "source": [
    "from matplotlib import pyplot as plt\n",
    "from sympy import *\n",
    "import sympy as sy\n",
    "import numpy as np\n",
    "import math"
   ]
  },
  {
   "cell_type": "code",
   "execution_count": 29,
   "metadata": {},
   "outputs": [
    {
     "data": {
      "text/plain": [
       "(sin(x) + 1)**sin(cos(x))"
      ]
     },
     "execution_count": 29,
     "metadata": {},
     "output_type": "execute_result"
    }
   ],
   "source": [
    "#########################\n",
    "#       Problem 1       # \n",
    "#########################\n",
    "\n",
    "x = sy.symbols('x')\n",
    "y = (sin(x)+1)**(sin(cos(x)))\n",
    "y"
   ]
  },
  {
   "cell_type": "code",
   "execution_count": 30,
   "metadata": {},
   "outputs": [],
   "source": [
    "def sympy_diff(x_vals):\n",
    "    x = sy.symbols('x')\n",
    "    f = (sy.sin(x) + 1) ** (sy.sin(sy.cos(x)))\n",
    "    fp = f.diff(x)\n",
    "    fp_np = sy.lambdify(x, fp, 'numpy')\n",
    "    return fp_np(x_vals)"
   ]
  },
  {
   "cell_type": "code",
   "execution_count": 31,
   "metadata": {},
   "outputs": [
    {
     "data": {
      "text/plain": [
       "(-log(sin(x) + 1)*sin(x)*cos(cos(x)) + sin(cos(x))*cos(x)/(sin(x) + 1))*(sin(x) + 1)**sin(cos(x))"
      ]
     },
     "execution_count": 31,
     "metadata": {},
     "output_type": "execute_result"
    }
   ],
   "source": [
    "dy=sy.diff(y,x)\n",
    "dy"
   ]
  },
  {
   "cell_type": "code",
   "execution_count": 32,
   "metadata": {},
   "outputs": [
    {
     "data": {
      "text/plain": [
       "-0.4117441338415354"
      ]
     },
     "execution_count": 32,
     "metadata": {},
     "output_type": "execute_result"
    }
   ],
   "source": [
    "dy_lamb=sy.lambdify(x,dy,'numpy')\n",
    "y_lamb=sy.lambdify(x,y,'numpy')\n",
    "xvals = np.linspace(-np.pi, np.pi, 100)\n",
    "dy_lamb(5)"
   ]
  },
  {
   "cell_type": "code",
   "execution_count": 33,
   "metadata": {},
   "outputs": [
    {
     "data": {
      "image/png": "[encoded data removed]",
      "text/plain": [
       "<Figure size 432x288 with 1 Axes>"
      ]
     },
     "metadata": {
      "needs_background": "light"
     },
     "output_type": "display_data"
    }
   ],
   "source": [
    "ax = plt.gca()\n",
    "ax.spines[\"bottom\"].set_position(\"zero\")\n",
    "ax.plot(xvals,dy_lamb(xvals))\n",
    "plt.ylim(-8,3)\n",
    "plt.grid()\n",
    "plt.show()"
   ]
  },
  {
   "cell_type": "code",
   "execution_count": 34,
   "metadata": {},
   "outputs": [],
   "source": [
    "#########################\n",
    "#       Problem 2       # \n",
    "#########################\n",
    "# Write a function for each of the finite difference quotients\n",
    "\n",
    "def x_vals(n):\n",
    "    return np.linspace(-np.pi, np.pi, n)\n",
    "\n",
    "def fw1(f,x,h):\n",
    "    return (f(x+h)-f(x))/h\n",
    "    \n",
    "def fw2(f,x,h):\n",
    "    return (-3.*f(x)+4*f(x+h)-f(x+2*h))/(2*h)\n",
    "    \n",
    "def bw1(f,x,h):\n",
    "    return (f(x)-f(x-h))/h\n",
    "    \n",
    "def bw2(f, x,h):\n",
    "    return (3.*f(x)-4.*f(x-h)+f(x-2*h))/(2*h)\n",
    "\n",
    "def ct2(f, x, h):\n",
    "    return (f(x+h)-f(x-h))/(2*h)\n",
    "    \n",
    "def ct4(f, x, h):\n",
    "    return (f(x-2*h)-8.*f(x-h)+8.*f(x+h)-f(x+2*h))/(12*h)\n",
    "\n",
    "def centered_o4(f, x, h):\n",
    "    num = f(x - 2 * h) - 8 * f(x - h) + 8 * f(x + h) - f(x + 2 * h)\n",
    "    return num / (12 * h)"
   ]
  },
  {
   "cell_type": "code",
   "execution_count": 35,
   "metadata": {},
   "outputs": [
    {
     "data": {
      "text/plain": [
       "<function matplotlib.pyplot.show(*args, **kw)>"
      ]
     },
     "execution_count": 35,
     "metadata": {},
     "output_type": "execute_result"
    },
    {
     "data": {
      "image/png": "[encoded data removed]",
      "text/plain": [
       "<Figure size 432x288 with 1 Axes>"
      ]
     },
     "metadata": {
      "needs_background": "light"
     },
     "output_type": "display_data"
    }
   ],
   "source": [
    "# Plot the results\n",
    "xvals=x_vals(100)\n",
    "ax = plt.gca()\n",
    "ax.spines[\"bottom\"].set_position(\"zero\")\n",
    "ax.plot(xvals, fw1(y_lamb,xvals,0.01),label='forward1')\n",
    "ax.plot(xvals, fw2(y_lamb,xvals,0.01),label='forward2')\n",
    "ax.plot(xvals, bw1(y_lamb,xvals,0.01),label='backward1')\n",
    "ax.plot(xvals, bw2(y_lamb,xvals,0.01),label='backward2')\n",
    "ax.plot(xvals, ct2(y_lamb,xvals,0.01),label='centered2')\n",
    "ax.plot(xvals, ct4(y_lamb,xvals,0.01),label='cnetered4')\n",
    "plt.legend(loc='lower right')\n",
    "plt.show"
   ]
  },
  {
   "cell_type": "code",
   "execution_count": 36,
   "metadata": {},
   "outputs": [],
   "source": [
    "# compare them to the results of Problem 1\n",
    "# We can think of calculating difference from true value.\n",
    "\n",
    "def test(f,n):\n",
    "    #return sum(abs(dy_lamb(x_vals(n))-f))\n",
    "    return np.sqrt(sum((dy_lamb(x_vals(n))-f)**2))"
   ]
  },
  {
   "cell_type": "code",
   "execution_count": 37,
   "metadata": {},
   "outputs": [
    {
     "name": "stdout",
     "output_type": "stream",
     "text": [
      "(0.6997656450349302, 0.16461387561452326, 1.0357569516211347, 1.0702085462088602, 0.17970589160089348, 0.08574585542916602)\n"
     ]
    }
   ],
   "source": [
    "# calculate the error for each method when n=100\n",
    "n=100\n",
    "print ((test(fw1(y_lamb,x_vals(n),0.01),n),\n",
    "test(fw2(y_lamb,x_vals(n),0.01),n),\n",
    "test(bw1(y_lamb,x_vals(n),0.01),n),\n",
    "test(bw2(y_lamb,x_vals(n),0.01),n),\n",
    "test(ct2(y_lamb,x_vals(n),0.01),n),\n",
    "test(ct4(y_lamb,x_vals(n),0.01),n)))"
   ]
  },
  {
   "cell_type": "code",
   "execution_count": 38,
   "metadata": {},
   "outputs": [
    {
     "name": "stdout",
     "output_type": "stream",
     "text": [
      "1.7343772059566547 0.9469287658772867 2.735736878923265 3.8208682613690983 0.5837375762903856 0.9104021397577038\n"
     ]
    }
   ],
   "source": [
    "# calculate the error for each method when n=300\n",
    "n=300\n",
    "print (test(fw1(y_lamb,x_vals(n),0.01),n),\n",
    "test(fw2(y_lamb,x_vals(n),0.01),n),\n",
    "test(bw1(y_lamb,x_vals(n),0.01),n),\n",
    "test(bw2(y_lamb,x_vals(n),0.01),n),\n",
    "test(ct2(y_lamb,x_vals(n),0.01),n),\n",
    "test(ct4(y_lamb,x_vals(n),0.01),n))"
   ]
  },
  {
   "cell_type": "code",
   "execution_count": 39,
   "metadata": {},
   "outputs": [
    {
     "data": {
      "text/plain": [
       "(-0.3965403874194623, 1.3689877347067858)"
      ]
     },
     "execution_count": 39,
     "metadata": {},
     "output_type": "execute_result"
    }
   ],
   "source": [
    "#########################\n",
    "#       Problem 3       # \n",
    "#########################\n",
    "\n",
    "# In problem 1, we defined dy_lamb that compute the derivative.X_0 = 1\n",
    "dy_lamb(1), y_lamb(1)"
   ]
  },
  {
   "cell_type": "code",
   "execution_count": 40,
   "metadata": {},
   "outputs": [],
   "source": [
    "test_func = [fw1,fw2,bw1,bw2,ct2,ct4]\n",
    "def error_f(x):\n",
    "    hvals=np.logspace(-8,0,9)\n",
    "    abs_error = np.zeros((9,6))\n",
    "    for i in range(9):\n",
    "        for j in range(6):\n",
    "            abs_error[i,j]=abs(test_func[j](y_lamb,x,hvals[i])-dy_lamb(x))\n",
    "    plt.figure()\n",
    "    labels = [\"fw1\",\"fw2\",\"bw1\",\"bw2\",\"ct2\",\"ct4\"]\n",
    "    for j in range(6):\n",
    "        plt.loglog(hvals,abs_error[:,j], label=labels[j], marker='o')\n",
    "    plt.legend(loc='upper left')\n",
    "    plt.show()"
   ]
  },
  {
   "cell_type": "code",
   "execution_count": 41,
   "metadata": {},
   "outputs": [
    {
     "data": {
      "image/png": "[encoded data removed]",
      "text/plain": [
       "<Figure size 432x288 with 1 Axes>"
      ]
     },
     "metadata": {
      "needs_background": "light"
     },
     "output_type": "display_data"
    }
   ],
   "source": [
    "error_f(1)"
   ]
  },
  {
   "cell_type": "code",
   "execution_count": 42,
   "metadata": {},
   "outputs": [],
   "source": [
    "#########################\n",
    "#       Problem 4       # \n",
    "#########################\n",
    "data = np.load(r\"C:\\Users\\ericr\\Desktop\\persp-model-econ_W19\\ProblemSets\\PS2\\plane.npy\")\n",
    "t=data[:0]\n",
    "alpha=np.deg2rad(data[:,1])\n",
    "beta=np.deg2rad(data[:,2])"
   ]
  },
  {
   "cell_type": "code",
   "execution_count": 43,
   "metadata": {},
   "outputs": [
    {
     "name": "stdout",
     "output_type": "stream",
     "text": [
      "[46.42420062 47.00103938 48.99880514 50.09944163 48.29035084 51.56455905\n",
      " 53.92303355 51.51480057]\n"
     ]
    }
   ],
   "source": [
    "x_pos = 500*np.tan(beta)/(np.tan(beta)-np.tan(alpha))\n",
    "y_pos = 500*np.tan(alpha)*np.tan(beta)/(np.tan(beta)-np.tan(alpha))\n",
    "\n",
    "x_veloc = np.zeros(len(x_pos))\n",
    "y_veloc = np.zeros(len(y_pos))\n",
    "    \n",
    "t = 0\n",
    "\n",
    "while t <= 7:\n",
    "    if t == 0:\n",
    "        x_veloc[t] = (x_pos[t+1] - x_pos[t])\n",
    "        y_veloc[t] = (y_pos[t+1] - y_pos[t])\n",
    "    elif t < 7:\n",
    "        x_veloc[t] = (x_pos[t+1] - x_pos[t-1])/2\n",
    "        y_veloc[t] = (y_pos[t+1] - y_pos[t-1])/2\n",
    "    else:\n",
    "        x_veloc[t] = (x_pos[t] - x_pos[t-1])\n",
    "        y_veloc[t] = (y_pos[t] - y_pos[t-1])\n",
    "    t += 1\n",
    "\n",
    "veloc = np.sqrt(x_veloc**2 + y_veloc**2)\n",
    "print(veloc)"
   ]
  },
  {
   "cell_type": "code",
   "execution_count": 44,
   "metadata": {},
   "outputs": [
    {
     "data": {
      "text/plain": [
       "array([[ 2.        ,  0.        ],\n",
       "       [ 3.00000001, -1.        ]])"
      ]
     },
     "execution_count": 44,
     "metadata": {},
     "output_type": "execute_result"
    }
   ],
   "source": [
    "#########################\n",
    "#       Problem 5       # \n",
    "#########################\n",
    "\n",
    "# Approximate the Jacobian matrix of f at x using the second order centered difference quotient.\n",
    "\n",
    "def jacobian(f,x_0):\n",
    "    h=0.0001\n",
    "    f_len = len(f(x_0))\n",
    "    Iden = np.identity(f_len)\n",
    "    jacob = np.zeros((f_len,len(x_0)))\n",
    "    for i in range(f_len):\n",
    "        for j in range(len(x_0)):\n",
    "            e = Iden[i,:]\n",
    "            f_h_p = f(x_0+h*e)[j]\n",
    "            f_h_n = f(x_0-h*e)[j]\n",
    "            jacob[j,i]=((f_h_p-f_h_n)/(2*h))\n",
    "    return jacob    \n",
    "# Test\n",
    "def func(x):\n",
    "    return np.array([x[0]**2, x[0]**3 - x[1]])\n",
    "values = np.array([1.,1.])\n",
    "jacobian(func,values)"
   ]
  },
  {
   "cell_type": "code",
   "execution_count": 45,
   "metadata": {},
   "outputs": [
    {
     "data": {
      "text/plain": [
       "Matrix([\n",
       "[2,  0],\n",
       "[3, -1]])"
      ]
     },
     "execution_count": 45,
     "metadata": {},
     "output_type": "execute_result"
    }
   ],
   "source": [
    "x,y=sy.symbols('x,y', real=True)\n",
    "J = Function('J')(x,y)\n",
    "f1=x**2\n",
    "f2=x**3-y\n",
    "f1x=diff(f1,x)\n",
    "f1y=diff(f1,y)\n",
    "f2x=diff(f2,x)\n",
    "f2y=diff(f2,y)\n",
    "J = sy.Matrix([[f1x,f1y],[f2x,f2y]])\n",
    "J.subs([(x,1), (y,1)])\n",
    "# We can use jacobian function directly\n",
    "F = sy.Matrix([f1,f2])\n",
    "F.jacobian([x,y])\n",
    "F.jacobian([x,y]).subs([(x,1), (y,1)])"
   ]
  },
  {
   "cell_type": "markdown",
   "metadata": {},
   "source": [
    "We can see that element(2,1) is not exactly same."
   ]
  },
  {
   "cell_type": "code",
   "execution_count": 53,
   "metadata": {},
   "outputs": [
    {
     "name": "stdout",
     "output_type": "stream",
     "text": [
      "result from autograd differentiation 0.8414709848078965\n",
      "result from the symbolic differentiation 0.8414709848078965\n"
     ]
    }
   ],
   "source": [
    "\n",
    "from autograd import numpy as anp\n",
    "from autograd import grad\n",
    "import time\n",
    "y = (sin(x)+1)**(sin(cos(x)))\n",
    "sym=lambda x: y.diff(x)\n",
    "sym(x)\n",
    "\n",
    "f = sy.lambdify(x,y,'numpy')\n",
    "fprime = sy.lambdify(x,sym(x),'numpy')\n",
    "y2 = lambda x: (anp.sin(x)+1)**(anp.sin(anp.cos(x)))\n",
    "fauto = grad(y2)\n",
    "\n",
    "print(\"result from autograd differentiation\", fauto(0.))\n",
    "print(\"result from the symbolic differentiation\",fprime(0.0))\n",
    "\n"
   ]
  },
  {
   "cell_type": "code",
   "execution_count": 54,
   "metadata": {},
   "outputs": [],
   "source": [
    "#########################\n",
    "#       Problem 7       # \n",
    "#########################\n",
    "\n",
    "from autograd import numpy as np\n",
    "from autograd import grad\n",
    "import time\n",
    "\n",
    "\n",
    "def problem7(n):\n",
    "    global time1,time2,time3,abse1,abse2\n",
    "    time1,time2,time3=[],[],[]\n",
    "    err1,err2=[],[]\n",
    "    func = y_lamb\n",
    "    \n",
    "    for i in range(n):\n",
    "        x0=np.random.rand()\n",
    "        t0=time.clock()\n",
    "        sym = lambda x:y.diff(x)\n",
    "        fprime = lambdify(x,sym(x),'numpy')\n",
    "        exact = fprime(x0)\n",
    "        \n",
    "        t1 = time.clock()\n",
    "        time1.append(t1-t0)\n",
    "        \n",
    "        t2 = time.clock()\n",
    "        xapp = ct4(f,x0,h=0.01)\n",
    "        t3=time.clock()\n",
    "        time2.append(t3-t2)\n",
    "        err1.append(abs(xapp-exact))\n",
    "        \n",
    "        t4=time.clock()\n",
    "        xauto=fauto(x0)\n",
    "        t5=time.clock()\n",
    "        time3.append(t5-t4)\n",
    "        err2.append(abs(xauto-exact))\n",
    "        \n",
    "    plt.scatter(np.array(time1),np.array([1e-18] * n), alpha=0.8,label=\"SymPy\")\n",
    "    plt.scatter(np.array(time2),np.array(err1),alpha=0.8,label=\"Difference Quotients\")\n",
    "    plt.scatter(np.array(time3),np.array(err2), alpha=0.8,label=\"Autograd\")\n",
    "    plt.legend(loc='upper right')\n",
    "    plt.xlabel(\"Computation Time (seconds)\")\n",
    "    plt.ylabel(\"Absolute Error\")\n",
    "    plt.xlim(10**-5,10**-2)\n",
    "    plt.ylim(10**-19,10**-7)\n",
    "    plt.loglog()\n",
    "    plt.show()"
   ]
  },
  {
   "cell_type": "code",
   "execution_count": 55,
   "metadata": {},
   "outputs": [
    {
     "name": "stderr",
     "output_type": "stream",
     "text": [
      "C:\\Users\\ericr\\Anaconda3\\lib\\site-packages\\ipykernel_launcher.py:18: DeprecationWarning: time.clock has been deprecated in Python 3.3 and will be removed from Python 3.8: use time.perf_counter or time.process_time instead\n",
      "C:\\Users\\ericr\\Anaconda3\\lib\\site-packages\\ipykernel_launcher.py:23: DeprecationWarning: time.clock has been deprecated in Python 3.3 and will be removed from Python 3.8: use time.perf_counter or time.process_time instead\n",
      "C:\\Users\\ericr\\Anaconda3\\lib\\site-packages\\ipykernel_launcher.py:26: DeprecationWarning: time.clock has been deprecated in Python 3.3 and will be removed from Python 3.8: use time.perf_counter or time.process_time instead\n",
      "C:\\Users\\ericr\\Anaconda3\\lib\\site-packages\\ipykernel_launcher.py:28: DeprecationWarning: time.clock has been deprecated in Python 3.3 and will be removed from Python 3.8: use time.perf_counter or time.process_time instead\n",
      "C:\\Users\\ericr\\Anaconda3\\lib\\site-packages\\ipykernel_launcher.py:32: DeprecationWarning: time.clock has been deprecated in Python 3.3 and will be removed from Python 3.8: use time.perf_counter or time.process_time instead\n",
      "C:\\Users\\ericr\\Anaconda3\\lib\\site-packages\\ipykernel_launcher.py:34: DeprecationWarning: time.clock has been deprecated in Python 3.3 and will be removed from Python 3.8: use time.perf_counter or time.process_time instead\n"
     ]
    },
    {
     "data": {
      "image/png": "[encoded data removed]",
      "text/plain": [
       "<Figure size 432x288 with 1 Axes>"
      ]
     },
     "metadata": {
      "needs_background": "light"
     },
     "output_type": "display_data"
    }
   ],
   "source": [
    "problem7(200)"
   ]
  },
  {
   "cell_type": "markdown",
   "metadata": {},
   "source": [
    "## Integration Part\n",
    "#### Question 14.1"
   ]
  },
  {
   "cell_type": "code",
   "execution_count": 56,
   "metadata": {},
   "outputs": [
    {
     "data": {
      "text/plain": [
       "4373.33333333333"
      ]
     },
     "execution_count": 56,
     "metadata": {},
     "output_type": "execute_result"
    }
   ],
   "source": [
    "g = lambda x: .1 * x ** 4 - 1.5 * x ** 3 + .53 * x ** 2 + 2 * x + 1\n",
    "a = -10\n",
    "b = 10\n",
    "N = 10000\n",
    "\n",
    "# Calculate the true known value of the integral\n",
    "import sympy as sy\n",
    "z = sy.symbols('z')\n",
    "sy.integrate(0.1*z**4 - 1.5*z**3 + 0.53*z**2 + 2*z + 1, (z, a, b))"
   ]
  },
  {
   "cell_type": "code",
   "execution_count": 57,
   "metadata": {},
   "outputs": [],
   "source": [
    "import numpy as np\n",
    "from matplotlib import pyplot as plt\n",
    "from scipy import integrate\n",
    "from scipy import stats as sts"
   ]
  },
  {
   "cell_type": "markdown",
   "metadata": {},
   "source": [
    "### Midpoint\n",
    "A more sophisticated midpoint rule is the composite midpoint rule, which breaks up the domain of the function $g(x)$ into $N$ intervals and applies the midpoint rule to each interval. For nodes $x_0,x_1,\\ldots,x_{N-1}$ with $x_i=a+\\frac{(2i+1)(b-a)}{2N}$, the composite midpoint rule is given by\n",
    "\\begin{equation}\\label{NumInt_EqMidPtRuleComp}\n",
    "  \\int_a^b g(x)dx \\approx \\frac{b-a}{N}\\sum_{i=0}^{N-1}g(x_i)\n",
    "\\end{equation}\n",
    "\n",
    "### Trapezoid\n",
    "The trapezoid rule estimates the integral as the area under a line that connects the function $g(x)$ at the two endpoints $a$ and $b$.\n",
    "\\begin{equation}\\label{NumInt_EqTrapRule}\n",
    "  \\int_a^b g(x)dx \\approx \\frac{b-a}{2}\\bigl[g(a) + g(b)\\bigr]\n",
    "\\end{equation}\n",
    "\n",
    "A more sophisticated trapezoid rule is the composite trapezoid rule, which breaks up the domain of the function $g(x)$ into $N$ intervals and applies the trapezoid rule to each interval.  For nodes $x_0,x_1,\\ldots,x_N$ with $x_i=a+i(b-a)/N$, the composite trapezoid rule is given by\n",
    "\\begin{equation}\\label{NumInt_EqTrapRuleComp}\n",
    "  \\int_a^b g(x)dx \\approx \\frac{b-a}{2N}\\left[g(x_0) + 2\\sum_{i=1}^{N-1}g(x_i) + g(x_N)\\right]\n",
    "\\end{equation}\n",
    "\n",
    "### Simpson\n",
    "Simpson's rule offers a smooth nonlinear (quadratic) alternative the linear approximations of the midpoint and trapezoid rules. Simpson's rule finds the unique quadratic function in $x$ that passes through the end points and the midpoint of the function $g(a)$, $g\\left(\\frac{a+b}{2}\\right)$, and $g(b)$, which produces the following weights and values.\n",
    "\\begin{equation}\\label{NumInt_EqSimpsRule}\n",
    "  \\int_a^b g(x)dx \\approx \\frac{b-a}{6}\\left[g(a) + 4g\\left(\\frac{a+b}{2}\\right) + g(b)\\right]\n",
    "\\end{equation}\n",
    "\n",
    "Again, a more sophisticated Simpson's rule is the composite Simpson's rule, which breaks up the domain of the function $g(x)$ into $2N$ intervals and applies the Simpson's rule to each interval.  For nodes $x_0,x_1,\\ldots,x_{2N}$ with $x_i=a+i(b-a)/(2N)$, the composite Simpson's rule is given by\n",
    "\\begin{equation}\\label{NumInt_EqTrapRuleComp2}\n",
    "  \\int_a^b g(x)dx \\approx \\frac{b-a}{6N}\\left[g(x_0) + 4\\sum_{i=1,3,\\ldots}^{2N-1}g(x_i) + 2\\sum_{i=2,4,\\ldots}^{2N-2}g(x_i) + g(x_{2N})\\right]\n",
    "\\end{equation}"
   ]
  },
  {
   "cell_type": "code",
   "execution_count": 58,
   "metadata": {},
   "outputs": [],
   "source": [
    "def num_integral(func, a, b, N, method='midpoint'):\n",
    "    \n",
    "    bin_cuts = np.linspace(a, b, num=N)\n",
    "    i = np.arange(len(bin_cuts))\n",
    "    \n",
    "    if method == 'midpoint':\n",
    "        xi_vals = a + (((2*i+1)*(b - a))/(2*N))\n",
    "        g_vals = func(xi_vals)\n",
    "        w = (b - a)/N\n",
    "        result_mid = w * np.sum(g_vals[:-1])\n",
    "        return result_mid\n",
    "        \n",
    "    elif method == 'trapezoid':\n",
    "        xi_vals = a + (i*(b - a))/N\n",
    "        g_vals = np.sum(2*func(xi_vals)) + func(xi_vals[-1])\n",
    "        w = (b - a)/(2*N)\n",
    "        \n",
    "        result_trap = w * (func(xi_vals[0]) + g_vals)\n",
    "        return result_trap\n",
    "    \n",
    "    elif method == 'simpsons':\n",
    "            h = (b - a) / N\n",
    "            s = func(a) + func(b)\n",
    "            for i in range(1, N, 2):\n",
    "                s += 4 * func(a + i * h)\n",
    "            for i in range(2, N-1, 2):\n",
    "                s += 2 * func(a + i * h)\n",
    "            result_simp =s * h / 3\n",
    "            return result_simp\n",
    "        "
   ]
  },
  {
   "cell_type": "code",
   "execution_count": 59,
   "metadata": {},
   "outputs": [
    {
     "name": "stdout",
     "output_type": "stream",
     "text": [
      "Integral computed via midpoint method:   4374.1851216356135\n",
      "Integral computed via trapezoid method:  4378.401681928765\n",
      "Integral computed via Simpson method:    4373.333333333318\n"
     ]
    }
   ],
   "source": [
    "midpoint = num_integral(g, -10, 10, 10000, 'midpoint')\n",
    "print('Integral computed via midpoint method:  ', midpoint)\n",
    "trap = num_integral(g, -10, 10, 10000, 'trapezoid')\n",
    "print('Integral computed via trapezoid method: ', trap)\n",
    "simp = num_integral(g, -10, 10, 10000, 'simpsons')\n",
    "print('Integral computed via Simpson method:   ', simp)"
   ]
  },
  {
   "cell_type": "markdown",
   "metadata": {},
   "source": [
    "#### Question 14.2\n",
    "Write a python function that makes a Newton-Cotes discrete approximation of the distribuiton of the normally distributed variable Z~N(mu, sigma)\n",
    "Let this function take as arguments the mean $\\mu$, the standard deviation $\\sigma$, the number of equally spaced nodes $N$ to estimate the distribution, and the number of standard deviations $k$ away from $\\mu$ to make the furthest nodes on either side of $\\mu$. Use the [`scipy.stats.norm.cdf`](http://docs.scipy.org/doc/scipy/reference/generated/scipy.stats.norm.html#scipy.stats.norm) command for the cdf of the normal distribution to compute the weights $\\omega_n$ for the nodes $x_n$. Have this function return a vector of nodes of $[Z_1,Z_2,...Z_N]$ and a vector of weights $[\\omega_1,\\omega_2,...\\omega_N]$ such that $\\omega_i$ is given by the integral under the normal distribution between the midpoints of the two closest nodes. Define $f(Z;\\mu,\\sigma)$ as the pdf of the normal distribution and $F(Z;\\mu,\\sigma)$ as the cdf.\n",
    "\\begin{equation*}\n",
    "  \\begin{split}\n",
    "    &\\omega_i =\n",
    "      \\begin{cases}\n",
    "        F\\left(\\frac{Z_1 + Z_2}{2};\\mu,\\sigma\\right) \\quad\\quad\\quad\\quad\\:\\text{if}\\quad i = 1 \\\\\n",
    "        \\int_{Z_{min}}^{Z_{max}}f(Z;\\mu,\\sigma)dZ \\quad\\quad\\:\\:\\text{if}\\quad 1<i<N \\\\\n",
    "        1 - F\\left(\\frac{Z_{N-1} + Z_{N}}{2};\\mu,\\sigma\\right) \\quad\\text{if}\\quad i = N\n",
    "      \\end{cases} \\\\\n",
    "    &\\text{where}\\quad Z_{min} = \\frac{Z_{i-1} + Z_{i}}{2} \\quad\\text{and}\\quad Z_{max} = \\frac{Z_{i} + Z_{i+1}}{2}\n",
    "  \\end{split}\n",
    "\\end{equation*}\n",
    "What are the weights and nodes $\\{\\omega_n,Z_n\\}_{n=1}^N$ for $N=11$?"
   ]
  },
  {
   "cell_type": "code",
   "execution_count": 60,
   "metadata": {},
   "outputs": [],
   "source": [
    "from scipy.stats import norm # Use norm.cdf\n",
    "import matplotlib.pyplot as plt"
   ]
  },
  {
   "cell_type": "code",
   "execution_count": 62,
   "metadata": {},
   "outputs": [
    {
     "name": "stdout",
     "output_type": "stream",
     "text": [
      "Weights:\n",
      "[0.00346697 0.01439745 0.04894278 0.11725292 0.19802845 0.23582284\n",
      " 0.19802845 0.11725292 0.04894278 0.         0.00346697]\n",
      "Nodes:\n",
      "[-3.  -2.4 -1.8 -1.2 -0.6  0.   0.6  1.2  1.8  2.4  3. ]\n"
     ]
    },
    {
     "data": {
      "image/png": "[encoded data removed]",
      "text/plain": [
       "<Figure size 432x288 with 1 Axes>"
      ]
     },
     "metadata": {
      "needs_background": "light"
     },
     "output_type": "display_data"
    }
   ],
   "source": [
    "def approx_normal(mu, sigma, N, k):\n",
    "    \n",
    "    Z = np.linspace(mu - k*sigma, mu + k*sigma, N)\n",
    "    w = np.zeros_like(Z)\n",
    "    w[0] = norm.cdf((Z[0] + Z[1]) / 2, loc=mu, scale=sigma)\n",
    "    w[N - 1] = 1 - norm.cdf((Z[N - 2] + Z[N - 1]) / 2, loc=mu, scale=sigma)\n",
    "    for i in range(1, N - 2):\n",
    "        z_min = (Z[i - 1] + Z[i]) / 2\n",
    "        z_max = (Z[i] + Z[i + 1]) / 2\n",
    "        w[i] = norm.cdf(z_max, loc=mu, scale=sigma) - norm.cdf(z_min, loc=mu, scale=sigma)\n",
    "    return Z, w\n",
    "\n",
    "Z, w = approx_normal(0,1,11,3)\n",
    "print('Weights:')\n",
    "print(w)\n",
    "print('Nodes:')\n",
    "print(Z)\n",
    "\n",
    "plt.plot(Z, w)\n",
    "plt.show()"
   ]
  },
  {
   "cell_type": "code",
   "execution_count": 63,
   "metadata": {},
   "outputs": [
    {
     "data": {
      "text/html": [
       "<div>\n",
       "<style scoped>\n",
       "    .dataframe tbody tr th:only-of-type {\n",
       "        vertical-align: middle;\n",
       "    }\n",
       "\n",
       "    .dataframe tbody tr th {\n",
       "        vertical-align: top;\n",
       "    }\n",
       "\n",
       "    .dataframe thead th {\n",
       "        text-align: right;\n",
       "    }\n",
       "</style>\n",
       "<table border=\"1\" class=\"dataframe\">\n",
       "  <thead>\n",
       "    <tr style=\"text-align: right;\">\n",
       "      <th></th>\n",
       "      <th>Z</th>\n",
       "      <th>Weight</th>\n",
       "    </tr>\n",
       "  </thead>\n",
       "  <tbody>\n",
       "    <tr>\n",
       "      <th>1</th>\n",
       "      <td>-3.0</td>\n",
       "      <td>0.003467</td>\n",
       "    </tr>\n",
       "    <tr>\n",
       "      <th>2</th>\n",
       "      <td>-2.4</td>\n",
       "      <td>0.014397</td>\n",
       "    </tr>\n",
       "    <tr>\n",
       "      <th>3</th>\n",
       "      <td>-1.8</td>\n",
       "      <td>0.048943</td>\n",
       "    </tr>\n",
       "    <tr>\n",
       "      <th>4</th>\n",
       "      <td>-1.2</td>\n",
       "      <td>0.117253</td>\n",
       "    </tr>\n",
       "    <tr>\n",
       "      <th>5</th>\n",
       "      <td>-0.6</td>\n",
       "      <td>0.198028</td>\n",
       "    </tr>\n",
       "    <tr>\n",
       "      <th>6</th>\n",
       "      <td>0.0</td>\n",
       "      <td>0.235823</td>\n",
       "    </tr>\n",
       "    <tr>\n",
       "      <th>7</th>\n",
       "      <td>0.6</td>\n",
       "      <td>0.198028</td>\n",
       "    </tr>\n",
       "    <tr>\n",
       "      <th>8</th>\n",
       "      <td>1.2</td>\n",
       "      <td>0.117253</td>\n",
       "    </tr>\n",
       "    <tr>\n",
       "      <th>9</th>\n",
       "      <td>1.8</td>\n",
       "      <td>0.048943</td>\n",
       "    </tr>\n",
       "    <tr>\n",
       "      <th>10</th>\n",
       "      <td>2.4</td>\n",
       "      <td>0.000000</td>\n",
       "    </tr>\n",
       "    <tr>\n",
       "      <th>11</th>\n",
       "      <td>3.0</td>\n",
       "      <td>0.003467</td>\n",
       "    </tr>\n",
       "  </tbody>\n",
       "</table>\n",
       "</div>"
      ],
      "text/plain": [
       "      Z    Weight\n",
       "1  -3.0  0.003467\n",
       "2  -2.4  0.014397\n",
       "3  -1.8  0.048943\n",
       "4  -1.2  0.117253\n",
       "5  -0.6  0.198028\n",
       "6   0.0  0.235823\n",
       "7   0.6  0.198028\n",
       "8   1.2  0.117253\n",
       "9   1.8  0.048943\n",
       "10  2.4  0.000000\n",
       "11  3.0  0.003467"
      ]
     },
     "execution_count": 63,
     "metadata": {},
     "output_type": "execute_result"
    }
   ],
   "source": [
    "import pandas as pd #result table\n",
    "table = pd.DataFrame({'Z':Z,'Weight':w})\n",
    "table.index+=1\n",
    "table"
   ]
  },
  {
   "cell_type": "markdown",
   "metadata": {},
   "source": [
    "#### Question 14.3\n",
    "**Exercise 2.3.** If $Z\\sim N(\\mu,\\sigma)$, then $A\\equiv e^Z\\sim LN(\\mu,\\sigma)$ is distributed lognormally and $\\log(A)\\sim N(\\mu,\\sigma)$. Use your knowledge that $A\\equiv e^Z$, $\\log(A)\\sim N(\\mu,\\sigma)$, and your function from Exercise 2.2 to write a function that gives a discrete approximation to the lognormal distribution. Note: You will not end up with evenly spaced nodes $[A_1,A_2,...A_N]$, but your weights should be the same as in Exercise 2.2."
   ]
  },
  {
   "cell_type": "code",
   "execution_count": 64,
   "metadata": {},
   "outputs": [
    {
     "name": "stdout",
     "output_type": "stream",
     "text": [
      "Weights:\n",
      "[0.00346697 0.01439745 0.04894278 0.11725292 0.19802845 0.23582284\n",
      " 0.19802845 0.11725292 0.04894278 0.         0.00346697]\n",
      "Nodes:\n",
      "[ 0.04978707  0.09071795  0.16529889  0.30119421  0.54881164  1.\n",
      "  1.8221188   3.32011692  6.04964746 11.02317638 20.08553692]\n"
     ]
    },
    {
     "data": {
      "image/png": "[encoded data removed]",
      "text/plain": [
       "<Figure size 432x288 with 1 Axes>"
      ]
     },
     "metadata": {
      "needs_background": "light"
     },
     "output_type": "display_data"
    }
   ],
   "source": [
    "def approx_lognormal(mu, sigma, N, k):\n",
    "    Z, w_log = approx_normal(mu, sigma, N, k)\n",
    "    Z_log = np.exp(Z)\n",
    "    return Z_log, w_log\n",
    "    \n",
    "Z_log, w_log = approx_lognormal(0,1,11,3)\n",
    "print('Weights:')\n",
    "print(w_log)\n",
    "print('Nodes:')\n",
    "print(Z_log)\n",
    "\n",
    "plt.plot(Z_log,w_log)\n",
    "plt.show()"
   ]
  },
  {
   "cell_type": "markdown",
   "metadata": {},
   "source": [
    "Weights are same in 14.2 and 14.3"
   ]
  },
  {
   "cell_type": "markdown",
   "metadata": {},
   "source": [
    "#### Question 14.4\n",
    "**Exercise 2.4.** Let $Y_i$ represent the income of individual $i$ in the United States for all individuals $i$. Assume that income $Y_i$ is lognormally distributed in the U.S. according to $Y_i\\sim LN(\\mu,\\sigma)$, where the mean of log income is $\\mu = 10.5$ and the standard deviation of log income is $\\sigma = 0.8$. Use your function from Exercise 2.3 to compute an approximation of the expected value of income or average income in the U.S. How does your approximation compare to the exact expected value of $E[Y] = e^{\\mu + \\frac{\\sigma^2}{2}}$?"
   ]
  },
  {
   "cell_type": "code",
   "execution_count": 65,
   "metadata": {},
   "outputs": [],
   "source": [
    "mu = 10.5\n",
    "sigma = 0.8\n",
    "N = 100\n",
    "k = 3\n",
    "Y, w = approx_lognormal(mu,sigma,N,k)"
   ]
  },
  {
   "cell_type": "code",
   "execution_count": 66,
   "metadata": {},
   "outputs": [
    {
     "name": "stdout",
     "output_type": "stream",
     "text": [
      "Exact expected value :        50011.087008521754\n",
      "Approximated expected value :        49739.23910845465\n"
     ]
    }
   ],
   "source": [
    "exact = np.exp(mu+(sigma**2)/2)\n",
    "print ('Exact expected value :       ', exact)\n",
    "EY = Y@w\n",
    "print ('Approximated expected value :       ', EY)"
   ]
  },
  {
   "cell_type": "code",
   "execution_count": 67,
   "metadata": {},
   "outputs": [
    {
     "data": {
      "text/plain": [
       "49739.23910845463"
      ]
     },
     "execution_count": 67,
     "metadata": {},
     "output_type": "execute_result"
    }
   ],
   "source": [
    "EY = sum(w[i]*Y[i] for i in range(len(Y)))\n",
    "EY"
   ]
  },
  {
   "cell_type": "markdown",
   "metadata": {},
   "source": [
    "#### Question 14.5\n",
    "Approximate the integral of the function in Exercise 2.1\n",
    "**Exercise 3.1.** Approximate the integral of the function in Exercise 2.1 using Gaussian quadrature with $N=3$, $(\\omega_1,\\omega_2,\\omega_3,x_1,x_2,x_3)$. Use the class of polynomials $h_i(x)=x^i$. How does the accuracy of your approximated integral compare to the approximations from Exercise 2.1 and the true known value of the integral?"
   ]
  },
  {
   "cell_type": "code",
   "execution_count": 68,
   "metadata": {},
   "outputs": [
    {
     "name": "stdout",
     "output_type": "stream",
     "text": [
      "Gaussian Quadrature:        4373.333333340382\n",
      "True known value:        4373.33333333333\n"
     ]
    }
   ],
   "source": [
    "# write down all equations as in 14.11 as N=3\n",
    "\n",
    "import scipy as sc\n",
    "import scipy.optimize as opt\n",
    "\n",
    "g = lambda x: .1 * x ** 4 - 1.5 * x ** 3 + .53 * x ** 2 + 2 * x + 1\n",
    "\n",
    "def equations(parameters):\n",
    "    \n",
    "    w1, w2, w3, x1, x2, x3 = parameters\n",
    "    \n",
    "    eq0 = (b - a) - (w1 + w2 + w3)\n",
    "    \n",
    "    eq1 = ((1/2) * b ** 2 - (1/2) * a ** 2) - (w1 * x1 + w2 * x2 + w3 * x3)\n",
    "    \n",
    "    eq2 = ((1/3) * b ** 3 - (1/3) * a ** 3) - (w1 * x1**2 + w2 * x2**2 + w3 * x3**2)\n",
    "    \n",
    "    eq3 = ((1/4) * b ** 4 - (1/4) * a ** 4) - (w1 * x1**3 + w2 * x2**3 + w3 * x3**3)\n",
    "    \n",
    "    eq4 = ((1/5) * b ** 5 - (1/5) * a ** 5) - (w1 * x1**4 + w2 * x2**4 + w3 * x3**4)\n",
    "    \n",
    "    eq5 = ((1/6) * b ** 6 - (1/6) * a ** 6) - (w1 * x1**5 + w2 * x2**5 + w3 * x3**5)\n",
    "    \n",
    "    return (eq0, eq1, eq2, eq3, eq4, eq5)\n",
    "\n",
    "a = -10\n",
    "b = 10\n",
    "\n",
    "parameters = opt.root(equations,np.ones((6,1)), tol = 1e-8).x\n",
    "omega, Z = parameters[:3], parameters[-3:]\n",
    "\n",
    "integ_val = sum(omega[i]*g(Z[i]) for i in range(len(Z)))\n",
    "\n",
    "\n",
    "# Calculate the true known value of the integral\n",
    "import sympy as sy\n",
    "z = sy.symbols('z')\n",
    "exact=sy.integrate(0.1*z**4 - 1.5*z**3 + 0.53*z**2 + 2*z + 1, (z, a, b))\n",
    "\n",
    "\n",
    "print ('Gaussian Quadrature:       ', integ_val)\n",
    "print ('True known value:       ', exact)"
   ]
  },
  {
   "cell_type": "markdown",
   "metadata": {},
   "source": [
    "#### Question 14.6\n",
    "Use the python Gaussian quadrature command to numerically approximate integral"
   ]
  },
  {
   "cell_type": "code",
   "execution_count": 69,
   "metadata": {},
   "outputs": [
    {
     "data": {
      "text/plain": [
       "(4373.333333333334, 8.109531705284936e-11)"
      ]
     },
     "execution_count": 69,
     "metadata": {},
     "output_type": "execute_result"
    }
   ],
   "source": [
    "sc.integrate.quad(g, -10, 10)"
   ]
  },
  {
   "cell_type": "markdown",
   "metadata": {},
   "source": [
    "#### Question 14.7\n",
    "**Exercise 4.1.** Use Monte Carlo integration to approximate the value of $\\pi$. Define a function in that takes as arguments a function $g(\\mathbf{x})$ of a vector of variables $\\mathbf{x}$, the domain $\\Omega$ of $\\mathbf{x}$, and the number of random draws $N$ and returns the Monte Carlo approximation of the integral $\\int_\\Omega g(\\mathbf{x}) d\\mathbf{x}$. Let $\\Omega$ be a generalized rectangle--width $x$ and height $y$. In order to approximate $\\pi$, let the functional form of the anonymous function be $g(x,y)$ from Section 4.1 with domain $\\Omega = [-1,1]\\times[-1,1]$. What is the smallest number of random draws $N$ from $\\Omega$ that matches the true value of $\\pi$ to the 4th decimal 3.1415? Set the random seed in your uniform random number generator to 25. This will make the correct answer consistent across submissions."
   ]
  },
  {
   "cell_type": "code",
   "execution_count": 72,
   "metadata": {},
   "outputs": [
    {
     "data": {
      "text/plain": [
       "3.1338000000000004"
      ]
     },
     "execution_count": 72,
     "metadata": {},
     "output_type": "execute_result"
    }
   ],
   "source": [
    "import math\n",
    "\n",
    "np.random.seed(seed=25)\n",
    "def monte(g, domain, N):\n",
    "    draws = np.zeros((N,2))\n",
    "    monte_sum = 0\n",
    "    for i in range(N):\n",
    "        for j in range(2):\n",
    "            draws[i,j] = np.random.uniform(domain[j,0],domain[j,1])\n",
    "        monte_sum+=g(draws[i,:])\n",
    "    return (4/N)*monte_sum\n",
    "\n",
    "g = lambda x: 1 if x[0]**2+x[1]**2 <= 1 else 0\n",
    "domain = np.array([[-1,1],[-1,1]]) \n",
    "monte(g,domain,20000)"
   ]
  },
  {
   "cell_type": "code",
   "execution_count": 73,
   "metadata": {},
   "outputs": [
    {
     "name": "stdout",
     "output_type": "stream",
     "text": [
      "smallest number of random draws 4432 3.1415030467163167\n"
     ]
    }
   ],
   "source": [
    "np.random.seed(seed=25)\n",
    "toler = 1e-5\n",
    "diff = 1e3\n",
    "n = 10\n",
    "max_N = 100000\n",
    "while diff > toler and n < max_N:\n",
    "    pi = monte(g, domain, n)\n",
    "    diff = np.abs(pi - 3.1415)\n",
    "    n += 1\n",
    "print(\"smallest number of random draws\", n, pi)"
   ]
  },
  {
   "cell_type": "markdown",
   "metadata": {},
   "source": [
    "#### Question 14.8\n",
    "Define a function in that returns the  𝑛 -th element of a  𝑑 -dimensional equidistributed sequence. It should have support for the four sequences in the Table in Section 4.2."
   ]
  },
  {
   "cell_type": "code",
   "execution_count": 74,
   "metadata": {},
   "outputs": [],
   "source": [
    "def n_p(n):\n",
    "    \n",
    "    primes = [2]\n",
    "    num = 3\n",
    "    while len(primes) < n:\n",
    "        for p in primes:\n",
    "            if num % p == 0:\n",
    "                break\n",
    "        else:\n",
    "            primes.append(num)\n",
    "        num += 2\n",
    "    return primes"
   ]
  },
  {
   "cell_type": "code",
   "execution_count": 75,
   "metadata": {},
   "outputs": [],
   "source": [
    "def equidistr(n, d, seq):\n",
    "    \n",
    "    if seq == 'weyl':\n",
    "        prime = n_p(d)\n",
    "        x = n * np.power(prime, .5)\n",
    "        xn = x - np.floor(x)\n",
    "        \n",
    "    elif seq == 'haber':\n",
    "        prime = n_p(d)\n",
    "        x = (n * (n + 1.0)) / 2 * np.power(prime, .5)\n",
    "        xn = x - np.floor(x)\n",
    "        \n",
    "    elif seq == 'niederreiter':\n",
    "        ar = np.arange(1, d + 1)\n",
    "        x = n * (2 ** (ar / (d + 1)))\n",
    "        x_floor = np.floor(x)\n",
    "        xn = x - x_floor\n",
    "        \n",
    "    elif seq == 'baker':\n",
    "        prime = n_p(d)\n",
    "        x = n * np.exp(prime)\n",
    "        xn = x - np.floor(x)\n",
    "    else:\n",
    "        raise ValueError('Sequence does not exist.')\n",
    "        \n",
    "    return xn"
   ]
  },
  {
   "cell_type": "code",
   "execution_count": 76,
   "metadata": {},
   "outputs": [
    {
     "name": "stdout",
     "output_type": "stream",
     "text": [
      "weyl: [0.14213562 0.32050808]\n",
      "haber: [0.78174593 0.26279442]\n",
      "niederreiter [0.5992105  0.87401052]\n",
      "baker [0.94528049 0.42768462]\n"
     ]
    }
   ],
   "source": [
    "print(\"weyl:\", equidistr(10, 2, 'weyl'))\n",
    "print(\"haber:\", equidistr(10, 2, 'haber'))\n",
    "print(\"niederreiter\", equidistr(10, 2, 'niederreiter'))\n",
    "print(\"baker\", equidistr(5, 2, 'baker'))"
   ]
  },
  {
   "cell_type": "markdown",
   "metadata": {},
   "source": [
    "### Question 14.9\n",
    "**Exercise 4.3** Repeat Exercise 4.1 to approximate the value of $\\pi$, this time using quasi-Monte Carlo integration.  You will need to appropriately scale the equidistributed sequences. Compare the rates of convergence. What is the smallest number of random draws $N$ from $\\Omega$ for the quasi-Monte Carlo integration that matches the true value of $\\pi$ to the 4th decimal 3.1415?. Set the seed in your uniform random number generator to 25. This will make the correct answer consistent across submissions."
   ]
  },
  {
   "cell_type": "code",
   "execution_count": 77,
   "metadata": {},
   "outputs": [],
   "source": [
    "np.random.seed(seed=25)\n",
    "def quasi_monte(N, seq):\n",
    "    \n",
    "    pi = 0\n",
    "    iterate = 0\n",
    "    s = np.zeros((N, 2), dtype=np.float64)\n",
    "    for i in range(1, N+1):\n",
    "        s[i-1, :] = equidistr(i, 2, seq)\n",
    "    \n",
    "    for j in range(N):\n",
    "        if s[j,0] ** 2 + s[j,1] ** 2 <= 1:\n",
    "            iterate += 1\n",
    "    pi = 4.0 * iterate / N\n",
    "    \n",
    "    return pi"
   ]
  },
  {
   "cell_type": "code",
   "execution_count": 78,
   "metadata": {},
   "outputs": [
    {
     "name": "stdout",
     "output_type": "stream",
     "text": [
      "weyl: 3.14036 convergence\n"
     ]
    }
   ],
   "source": [
    "np.random.seed(seed=25)\n",
    "toler = 1e-5\n",
    "diff = 1e3\n",
    "n = 10\n",
    "max_N = 100000\n",
    "while diff > toler and n < max_N:\n",
    "    pi = quasi_monte(n,'weyl')\n",
    "    diff = np.abs(pi - 3.1415)\n",
    "    n += 1\n",
    "print(\"weyl:\", quasi_monte(100000, 'weyl'), \"convergence\")"
   ]
  },
  {
   "cell_type": "code",
   "execution_count": 79,
   "metadata": {},
   "outputs": [
    {
     "name": "stdout",
     "output_type": "stream",
     "text": [
      "weyl: 3.14036\n",
      "haber: 3.14396\n",
      "niederreiter 3.1414\n",
      "baker 3.1416\n"
     ]
    }
   ],
   "source": [
    "print(\"weyl:\", quasi_monte(100000, 'weyl'))\n",
    "print(\"haber:\", quasi_monte(100000, 'haber'))\n",
    "print(\"niederreiter\", quasi_monte(100000, 'niederreiter'))\n",
    "print(\"baker\", quasi_monte(100000, 'baker'))"
   ]
  },
  {
   "cell_type": "code",
   "execution_count": 80,
   "metadata": {},
   "outputs": [
    {
     "name": "stdout",
     "output_type": "stream",
     "text": [
      "weyl: 3.14036 smallest number of random draws 1683\n"
     ]
    }
   ],
   "source": [
    "np.random.seed(seed=25)\n",
    "toler = 1e-5\n",
    "diff = 1e3\n",
    "n = 10\n",
    "max_N = 100000\n",
    "while diff > toler and n < max_N:\n",
    "    pi_wey = quasi_monte(n,'weyl')\n",
    "    diff = np.abs(pi_wey - 3.1415)\n",
    "    n += 1\n",
    "print(\"weyl:\", quasi_monte(100000, 'weyl'), \"smallest number of random draws\", n)"
   ]
  },
  {
   "cell_type": "code",
   "execution_count": 81,
   "metadata": {},
   "outputs": [
    {
     "name": "stdout",
     "output_type": "stream",
     "text": [
      "haber: 3.14396 smallest number of random draws 1054\n"
     ]
    }
   ],
   "source": [
    "np.random.seed(seed=25)\n",
    "toler = 1e-5\n",
    "diff = 1e3\n",
    "n = 10\n",
    "max_N = 100000\n",
    "while diff > toler and n < max_N:\n",
    "    pi_haber = quasi_monte(n,'haber')\n",
    "    diff = np.abs(pi_haber - 3.1415)\n",
    "    n += 1\n",
    "print(\"haber:\", quasi_monte(100000, 'haber'), \"smallest number of random draws\", n)"
   ]
  },
  {
   "cell_type": "code",
   "execution_count": 82,
   "metadata": {},
   "outputs": [
    {
     "name": "stdout",
     "output_type": "stream",
     "text": [
      "niederreiter: 3.1414 smallest number of random draws 1888\n"
     ]
    }
   ],
   "source": [
    "np.random.seed(seed=25)\n",
    "toler = 1e-5\n",
    "diff = 1e3\n",
    "n = 10\n",
    "max_N = 100000\n",
    "while diff > toler and n < max_N:\n",
    "    pi_nieder = quasi_monte(n,'niederreiter')\n",
    "    diff = np.abs(pi_nieder - 3.1415)\n",
    "    n += 1\n",
    "print(\"niederreiter:\", quasi_monte(100000, 'niederreiter'), \"smallest number of random draws\", n)"
   ]
  },
  {
   "cell_type": "code",
   "execution_count": 83,
   "metadata": {},
   "outputs": [
    {
     "ename": "KeyboardInterrupt",
     "evalue": "",
     "output_type": "error",
     "traceback": [
      "\u001b[1;31m---------------------------------------------------------------------------\u001b[0m",
      "\u001b[1;31mKeyboardInterrupt\u001b[0m                         Traceback (most recent call last)",
      "\u001b[1;32m<ipython-input-83-377f74c52ce1>\u001b[0m in \u001b[0;36m<module>\u001b[1;34m\u001b[0m\n\u001b[0;32m      5\u001b[0m \u001b[0mmax_N\u001b[0m \u001b[1;33m=\u001b[0m \u001b[1;36m100000\u001b[0m\u001b[1;33m\u001b[0m\u001b[1;33m\u001b[0m\u001b[0m\n\u001b[0;32m      6\u001b[0m \u001b[1;32mwhile\u001b[0m \u001b[0mdiff\u001b[0m \u001b[1;33m>\u001b[0m \u001b[0mtoler\u001b[0m \u001b[1;32mand\u001b[0m \u001b[0mn\u001b[0m \u001b[1;33m<\u001b[0m \u001b[0mmax_N\u001b[0m\u001b[1;33m:\u001b[0m\u001b[1;33m\u001b[0m\u001b[1;33m\u001b[0m\u001b[0m\n\u001b[1;32m----> 7\u001b[1;33m     \u001b[0mpi_baker\u001b[0m \u001b[1;33m=\u001b[0m \u001b[0mquasi_monte\u001b[0m\u001b[1;33m(\u001b[0m\u001b[0mn\u001b[0m\u001b[1;33m,\u001b[0m\u001b[1;34m'baker'\u001b[0m\u001b[1;33m)\u001b[0m\u001b[1;33m\u001b[0m\u001b[1;33m\u001b[0m\u001b[0m\n\u001b[0m\u001b[0;32m      8\u001b[0m     \u001b[0mdiff\u001b[0m \u001b[1;33m=\u001b[0m \u001b[0mnp\u001b[0m\u001b[1;33m.\u001b[0m\u001b[0mabs\u001b[0m\u001b[1;33m(\u001b[0m\u001b[0mpi_baker\u001b[0m \u001b[1;33m-\u001b[0m \u001b[1;36m3.1415\u001b[0m\u001b[1;33m)\u001b[0m\u001b[1;33m\u001b[0m\u001b[1;33m\u001b[0m\u001b[0m\n\u001b[0;32m      9\u001b[0m     \u001b[0mn\u001b[0m \u001b[1;33m+=\u001b[0m \u001b[1;36m1\u001b[0m\u001b[1;33m\u001b[0m\u001b[1;33m\u001b[0m\u001b[0m\n",
      "\u001b[1;32m<ipython-input-77-a8bed455b5bf>\u001b[0m in \u001b[0;36mquasi_monte\u001b[1;34m(N, seq)\u001b[0m\n\u001b[0;32m      6\u001b[0m     \u001b[0ms\u001b[0m \u001b[1;33m=\u001b[0m \u001b[0mnp\u001b[0m\u001b[1;33m.\u001b[0m\u001b[0mzeros\u001b[0m\u001b[1;33m(\u001b[0m\u001b[1;33m(\u001b[0m\u001b[0mN\u001b[0m\u001b[1;33m,\u001b[0m \u001b[1;36m2\u001b[0m\u001b[1;33m)\u001b[0m\u001b[1;33m,\u001b[0m \u001b[0mdtype\u001b[0m\u001b[1;33m=\u001b[0m\u001b[0mnp\u001b[0m\u001b[1;33m.\u001b[0m\u001b[0mfloat64\u001b[0m\u001b[1;33m)\u001b[0m\u001b[1;33m\u001b[0m\u001b[1;33m\u001b[0m\u001b[0m\n\u001b[0;32m      7\u001b[0m     \u001b[1;32mfor\u001b[0m \u001b[0mi\u001b[0m \u001b[1;32min\u001b[0m \u001b[0mrange\u001b[0m\u001b[1;33m(\u001b[0m\u001b[1;36m1\u001b[0m\u001b[1;33m,\u001b[0m \u001b[0mN\u001b[0m\u001b[1;33m+\u001b[0m\u001b[1;36m1\u001b[0m\u001b[1;33m)\u001b[0m\u001b[1;33m:\u001b[0m\u001b[1;33m\u001b[0m\u001b[1;33m\u001b[0m\u001b[0m\n\u001b[1;32m----> 8\u001b[1;33m         \u001b[0ms\u001b[0m\u001b[1;33m[\u001b[0m\u001b[0mi\u001b[0m\u001b[1;33m-\u001b[0m\u001b[1;36m1\u001b[0m\u001b[1;33m,\u001b[0m \u001b[1;33m:\u001b[0m\u001b[1;33m]\u001b[0m \u001b[1;33m=\u001b[0m \u001b[0mequidistr\u001b[0m\u001b[1;33m(\u001b[0m\u001b[0mi\u001b[0m\u001b[1;33m,\u001b[0m \u001b[1;36m2\u001b[0m\u001b[1;33m,\u001b[0m \u001b[0mseq\u001b[0m\u001b[1;33m)\u001b[0m\u001b[1;33m\u001b[0m\u001b[1;33m\u001b[0m\u001b[0m\n\u001b[0m\u001b[0;32m      9\u001b[0m \u001b[1;33m\u001b[0m\u001b[0m\n\u001b[0;32m     10\u001b[0m     \u001b[1;32mfor\u001b[0m \u001b[0mj\u001b[0m \u001b[1;32min\u001b[0m \u001b[0mrange\u001b[0m\u001b[1;33m(\u001b[0m\u001b[0mN\u001b[0m\u001b[1;33m)\u001b[0m\u001b[1;33m:\u001b[0m\u001b[1;33m\u001b[0m\u001b[1;33m\u001b[0m\u001b[0m\n",
      "\u001b[1;32m<ipython-input-75-9ef1e4db3589>\u001b[0m in \u001b[0;36mequidistr\u001b[1;34m(n, d, seq)\u001b[0m\n\u001b[0;32m     19\u001b[0m     \u001b[1;32melif\u001b[0m \u001b[0mseq\u001b[0m \u001b[1;33m==\u001b[0m \u001b[1;34m'baker'\u001b[0m\u001b[1;33m:\u001b[0m\u001b[1;33m\u001b[0m\u001b[1;33m\u001b[0m\u001b[0m\n\u001b[0;32m     20\u001b[0m         \u001b[0mprime\u001b[0m \u001b[1;33m=\u001b[0m \u001b[0mn_p\u001b[0m\u001b[1;33m(\u001b[0m\u001b[0md\u001b[0m\u001b[1;33m)\u001b[0m\u001b[1;33m\u001b[0m\u001b[1;33m\u001b[0m\u001b[0m\n\u001b[1;32m---> 21\u001b[1;33m         \u001b[0mx\u001b[0m \u001b[1;33m=\u001b[0m \u001b[0mn\u001b[0m \u001b[1;33m*\u001b[0m \u001b[0mnp\u001b[0m\u001b[1;33m.\u001b[0m\u001b[0mexp\u001b[0m\u001b[1;33m(\u001b[0m\u001b[0mprime\u001b[0m\u001b[1;33m)\u001b[0m\u001b[1;33m\u001b[0m\u001b[1;33m\u001b[0m\u001b[0m\n\u001b[0m\u001b[0;32m     22\u001b[0m         \u001b[0mxn\u001b[0m \u001b[1;33m=\u001b[0m \u001b[0mx\u001b[0m \u001b[1;33m-\u001b[0m \u001b[0mnp\u001b[0m\u001b[1;33m.\u001b[0m\u001b[0mfloor\u001b[0m\u001b[1;33m(\u001b[0m\u001b[0mx\u001b[0m\u001b[1;33m)\u001b[0m\u001b[1;33m\u001b[0m\u001b[1;33m\u001b[0m\u001b[0m\n\u001b[0;32m     23\u001b[0m     \u001b[1;32melse\u001b[0m\u001b[1;33m:\u001b[0m\u001b[1;33m\u001b[0m\u001b[1;33m\u001b[0m\u001b[0m\n",
      "\u001b[1;31mKeyboardInterrupt\u001b[0m: "
     ]
    }
   ],
   "source": [
    "np.random.seed(seed=25)\n",
    "toler = 1e-5\n",
    "diff = 1e3\n",
    "n = 10\n",
    "max_N = 100000\n",
    "while diff > toler and n < max_N:\n",
    "    pi_baker = quasi_monte(n,'baker')\n",
    "    diff = np.abs(pi_baker - 3.1415)\n",
    "    n += 1\n",
    "print(\"baker:\", quasi_monte(100000, 'baker'), \"smallest number of random draws\", n)"
   ]
  },
  {
   "cell_type": "markdown",
   "metadata": {},
   "source": [
    "In terms of number of draws, \n",
    "haber < weyl < niederreiter "
   ]
  }
 ],
 "metadata": {
  "kernelspec": {
   "display_name": "Python 3",
   "language": "python",
   "name": "python3"
  },
  "language_info": {
   "codemirror_mode": {
    "name": "ipython",
    "version": 3
   },
   "file_extension": ".py",
   "mimetype": "text/x-python",
   "name": "python",
   "nbconvert_exporter": "python",
   "pygments_lexer": "ipython3",
   "version": "3.7.1"
  }
 },
 "nbformat": 4,
 "nbformat_minor": 2
}
