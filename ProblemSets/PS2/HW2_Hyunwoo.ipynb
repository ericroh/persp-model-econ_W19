{
 "cells": [
  {
   "cell_type": "code",
   "execution_count": 418,
   "metadata": {},
   "outputs": [],
   "source": [
    "from matplotlib import pyplot as plt\n",
    "from sympy import *\n",
    "import sympy as sy\n",
    "import numpy as np\n",
    "import math"
   ]
  },
  {
   "cell_type": "code",
   "execution_count": 419,
   "metadata": {},
   "outputs": [],
   "source": [
    "#########################\n",
    "#       Problem 1       # \n",
    "#########################\n",
    "\n",
    "x = sy.symbols('x')\n",
    "y = (sin(x)+1)**(sin(cos(x)))\n",
    "y\n",
    "\n",
    "def sympy_diff():\n",
    "    x = sy.symbols('x')\n",
    "    f = (sy.sin(x) + 1) ** (sy.sin(sy.cos(x)))\n",
    "    df = sy.diff(y, x)\n",
    "    lam_d = sy.utilities.lambdify(x, df)\n",
    "    lam_f = sy.utilities.lambdify(x, f)\n",
    "    \n",
    "    return lam_f, lam_d"
   ]
  },
  {
   "cell_type": "code",
   "execution_count": 420,
   "metadata": {},
   "outputs": [
    {
     "data": {
      "text/plain": [
       "(0.7699453469817825, -0.3463039796609265)"
      ]
     },
     "execution_count": 420,
     "metadata": {},
     "output_type": "execute_result"
    }
   ],
   "source": [
    "f, df = sympy_diff()\n",
    "f(2), df(2)"
   ]
  },
  {
   "cell_type": "code",
   "execution_count": 421,
   "metadata": {},
   "outputs": [
    {
     "data": {
      "text/plain": [
       "(-log(sin(x) + 1)*sin(x)*cos(cos(x)) + sin(cos(x))*cos(x)/(sin(x) + 1))*(sin(x) + 1)**sin(cos(x))"
      ]
     },
     "execution_count": 421,
     "metadata": {},
     "output_type": "execute_result"
    }
   ],
   "source": [
    "dy=sy.diff(y,x)\n",
    "dy"
   ]
  },
  {
   "cell_type": "code",
   "execution_count": 422,
   "metadata": {},
   "outputs": [
    {
     "data": {
      "text/plain": [
       "-0.4117441338415354"
      ]
     },
     "execution_count": 422,
     "metadata": {},
     "output_type": "execute_result"
    }
   ],
   "source": [
    "dy_lamb=sy.lambdify(x,dy,'numpy')\n",
    "y_lamb=sy.lambdify(x,y,'numpy')\n",
    "xvals = np.linspace(-np.pi, np.pi, 100)\n",
    "dy_lamb(5)"
   ]
  },
  {
   "cell_type": "code",
   "execution_count": 423,
   "metadata": {},
   "outputs": [
    {
     "data": {
      "image/png": "[encoded data removed]",
      "text/plain": [
       "<Figure size 432x288 with 1 Axes>"
      ]
     },
     "metadata": {
      "needs_background": "light"
     },
     "output_type": "display_data"
    }
   ],
   "source": [
    "ax = plt.gca()\n",
    "ax.spines[\"bottom\"].set_position(\"zero\")\n",
    "ax.plot(xvals,dy_lamb(xvals))\n",
    "plt.ylim(-8,3)\n",
    "plt.grid()\n",
    "plt.show()"
   ]
  },
  {
   "cell_type": "code",
   "execution_count": 424,
   "metadata": {},
   "outputs": [],
   "source": [
    "#########################\n",
    "#       Problem 2       # \n",
    "#########################\n",
    "# Write a function for each of the finite difference quotients\n",
    "\n",
    "def x_vals(n):\n",
    "    return np.linspace(-np.pi, np.pi, n)\n",
    "\n",
    "def fw1(f,x,h):\n",
    "    return (f(x+h)-f(x))/h\n",
    "    \n",
    "def fw2(f,x,h):\n",
    "    return (-3.*f(x)+4*f(x+h)-f(x+2*h))/(2*h)\n",
    "    \n",
    "def bw1(f,x,h):\n",
    "    return (f(x)-f(x-h))/h\n",
    "    \n",
    "def bw2(f, x,h):\n",
    "    return (3.*f(x)-4.*f(x-h)+f(x-2*h))/(2*h)\n",
    "\n",
    "def ct2(f, x, h):\n",
    "    return (f(x+h)-f(x-h))/(2*h)\n",
    "    \n",
    "def ct4(f, x, h):\n",
    "    return (f(x-2*h)-8.*f(x-h)+8.*f(x+h)-f(x+2*h))/(12*h)\n",
    "\n",
    "def centered_o4(f, x, h):\n",
    "    num = f(x - 2 * h) - 8 * f(x - h) + 8 * f(x + h) - f(x + 2 * h)\n",
    "    return num / (12 * h)"
   ]
  },
  {
   "cell_type": "code",
   "execution_count": 425,
   "metadata": {},
   "outputs": [
    {
     "data": {
      "text/plain": [
       "<function matplotlib.pyplot.show(*args, **kw)>"
      ]
     },
     "execution_count": 425,
     "metadata": {},
     "output_type": "execute_result"
    },
    {
     "data": {
      "image/png": "[encoded data removed]",
      "text/plain": [
       "<Figure size 432x288 with 1 Axes>"
      ]
     },
     "metadata": {
      "needs_background": "light"
     },
     "output_type": "display_data"
    }
   ],
   "source": [
    "# Plot the results\n",
    "xvals=x_vals(100)\n",
    "ax = plt.gca()\n",
    "ax.spines[\"bottom\"].set_position(\"zero\")\n",
    "ax.plot(xvals, fw1(y_lamb,xvals,0.01),label='forward1')\n",
    "ax.plot(xvals, fw2(y_lamb,xvals,0.01),label='forward2')\n",
    "ax.plot(xvals, bw1(y_lamb,xvals,0.01),label='backward1')\n",
    "ax.plot(xvals, bw2(y_lamb,xvals,0.01),label='backward2')\n",
    "ax.plot(xvals, ct2(y_lamb,xvals,0.01),label='centered2')\n",
    "ax.plot(xvals, ct4(y_lamb,xvals,0.01),label='cnetered4')\n",
    "plt.legend(loc='lower right')\n",
    "plt.show"
   ]
  },
  {
   "cell_type": "code",
   "execution_count": 426,
   "metadata": {},
   "outputs": [],
   "source": [
    "# compare them to the results of Problem 1\n",
    "# We can think of calculating difference from true value.\n",
    "\n",
    "def test(f,n):\n",
    "    #return sum(abs(dy_lamb(x_vals(n))-f))\n",
    "    return np.sqrt(sum((dy_lamb(x_vals(n))-f)**2))"
   ]
  },
  {
   "cell_type": "code",
   "execution_count": 427,
   "metadata": {},
   "outputs": [
    {
     "name": "stdout",
     "output_type": "stream",
     "text": [
      "(0.6997656450349302, 0.16461387561452326, 1.0357569516211347, 1.0702085462088602, 0.17970589160089348, 0.08574585542916602)\n"
     ]
    }
   ],
   "source": [
    "# calculate the error for each method when n=100\n",
    "n=100\n",
    "print ((test(fw1(y_lamb,x_vals(n),0.01),n),\n",
    "test(fw2(y_lamb,x_vals(n),0.01),n),\n",
    "test(bw1(y_lamb,x_vals(n),0.01),n),\n",
    "test(bw2(y_lamb,x_vals(n),0.01),n),\n",
    "test(ct2(y_lamb,x_vals(n),0.01),n),\n",
    "test(ct4(y_lamb,x_vals(n),0.01),n)))"
   ]
  },
  {
   "cell_type": "code",
   "execution_count": 428,
   "metadata": {},
   "outputs": [
    {
     "name": "stdout",
     "output_type": "stream",
     "text": [
      "1.7343772059566547 0.9469287658772867 2.735736878923265 3.8208682613690983 0.5837375762903856 0.9104021397577038\n"
     ]
    }
   ],
   "source": [
    "# calculate the error for each method when n=300\n",
    "n=300\n",
    "print (test(fw1(y_lamb,x_vals(n),0.01),n),\n",
    "test(fw2(y_lamb,x_vals(n),0.01),n),\n",
    "test(bw1(y_lamb,x_vals(n),0.01),n),\n",
    "test(bw2(y_lamb,x_vals(n),0.01),n),\n",
    "test(ct2(y_lamb,x_vals(n),0.01),n),\n",
    "test(ct4(y_lamb,x_vals(n),0.01),n))"
   ]
  },
  {
   "cell_type": "code",
   "execution_count": 429,
   "metadata": {},
   "outputs": [
    {
     "data": {
      "text/plain": [
       "(-0.3965403874194623, 1.3689877347067858)"
      ]
     },
     "execution_count": 429,
     "metadata": {},
     "output_type": "execute_result"
    }
   ],
   "source": [
    "#########################\n",
    "#       Problem 3       # \n",
    "#########################\n",
    "\n",
    "# In problem 1, we defined dy_lamb that compute the derivative.X_0 = 1\n",
    "dy_lamb(1), y_lamb(1)"
   ]
  },
  {
   "cell_type": "code",
   "execution_count": 430,
   "metadata": {},
   "outputs": [],
   "source": [
    "test_func = [fw1,fw2,bw1,bw2,ct2,ct4]\n",
    "def error_f(x):\n",
    "    hvals=np.logspace(-8,0,9)\n",
    "    abs_error = np.zeros((9,6))\n",
    "    for i in range(9):\n",
    "        for j in range(6):\n",
    "            abs_error[i,j]=abs(test_func[j](y_lamb,x,hvals[i])-dy_lamb(x))\n",
    "    plt.figure()\n",
    "    labels = [\"fw1\",\"fw2\",\"bw1\",\"bw2\",\"ct2\",\"ct4\"]\n",
    "    for j in range(6):\n",
    "        plt.loglog(hvals,abs_error[:,j], label=labels[j], marker='o')\n",
    "    plt.legend(loc='upper left')\n",
    "    plt.show()"
   ]
  },
  {
   "cell_type": "code",
   "execution_count": 431,
   "metadata": {},
   "outputs": [
    {
     "data": {
      "image/png": "[encoded data removed]",
      "text/plain": [
       "<Figure size 432x288 with 1 Axes>"
      ]
     },
     "metadata": {
      "needs_background": "light"
     },
     "output_type": "display_data"
    }
   ],
   "source": [
    "error_f(1)"
   ]
  },
  {
   "cell_type": "code",
   "execution_count": 432,
   "metadata": {},
   "outputs": [],
   "source": [
    "#########################\n",
    "#       Problem 4       # \n",
    "#########################\n",
    "data = np.load(r\"C:\\Users\\ericr\\Desktop\\persp-model-econ_W19\\ProblemSets\\PS2\\plane.npy\")\n",
    "t=data[:0]\n",
    "alpha=np.deg2rad(data[:,1])\n",
    "beta=np.deg2rad(data[:,2])"
   ]
  },
  {
   "cell_type": "code",
   "execution_count": 433,
   "metadata": {},
   "outputs": [
    {
     "name": "stdout",
     "output_type": "stream",
     "text": [
      "[46.42420062 47.00103938 48.99880514 50.09944163 48.29035084 51.56455905\n",
      " 53.92303355 51.51480057]\n"
     ]
    }
   ],
   "source": [
    "x_pos = 500*np.tan(beta)/(np.tan(beta)-np.tan(alpha))\n",
    "y_pos = 500*np.tan(alpha)*np.tan(beta)/(np.tan(beta)-np.tan(alpha))\n",
    "\n",
    "x_veloc = np.zeros(len(x_pos))\n",
    "y_veloc = np.zeros(len(y_pos))\n",
    "    \n",
    "t = 0\n",
    "\n",
    "while t <= 7:\n",
    "    if t == 0:\n",
    "        x_veloc[t] = (x_pos[t+1] - x_pos[t])\n",
    "        y_veloc[t] = (y_pos[t+1] - y_pos[t])\n",
    "    elif t < 7:\n",
    "        x_veloc[t] = (x_pos[t+1] - x_pos[t-1])/2\n",
    "        y_veloc[t] = (y_pos[t+1] - y_pos[t-1])/2\n",
    "    else:\n",
    "        x_veloc[t] = (x_pos[t] - x_pos[t-1])\n",
    "        y_veloc[t] = (y_pos[t] - y_pos[t-1])\n",
    "    t += 1\n",
    "\n",
    "veloc = np.sqrt(x_veloc**2 + y_veloc**2)\n",
    "print(veloc)"
   ]
  },
  {
   "cell_type": "code",
   "execution_count": 434,
   "metadata": {},
   "outputs": [
    {
     "data": {
      "text/plain": [
       "array([[ 2.        ,  0.        ],\n",
       "       [ 3.00000001, -1.        ]])"
      ]
     },
     "execution_count": 434,
     "metadata": {},
     "output_type": "execute_result"
    }
   ],
   "source": [
    "#########################\n",
    "#       Problem 5       # \n",
    "#########################\n",
    "\n",
    "# Approximate the Jacobian matrix of f at x using the second order centered difference quotient.\n",
    "\n",
    "def jacobian(f,x_0):\n",
    "    h=0.0001\n",
    "    f_len = len(f(x_0))\n",
    "    Iden = np.identity(f_len)\n",
    "    jacob = np.zeros((f_len,len(x_0)))\n",
    "    for i in range(f_len):\n",
    "        for j in range(len(x_0)):\n",
    "            e = Iden[i,:]\n",
    "            f_h_p = f(x_0+h*e)[j]\n",
    "            f_h_n = f(x_0-h*e)[j]\n",
    "            jacob[j,i]=((f_h_p-f_h_n)/(2*h))\n",
    "    return jacob    \n",
    "# Test\n",
    "def func(x):\n",
    "    return np.array([x[0]**2, x[0]**3 - x[1]])\n",
    "values = np.array([1.,1.])\n",
    "jacobian(func,values)"
   ]
  },
  {
   "cell_type": "code",
   "execution_count": 435,
   "metadata": {},
   "outputs": [
    {
     "data": {
      "text/plain": [
       "Matrix([\n",
       "[2,  0],\n",
       "[3, -1]])"
      ]
     },
     "execution_count": 435,
     "metadata": {},
     "output_type": "execute_result"
    }
   ],
   "source": [
    "x,y=sy.symbols('x,y', real=True)\n",
    "J = Function('J')(x,y)\n",
    "f1=x**2\n",
    "f2=x**3-y\n",
    "f1x=diff(f1,x)\n",
    "f1y=diff(f1,y)\n",
    "f2x=diff(f2,x)\n",
    "f2y=diff(f2,y)\n",
    "J = sy.Matrix([[f1x,f1y],[f2x,f2y]])\n",
    "J.subs([(x,1), (y,1)])\n",
    "# We can use jacobian function directly\n",
    "F = sy.Matrix([f1,f2])\n",
    "F.jacobian([x,y])\n",
    "F.jacobian([x,y]).subs([(x,1), (y,1)])"
   ]
  },
  {
   "cell_type": "markdown",
   "metadata": {},
   "source": [
    "We can see that element(2,1) is not exactly same."
   ]
  },
  {
   "cell_type": "code",
   "execution_count": 436,
   "metadata": {},
   "outputs": [],
   "source": [
    "#########################\n",
    "#       Problem 7       # \n",
    "#########################\n",
    "\n",
    "from autograd import grad\n",
    "import time\n",
    "\n",
    "def problem7(n):\n",
    "    func = y_lamb\n",
    "    time_sympy = np.zeros(n)\n",
    "    time_autograd = np.zeros(n)\n",
    "    time_centered = np.zeros(n)\n",
    "    err_centered = np.zeros(n)\n",
    "    err_autograd = np.zeros(n)\n",
    "    \n",
    "    for i in range(n):\n",
    "        x_0=np.random.rand()\n",
    "        \n",
    "        start_time_sympy=time.time()\n",
    "        f, df = sympy_diff()\n",
    "        time_sympy[i]=time.time()-start_time_sympy\n",
    "        \n",
    "        start_time_ct4=time.time()\n",
    "        err_centered[i] = np.abs(ct4(func, x_0, 1e-4) - dy_lamb(x_0))\n",
    "        time_centered[i] =  time.time() - start_time_ct4\n",
    "\n",
    "        #start_time_auto=time.time()\n",
    "        #dfgrad = grad(func)(x_0)\n",
    "        #err_autograd[i]=np.abs(dfgrad)-dy_lamb(x_0))\n",
    "        #time_autograd[i]=time.time()-start_time_auto\n",
    "        \n",
    "    plt.scatter(time_sympy, 1e-18 * np.ones(n), alpha=0.5, label='SymPy', s=30)\n",
    "    plt.scatter(time_centered, err_centered, alpha=0.5, label='Centered Difference', s=30)\n",
    "    #plt.scatter(time_autograd, err_autograd, alpha=0.5, label='Autograd', s=30)\n",
    "    plt.loglog()\n",
    "    plt.xlim(1e-5, 1e-1)\n",
    "    plt.ylim(1e-19, 1e-12)\n",
    "    plt.xlabel('Seconds')\n",
    "    plt.ylabel('Absolute Error')\n",
    "    plt.legend()\n",
    "    plt.show()"
   ]
  },
  {
   "cell_type": "code",
   "execution_count": 437,
   "metadata": {},
   "outputs": [
    {
     "data": {
      "image/png": "[encoded data removed]",
      "text/plain": [
       "<Figure size 432x288 with 1 Axes>"
      ]
     },
     "metadata": {
      "needs_background": "light"
     },
     "output_type": "display_data"
    }
   ],
   "source": [
    "problem7(300)"
   ]
  },
  {
   "cell_type": "markdown",
   "metadata": {},
   "source": [
    "## Integration Part\n",
    "#### Question 14.1"
   ]
  },
  {
   "cell_type": "code",
   "execution_count": 438,
   "metadata": {},
   "outputs": [
    {
     "data": {
      "text/plain": [
       "4373.33333333333"
      ]
     },
     "execution_count": 438,
     "metadata": {},
     "output_type": "execute_result"
    }
   ],
   "source": [
    "g = lambda x: .1 * x ** 4 - 1.5 * x ** 3 + .53 * x ** 2 + 2 * x + 1\n",
    "a = -10\n",
    "b = 10\n",
    "N = 10000\n",
    "\n",
    "# Calculate the true known value of the integral\n",
    "import sympy as sy\n",
    "z = sy.symbols('z')\n",
    "sy.integrate(0.1*z**4 - 1.5*z**3 + 0.53*z**2 + 2*z + 1, (z, a, b))"
   ]
  },
  {
   "cell_type": "code",
   "execution_count": 439,
   "metadata": {},
   "outputs": [],
   "source": [
    "import numpy as np\n",
    "from matplotlib import pyplot as plt\n",
    "from scipy import integrate\n",
    "from scipy import stats as sts"
   ]
  },
  {
   "cell_type": "code",
   "execution_count": 440,
   "metadata": {},
   "outputs": [],
   "source": [
    "def num_integral(func, a, b, N, method='midpoint'):\n",
    "    \n",
    "    bin_cuts = np.linspace(a, b, num=N)\n",
    "    i = np.arange(len(bin_cuts))\n",
    "    \n",
    "    if method == 'midpoint':\n",
    "        xi_vals = a + (((2*i+1)*(b - a))/(2*N))\n",
    "        g_vals = func(xi_vals)\n",
    "        w = (b - a)/N\n",
    "        result_mid = w * np.sum(g_vals[:-1])\n",
    "        return result_mid\n",
    "        \n",
    "    elif method == 'trapezoid':\n",
    "        xi_vals = a + (i*(b - a))/N\n",
    "        g_vals = np.sum(func(xi_vals)) + func(xi_vals[-1])\n",
    "        w = (b - a)/(2*N)\n",
    "        \n",
    "        result_trap = w * (func(xi_vals[0]) + 2 * g_vals)\n",
    "        return result_trap\n",
    "    \n",
    "    elif method == 'simpsons':\n",
    "            h = (b - a) / N\n",
    "            s = func(a) + func(b)\n",
    "            for i in range(1, N, 2):\n",
    "                s += 4 * func(a + i * h)\n",
    "            for i in range(2, N-1, 2):\n",
    "                s += 2 * func(a + i * h)\n",
    "            result_simp =s * h / 3\n",
    "            return result_simp\n",
    "        "
   ]
  },
  {
   "cell_type": "code",
   "execution_count": 441,
   "metadata": {},
   "outputs": [
    {
     "name": "stdout",
     "output_type": "stream",
     "text": [
      "Integral computed via midpoint method:   4374.1851216356135\n",
      "Integral computed via trapezoid method:  4377.9757567908655\n",
      "Integral computed via Simpson method:    4373.333333333318\n"
     ]
    }
   ],
   "source": [
    "midpoint = num_integral(g, -10, 10, 10000, 'midpoint')\n",
    "print('Integral computed via midpoint method:  ', midpoint)\n",
    "trap = num_integral(g, -10, 10, 10000, 'trapezoid')\n",
    "print('Integral computed via trapezoid method: ', trap)\n",
    "simp = num_integral(g, -10, 10, 10000, 'simpsons')\n",
    "print('Integral computed via Simpson method:   ', simp)"
   ]
  },
  {
   "cell_type": "markdown",
   "metadata": {},
   "source": [
    "#### Question 14.2\n",
    "Write a python function that makes a Newton-Cotes discrete approximation of the distribuiton of the normally distributed variable Z~N(mu, sigma)"
   ]
  },
  {
   "cell_type": "code",
   "execution_count": 442,
   "metadata": {},
   "outputs": [],
   "source": [
    "from scipy.stats import norm\n",
    "import matplotlib.pyplot as plt"
   ]
  },
  {
   "cell_type": "code",
   "execution_count": 443,
   "metadata": {},
   "outputs": [
    {
     "name": "stdout",
     "output_type": "stream",
     "text": [
      "Weights:\n",
      "[0.00346697 0.01439745 0.04894278 0.11725292 0.19802845 0.23582284\n",
      " 0.19802845 0.11725292 0.04894278 0.         0.00346697]\n",
      "Nodes:\n",
      "[-3.  -2.4 -1.8 -1.2 -0.6  0.   0.6  1.2  1.8  2.4  3. ]\n"
     ]
    },
    {
     "data": {
      "image/png": "[encoded data removed]",
      "text/plain": [
       "<Figure size 432x288 with 1 Axes>"
      ]
     },
     "metadata": {
      "needs_background": "light"
     },
     "output_type": "display_data"
    }
   ],
   "source": [
    "def approx_normal(mu, sigma, N, k):\n",
    "    \n",
    "    Z = np.linspace(mu - k*sigma, mu + k*sigma, N)\n",
    "    w = np.zeros_like(Z)\n",
    "    w[0] = norm.cdf((Z[0] + Z[1]) / 2, loc=mu, scale=sigma)\n",
    "    w[N - 1] = 1 - norm.cdf((Z[N - 2] + Z[N - 1]) / 2, loc=mu, scale=sigma)\n",
    "    for i in range(1, N - 2):\n",
    "        z_min = (Z[i - 1] + Z[i]) / 2\n",
    "        z_max = (Z[i] + Z[i + 1]) / 2\n",
    "        w[i] = norm.cdf(z_max, loc=mu, scale=sigma) - norm.cdf(z_min, loc=mu, scale=sigma)\n",
    "    return Z, w\n",
    "\n",
    "Z, w = approx_normal(0,1,11,3)\n",
    "print('Weights:')\n",
    "print(w)\n",
    "print('Nodes:')\n",
    "print(Z)\n",
    "\n",
    "\n",
    "plt.plot(bin_cuts, w)\n",
    "plt.show()"
   ]
  },
  {
   "cell_type": "markdown",
   "metadata": {},
   "source": [
    "#### Question 14.3"
   ]
  },
  {
   "cell_type": "code",
   "execution_count": 444,
   "metadata": {},
   "outputs": [
    {
     "name": "stdout",
     "output_type": "stream",
     "text": [
      "Weights:\n",
      "[0.00346697 0.01439745 0.04894278 0.11725292 0.19802845 0.23582284\n",
      " 0.19802845 0.11725292 0.04894278 0.         0.00346697]\n",
      "Nodes:\n",
      "[ 0.04978707  0.09071795  0.16529889  0.30119421  0.54881164  1.\n",
      "  1.8221188   3.32011692  6.04964746 11.02317638 20.08553692]\n"
     ]
    },
    {
     "data": {
      "image/png": "[encoded data removed]",
      "text/plain": [
       "<Figure size 432x288 with 1 Axes>"
      ]
     },
     "metadata": {
      "needs_background": "light"
     },
     "output_type": "display_data"
    }
   ],
   "source": [
    "def approx_lognormal(mu, sigma, N, k):\n",
    "    Z, w_log = approx_normal(mu, sigma, N, k)\n",
    "    Z_log = np.exp(Z)\n",
    "    return Z_log, w_log\n",
    "    \n",
    "Z_log, w_log = approx_lognormal(0,1,11,3)\n",
    "print('Weights:')\n",
    "print(w_log)\n",
    "print('Nodes:')\n",
    "print(Z_log)\n",
    "\n",
    "plt.plot(Z_log,w_log)\n",
    "plt.show()"
   ]
  },
  {
   "cell_type": "markdown",
   "metadata": {},
   "source": [
    "Weights are same in 14.2 and 14.3"
   ]
  },
  {
   "cell_type": "markdown",
   "metadata": {},
   "source": [
    "#### Question 14.4"
   ]
  },
  {
   "cell_type": "code",
   "execution_count": 445,
   "metadata": {},
   "outputs": [],
   "source": [
    "mu = 10.5\n",
    "sigma = 0.8\n",
    "N = 100\n",
    "k = 3\n",
    "Y, w = approx_lognormal(mu,sigma,N,k)"
   ]
  },
  {
   "cell_type": "code",
   "execution_count": 446,
   "metadata": {},
   "outputs": [
    {
     "name": "stdout",
     "output_type": "stream",
     "text": [
      "Exact expected value :        50011.087008521754\n",
      "Approximated expected value :        49739.23910845465\n"
     ]
    }
   ],
   "source": [
    "exact = np.exp(mu+(sigma**2)/2)\n",
    "print ('Exact expected value :       ', exact)\n",
    "EY = Y@w\n",
    "print ('Approximated expected value :       ', EY)"
   ]
  },
  {
   "cell_type": "code",
   "execution_count": 447,
   "metadata": {},
   "outputs": [
    {
     "data": {
      "text/plain": [
       "49739.23910845463"
      ]
     },
     "execution_count": 447,
     "metadata": {},
     "output_type": "execute_result"
    }
   ],
   "source": [
    "EY = sum(w[i]*Y[i] for i in range(len(Y)))\n",
    "EY"
   ]
  },
  {
   "cell_type": "markdown",
   "metadata": {},
   "source": [
    "#### Question 14.5\n",
    "Approximate the integral of the function in Exercise 2.1"
   ]
  },
  {
   "cell_type": "code",
   "execution_count": 448,
   "metadata": {},
   "outputs": [
    {
     "name": "stdout",
     "output_type": "stream",
     "text": [
      "Gaussian Quadrature:        4373.333333340382\n",
      "True known value:        4373.33333333333\n"
     ]
    }
   ],
   "source": [
    "# write down all equations as in 14.11 as N=3\n",
    "\n",
    "import scipy as sc\n",
    "import scipy.optimize as opt\n",
    "\n",
    "g = lambda x: .1 * x ** 4 - 1.5 * x ** 3 + .53 * x ** 2 + 2 * x + 1\n",
    "\n",
    "def equations(parameters):\n",
    "    w1, w2, w3, x1, x2, x3 = parameters\n",
    "    \n",
    "    eq0 = (b - a) - (w1 + w2 + w3)\n",
    "    \n",
    "    eq1 = ((1/2) * b ** 2 - (1/2) * a ** 2) - (w1 * x1 + w2 * x2 + w3 * x3)\n",
    "    \n",
    "    eq2 = ((1/3) * b ** 3 - (1/3) * a ** 3) - (w1 * x1**2 + w2 * x2**2 + w3 * x3**2)\n",
    "    \n",
    "    eq3 = ((1/4) * b ** 4 - (1/4) * a ** 4) - (w1 * x1**3 + w2 * x2**3 + w3 * x3**3)\n",
    "    \n",
    "    eq4 = ((1/5) * b ** 5 - (1/5) * a ** 5) - (w1 * x1**4 + w2 * x2**4 + w3 * x3**4)\n",
    "    \n",
    "    eq5 = ((1/6) * b ** 6 - (1/6) * a ** 6) - (w1 * x1**5 + w2 * x2**5 + w3 * x3**5)\n",
    "    \n",
    "    return (eq0, eq1, eq2, eq3, eq4, eq5)\n",
    "\n",
    "a = -10\n",
    "b = 10\n",
    "\n",
    "parameters = opt.root(equations,np.ones((6,1)), tol = 1e-8).x\n",
    "omega, Z = parameters[:3], parameters[-3:]\n",
    "\n",
    "integ_val = sum(omega[i]*g(Z[i]) for i in range(len(Z)))\n",
    "\n",
    "\n",
    "# Calculate the true known value of the integral\n",
    "import sympy as sy\n",
    "z = sy.symbols('z')\n",
    "exact=sy.integrate(0.1*z**4 - 1.5*z**3 + 0.53*z**2 + 2*z + 1, (z, a, b))\n",
    "\n",
    "\n",
    "print ('Gaussian Quadrature:       ', integ_val)\n",
    "print ('True known value:       ', exact)"
   ]
  },
  {
   "cell_type": "markdown",
   "metadata": {},
   "source": [
    "#### Question 14.6\n",
    "Use the python Gaussian quadrature command to numerically approximate integral"
   ]
  },
  {
   "cell_type": "code",
   "execution_count": 449,
   "metadata": {},
   "outputs": [
    {
     "data": {
      "text/plain": [
       "4373.333333333334"
      ]
     },
     "execution_count": 449,
     "metadata": {},
     "output_type": "execute_result"
    }
   ],
   "source": [
    "sc.integrate.quad(g, -10, 10)[0]"
   ]
  },
  {
   "cell_type": "markdown",
   "metadata": {},
   "source": [
    "#### Question 14.7\n",
    "Use Monte Carlo integration to aaproximate $\\pi$"
   ]
  },
  {
   "cell_type": "code",
   "execution_count": null,
   "metadata": {},
   "outputs": [],
   "source": [
    "import math\n",
    "\n",
    "np.random.seed(seed=25)\n",
    "\n",
    "def monte(g, domain, N):\n",
    "    draws = np.zeros((N,2))\n",
    "    monte_sum = 0\n",
    "    for i in range(N):\n",
    "        for j in range(2):\n",
    "            draws[i,j] = np.random.uniform(domain[j,0],domain[j,1])\n",
    "        monte_sum+=g(draws[i,:])\n",
    "    return (4/N)*monte_sum\n",
    "\n",
    "g = lambda x: 1 if x[0]**2+x[1]**2 <= 1 else 0\n",
    "domain = np.array([[-1,1],[-1,1]]) "
   ]
  },
  {
   "cell_type": "markdown",
   "metadata": {},
   "source": [
    "#### Question 14.8\n",
    "Define a function in that returns the  𝑛 -th element of a  𝑑 -dimensional equidistributed sequence. It should have support for the four sequences in the Table in Section 4.2."
   ]
  },
  {
   "cell_type": "code",
   "execution_count": 459,
   "metadata": {},
   "outputs": [
    {
     "name": "stdout",
     "output_type": "stream",
     "text": [
      "[0.14213562 0.32050808 0.36067977 0.45751311]\n",
      "[0.78174593 0.26279442 0.98373876 0.51632211]\n",
      "[0.65041089 0.34312522 0.08089444 0.86664898]\n",
      "[0.18281828 0.48721271 0.95612425 0.84025417]\n"
     ]
    }
   ],
   "source": [
    "import math\n",
    "\n",
    "def equid(n, d, sequence):\n",
    "    def frac(x):\n",
    "        return float(x % 1)\n",
    "    \n",
    "    dprimes = [ 2 ]\n",
    "    m = 3\n",
    "    while len(dprimes) < d:\n",
    "        for p in dprimes:\n",
    "            if m % p == 0:\n",
    "                break\n",
    "        else:\n",
    "            dprimes.append(m)\n",
    "        m += 2 \n",
    "        \n",
    "    x_n = np.zeros(d) \n",
    "     \n",
    "    # Weyl: frac(np_d^0.5)\n",
    "    if sequence == 'Weyl':\n",
    "        for i in range(d):\n",
    "            x_n[i] = frac(n * math.sqrt(dprimes[i]))\n",
    "        return x_n\n",
    "    # Haber: frac(1/2 * n(n + 1) p_d^0.5)\n",
    "    elif sequence == 'Haber':\n",
    "        for i in range(d):\n",
    "            x_n[i] = frac((n * (n+1)/2) * math.sqrt(dprimes[i]))\n",
    "        return x_n\n",
    "    # Haber: frac(n * 2^(d/(n + 1)))\n",
    "    elif sequence == 'Niederreiter':\n",
    "        for i in range(d):\n",
    "            x_n[i] = frac(n * 2**((i+1)/(n+1)))\n",
    "        return x_n\n",
    "    # Haber: frac(n * e^(r_d))\n",
    "    elif sequence == 'Baker':\n",
    "        for i in range(d):\n",
    "            x_n[i] = frac(n * math.exp(1/(i+1)))\n",
    "        return x_n \n",
    "    else:\n",
    "        raise ValueError(\"Entered sequence type not valid\")\n",
    "\n",
    "        \n",
    "# The first Weyl and Harber should be the same\n",
    "print(equid(10,4,'Weyl'))\n",
    "print(equid(10,4,'Haber'))\n",
    "print(equid(10,4,'Niederreiter'))\n",
    "print(equid(10,4,'Baker'))"
   ]
  },
  {
   "cell_type": "markdown",
   "metadata": {},
   "source": [
    "#### Question 14.9\\\n",
    "approximate the value of  𝜋 , this time using quasi-Monte Carlo integration."
   ]
  },
  {
   "cell_type": "code",
   "execution_count": 463,
   "metadata": {},
   "outputs": [],
   "source": [
    "def get_primes(n):\n",
    "    def is_prime(n):\n",
    "        if n % 2 == 0 and n > 2: \n",
    "            return False\n",
    "        return all(n % i for i in range(3, int(math.sqrt(n)) + 1, 2))\n",
    "    \n",
    "    num_prime = 0\n",
    "    number = 1\n",
    "    primes = []\n",
    "    while num_prime < n:\n",
    "        \n",
    "        if is_prime(number):\n",
    "            primes.append(number)\n",
    "        \n",
    "        number +=1\n",
    "        num_prime = len(primes)\n",
    "    \n",
    "    return np.asarray(primes)"
   ]
  },
  {
   "cell_type": "code",
   "execution_count": 464,
   "metadata": {},
   "outputs": [],
   "source": [
    "domain = np.array([[-1, 1], [-1, 1]])\n",
    "N = 100\n",
    "\n",
    "def mc_int_eqi(g, domain_x, N):\n",
    "    \n",
    "    V = np.prod(np.diff(domain, axis=1))\n",
    "    num_vars = len(domain_x)\n",
    "    g_vec = np.empty(N)\n",
    "    new_x = Haber(N, num_vars)\n",
    "    g_vec = g(new_x)\n",
    "    \n",
    "    integral = g_vec.sum() * (V/N)\n",
    "    \n",
    "    return integral"
   ]
  },
  {
   "cell_type": "code",
   "execution_count": 465,
   "metadata": {},
   "outputs": [
    {
     "ename": "NameError",
     "evalue": "name 'is_prime' is not defined",
     "output_type": "error",
     "traceback": [
      "\u001b[1;31m---------------------------------------------------------------------------\u001b[0m",
      "\u001b[1;31mNameError\u001b[0m                                 Traceback (most recent call last)",
      "\u001b[1;32m<ipython-input-465-546ab3d986a2>\u001b[0m in \u001b[0;36m<module>\u001b[1;34m\u001b[0m\n\u001b[0;32m      1\u001b[0m \u001b[0mN\u001b[0m \u001b[1;33m=\u001b[0m \u001b[1;36m100000\u001b[0m\u001b[1;33m\u001b[0m\u001b[1;33m\u001b[0m\u001b[0m\n\u001b[1;32m----> 2\u001b[1;33m \u001b[0mmc_int_eqi\u001b[0m\u001b[1;33m(\u001b[0m\u001b[0mg\u001b[0m\u001b[1;33m,\u001b[0m \u001b[0mdomain\u001b[0m\u001b[1;33m,\u001b[0m \u001b[0mN\u001b[0m\u001b[1;33m)\u001b[0m\u001b[1;33m\u001b[0m\u001b[1;33m\u001b[0m\u001b[0m\n\u001b[0m",
      "\u001b[1;32m<ipython-input-464-c5bacb8f37ef>\u001b[0m in \u001b[0;36mmc_int_eqi\u001b[1;34m(g, domain_x, N)\u001b[0m\n\u001b[0;32m      8\u001b[0m     \u001b[0mnum_vars\u001b[0m \u001b[1;33m=\u001b[0m \u001b[0mlen\u001b[0m\u001b[1;33m(\u001b[0m\u001b[0mdomain_x\u001b[0m\u001b[1;33m)\u001b[0m\u001b[1;33m\u001b[0m\u001b[1;33m\u001b[0m\u001b[0m\n\u001b[0;32m      9\u001b[0m     \u001b[0mg_vec\u001b[0m \u001b[1;33m=\u001b[0m \u001b[0mnp\u001b[0m\u001b[1;33m.\u001b[0m\u001b[0mempty\u001b[0m\u001b[1;33m(\u001b[0m\u001b[0mN\u001b[0m\u001b[1;33m)\u001b[0m\u001b[1;33m\u001b[0m\u001b[1;33m\u001b[0m\u001b[0m\n\u001b[1;32m---> 10\u001b[1;33m     \u001b[0mnew_x\u001b[0m \u001b[1;33m=\u001b[0m \u001b[0mHaber\u001b[0m\u001b[1;33m(\u001b[0m\u001b[0mN\u001b[0m\u001b[1;33m,\u001b[0m \u001b[0mnum_vars\u001b[0m\u001b[1;33m)\u001b[0m\u001b[1;33m\u001b[0m\u001b[1;33m\u001b[0m\u001b[0m\n\u001b[0m\u001b[0;32m     11\u001b[0m     \u001b[0mg_vec\u001b[0m \u001b[1;33m=\u001b[0m \u001b[0mg\u001b[0m\u001b[1;33m(\u001b[0m\u001b[0mnew_x\u001b[0m\u001b[1;33m)\u001b[0m\u001b[1;33m\u001b[0m\u001b[1;33m\u001b[0m\u001b[0m\n\u001b[0;32m     12\u001b[0m \u001b[1;33m\u001b[0m\u001b[0m\n",
      "\u001b[1;32m<ipython-input-455-40c6d8e9aa98>\u001b[0m in \u001b[0;36mHaber\u001b[1;34m(n, s)\u001b[0m\n\u001b[0;32m     16\u001b[0m \u001b[1;32mdef\u001b[0m \u001b[0mHaber\u001b[0m\u001b[1;33m(\u001b[0m\u001b[0mn\u001b[0m\u001b[1;33m,\u001b[0m \u001b[0ms\u001b[0m\u001b[1;33m)\u001b[0m\u001b[1;33m:\u001b[0m\u001b[1;33m\u001b[0m\u001b[1;33m\u001b[0m\u001b[0m\n\u001b[0;32m     17\u001b[0m     \u001b[0mprimes\u001b[0m \u001b[1;33m=\u001b[0m \u001b[0mget_primes\u001b[0m\u001b[1;33m(\u001b[0m\u001b[0ms\u001b[0m\u001b[1;33m)\u001b[0m\u001b[1;33m\u001b[0m\u001b[1;33m\u001b[0m\u001b[0m\n\u001b[1;32m---> 18\u001b[1;33m     \u001b[0mfoo\u001b[0m \u001b[1;33m=\u001b[0m \u001b[0mnp\u001b[0m\u001b[1;33m.\u001b[0m\u001b[0mvectorize\u001b[0m\u001b[1;33m(\u001b[0m\u001b[0mis_prime\u001b[0m\u001b[1;33m)\u001b[0m\u001b[1;33m\u001b[0m\u001b[1;33m\u001b[0m\u001b[0m\n\u001b[0m\u001b[0;32m     19\u001b[0m     \u001b[0mpbools\u001b[0m \u001b[1;33m=\u001b[0m \u001b[0mfoo\u001b[0m\u001b[1;33m(\u001b[0m\u001b[0ma\u001b[0m\u001b[1;33m)\u001b[0m\u001b[1;33m\u001b[0m\u001b[1;33m\u001b[0m\u001b[0m\n\u001b[0;32m     20\u001b[0m     \u001b[0mprimes\u001b[0m \u001b[1;33m=\u001b[0m \u001b[0mnp\u001b[0m\u001b[1;33m.\u001b[0m\u001b[0mextract\u001b[0m\u001b[1;33m(\u001b[0m\u001b[0mpbools\u001b[0m\u001b[1;33m,\u001b[0m \u001b[0ma\u001b[0m\u001b[1;33m)\u001b[0m\u001b[1;33m\u001b[0m\u001b[1;33m\u001b[0m\u001b[0m\n",
      "\u001b[1;31mNameError\u001b[0m: name 'is_prime' is not defined"
     ]
    }
   ],
   "source": [
    "N = 100000\n",
    "mc_int_eqi(g, domain, N)"
   ]
  },
  {
   "cell_type": "code",
   "execution_count": null,
   "metadata": {},
   "outputs": [],
   "source": []
  },
  {
   "cell_type": "code",
   "execution_count": null,
   "metadata": {},
   "outputs": [],
   "source": []
  }
 ],
 "metadata": {
  "kernelspec": {
   "display_name": "Python 3",
   "language": "python",
   "name": "python3"
  },
  "language_info": {
   "codemirror_mode": {
    "name": "ipython",
    "version": 3
   },
   "file_extension": ".py",
   "mimetype": "text/x-python",
   "name": "python",
   "nbconvert_exporter": "python",
   "pygments_lexer": "ipython3",
   "version": "3.7.1"
  }
 },
 "nbformat": 4,
 "nbformat_minor": 2
}
